{
  "nbformat": 4,
  "nbformat_minor": 0,
  "metadata": {
    "colab": {
      "name": "tt.ipynb",
      "provenance": [],
      "collapsed_sections": [],
      "toc_visible": true
    },
    "kernelspec": {
      "name": "python3",
      "display_name": "Python 3"
    },
    "language_info": {
      "name": "python"
    }
  },
  "cells": [
    {
      "cell_type": "code",
      "source": [
        "import requests\n",
        "import json\n",
        "import time\n",
        "import pandas as pd\n",
        "import numpy as np"
      ],
      "metadata": {
        "id": "VKm8MGOglvOx"
      },
      "execution_count": 8,
      "outputs": []
    },
    {
      "cell_type": "code",
      "source": [
        "dat=requests.get('https://api.covid19tracker.in/data/static/timeseries.min.json')\n",
        "dat"
      ],
      "metadata": {
        "colab": {
          "base_uri": "https://localhost:8080/"
        },
        "id": "5H5_oLZyJ1lV",
        "outputId": "1e8baff2-e26e-4cf3-b926-74a2046d87ae"
      },
      "execution_count": 9,
      "outputs": [
        {
          "output_type": "execute_result",
          "data": {
            "text/plain": [
              "<Response [200]>"
            ]
          },
          "metadata": {},
          "execution_count": 9
        }
      ]
    },
    {
      "cell_type": "code",
      "source": [
        "data=json.loads(dat.content)"
      ],
      "metadata": {
        "id": "bkccXAjaYv4_"
      },
      "execution_count": 10,
      "outputs": []
    },
    {
      "cell_type": "code",
      "source": [
        "TT=data['TT']['dates']\n",
        "for i in TT:\n",
        "    del data['TT']['dates'][i]['delta']\n",
        "    del data['TT']['dates'][i]['delta7']"
      ],
      "metadata": {
        "id": "GDgMINfwYtYx"
      },
      "execution_count": 11,
      "outputs": []
    },
    {
      "cell_type": "code",
      "source": [
        ""
      ],
      "metadata": {
        "id": "St2GFEzW3mFu",
        "colab": {
          "base_uri": "https://localhost:8080/",
          "height": 224
        },
        "outputId": "52589971-0602-4c08-eb6a-1dec15472c10"
      },
      "execution_count": null,
      "outputs": [
        {
          "output_type": "error",
          "ename": "KeyError",
          "evalue": "ignored",
          "traceback": [
            "\u001b[0;31m---------------------------------------------------------------------------\u001b[0m",
            "\u001b[0;31mKeyError\u001b[0m                                  Traceback (most recent call last)",
            "\u001b[0;32m<ipython-input-6-472f41f20c6d>\u001b[0m in \u001b[0;36m<module>\u001b[0;34m()\u001b[0m\n\u001b[1;32m      1\u001b[0m \u001b[0mTT\u001b[0m\u001b[0;34m=\u001b[0m\u001b[0mdata\u001b[0m\u001b[0;34m[\u001b[0m\u001b[0;34m'TT'\u001b[0m\u001b[0;34m]\u001b[0m\u001b[0;34m[\u001b[0m\u001b[0;34m'dates'\u001b[0m\u001b[0;34m]\u001b[0m\u001b[0;34m\u001b[0m\u001b[0;34m\u001b[0m\u001b[0m\n\u001b[1;32m      2\u001b[0m \u001b[0;32mfor\u001b[0m \u001b[0mi\u001b[0m \u001b[0;32min\u001b[0m \u001b[0mTT\u001b[0m\u001b[0;34m:\u001b[0m\u001b[0;34m\u001b[0m\u001b[0;34m\u001b[0m\u001b[0m\n\u001b[0;32m----> 3\u001b[0;31m     \u001b[0;32mdel\u001b[0m \u001b[0mdata\u001b[0m\u001b[0;34m[\u001b[0m\u001b[0;34m'TT'\u001b[0m\u001b[0;34m]\u001b[0m\u001b[0;34m[\u001b[0m\u001b[0;34m'dates'\u001b[0m\u001b[0;34m]\u001b[0m\u001b[0;34m[\u001b[0m\u001b[0mi\u001b[0m\u001b[0;34m]\u001b[0m\u001b[0;34m[\u001b[0m\u001b[0;34m'delta'\u001b[0m\u001b[0;34m]\u001b[0m\u001b[0;34m\u001b[0m\u001b[0;34m\u001b[0m\u001b[0m\n\u001b[0m\u001b[1;32m      4\u001b[0m     \u001b[0;32mdel\u001b[0m \u001b[0mdata\u001b[0m\u001b[0;34m[\u001b[0m\u001b[0;34m'TT'\u001b[0m\u001b[0;34m]\u001b[0m\u001b[0;34m[\u001b[0m\u001b[0;34m'dates'\u001b[0m\u001b[0;34m]\u001b[0m\u001b[0;34m[\u001b[0m\u001b[0mi\u001b[0m\u001b[0;34m]\u001b[0m\u001b[0;34m[\u001b[0m\u001b[0;34m'delta7'\u001b[0m\u001b[0;34m]\u001b[0m\u001b[0;34m\u001b[0m\u001b[0;34m\u001b[0m\u001b[0m\n",
            "\u001b[0;31mKeyError\u001b[0m: 'delta'"
          ]
        }
      ]
    },
    {
      "cell_type": "code",
      "source": [
        "TT_dict = {}\n",
        "for outerKey, innerDict in TT.items():\n",
        "    for innerKey, values in innerDict.items():\n",
        "        TT_dict[(outerKey,innerKey)] = values\n",
        "        \n",
        "TT_df = pd.DataFrame(TT_dict)\n",
        "TT1=TT_df.T\n",
        "TT1.head()"
      ],
      "metadata": {
        "id": "7UlgXHMF3w1l",
        "colab": {
          "base_uri": "https://localhost:8080/",
          "height": 206
        },
        "outputId": "2a8ae9dd-f56e-4587-a336-b5d9db1a2378"
      },
      "execution_count": 13,
      "outputs": [
        {
          "output_type": "execute_result",
          "data": {
            "text/plain": [
              "                  confirmed  deceased  recovered  vaccinated1  vaccinated2  \\\n",
              "2020-01-30 total          1         0          0            0            0   \n",
              "2020-02-02 total          2         0          0            0            0   \n",
              "2020-02-03 total          3         0          0            0            0   \n",
              "2020-02-14 total          3         0          3            0            0   \n",
              "2020-03-02 total          5         0          3            0            0   \n",
              "\n",
              "                  vaccinatedpd  tested  other  \n",
              "2020-01-30 total             0       0      0  \n",
              "2020-02-02 total             0       0      0  \n",
              "2020-02-03 total             0       0      0  \n",
              "2020-02-14 total             0       0      0  \n",
              "2020-03-02 total             0       0      0  "
            ],
            "text/html": [
              "\n",
              "  <div id=\"df-da6be975-3926-4166-b79c-d597e9f0d5ae\">\n",
              "    <div class=\"colab-df-container\">\n",
              "      <div>\n",
              "<style scoped>\n",
              "    .dataframe tbody tr th:only-of-type {\n",
              "        vertical-align: middle;\n",
              "    }\n",
              "\n",
              "    .dataframe tbody tr th {\n",
              "        vertical-align: top;\n",
              "    }\n",
              "\n",
              "    .dataframe thead th {\n",
              "        text-align: right;\n",
              "    }\n",
              "</style>\n",
              "<table border=\"1\" class=\"dataframe\">\n",
              "  <thead>\n",
              "    <tr style=\"text-align: right;\">\n",
              "      <th></th>\n",
              "      <th></th>\n",
              "      <th>confirmed</th>\n",
              "      <th>deceased</th>\n",
              "      <th>recovered</th>\n",
              "      <th>vaccinated1</th>\n",
              "      <th>vaccinated2</th>\n",
              "      <th>vaccinatedpd</th>\n",
              "      <th>tested</th>\n",
              "      <th>other</th>\n",
              "    </tr>\n",
              "  </thead>\n",
              "  <tbody>\n",
              "    <tr>\n",
              "      <th>2020-01-30</th>\n",
              "      <th>total</th>\n",
              "      <td>1</td>\n",
              "      <td>0</td>\n",
              "      <td>0</td>\n",
              "      <td>0</td>\n",
              "      <td>0</td>\n",
              "      <td>0</td>\n",
              "      <td>0</td>\n",
              "      <td>0</td>\n",
              "    </tr>\n",
              "    <tr>\n",
              "      <th>2020-02-02</th>\n",
              "      <th>total</th>\n",
              "      <td>2</td>\n",
              "      <td>0</td>\n",
              "      <td>0</td>\n",
              "      <td>0</td>\n",
              "      <td>0</td>\n",
              "      <td>0</td>\n",
              "      <td>0</td>\n",
              "      <td>0</td>\n",
              "    </tr>\n",
              "    <tr>\n",
              "      <th>2020-02-03</th>\n",
              "      <th>total</th>\n",
              "      <td>3</td>\n",
              "      <td>0</td>\n",
              "      <td>0</td>\n",
              "      <td>0</td>\n",
              "      <td>0</td>\n",
              "      <td>0</td>\n",
              "      <td>0</td>\n",
              "      <td>0</td>\n",
              "    </tr>\n",
              "    <tr>\n",
              "      <th>2020-02-14</th>\n",
              "      <th>total</th>\n",
              "      <td>3</td>\n",
              "      <td>0</td>\n",
              "      <td>3</td>\n",
              "      <td>0</td>\n",
              "      <td>0</td>\n",
              "      <td>0</td>\n",
              "      <td>0</td>\n",
              "      <td>0</td>\n",
              "    </tr>\n",
              "    <tr>\n",
              "      <th>2020-03-02</th>\n",
              "      <th>total</th>\n",
              "      <td>5</td>\n",
              "      <td>0</td>\n",
              "      <td>3</td>\n",
              "      <td>0</td>\n",
              "      <td>0</td>\n",
              "      <td>0</td>\n",
              "      <td>0</td>\n",
              "      <td>0</td>\n",
              "    </tr>\n",
              "  </tbody>\n",
              "</table>\n",
              "</div>\n",
              "      <button class=\"colab-df-convert\" onclick=\"convertToInteractive('df-da6be975-3926-4166-b79c-d597e9f0d5ae')\"\n",
              "              title=\"Convert this dataframe to an interactive table.\"\n",
              "              style=\"display:none;\">\n",
              "        \n",
              "  <svg xmlns=\"http://www.w3.org/2000/svg\" height=\"24px\"viewBox=\"0 0 24 24\"\n",
              "       width=\"24px\">\n",
              "    <path d=\"M0 0h24v24H0V0z\" fill=\"none\"/>\n",
              "    <path d=\"M18.56 5.44l.94 2.06.94-2.06 2.06-.94-2.06-.94-.94-2.06-.94 2.06-2.06.94zm-11 1L8.5 8.5l.94-2.06 2.06-.94-2.06-.94L8.5 2.5l-.94 2.06-2.06.94zm10 10l.94 2.06.94-2.06 2.06-.94-2.06-.94-.94-2.06-.94 2.06-2.06.94z\"/><path d=\"M17.41 7.96l-1.37-1.37c-.4-.4-.92-.59-1.43-.59-.52 0-1.04.2-1.43.59L10.3 9.45l-7.72 7.72c-.78.78-.78 2.05 0 2.83L4 21.41c.39.39.9.59 1.41.59.51 0 1.02-.2 1.41-.59l7.78-7.78 2.81-2.81c.8-.78.8-2.07 0-2.86zM5.41 20L4 18.59l7.72-7.72 1.47 1.35L5.41 20z\"/>\n",
              "  </svg>\n",
              "      </button>\n",
              "      \n",
              "  <style>\n",
              "    .colab-df-container {\n",
              "      display:flex;\n",
              "      flex-wrap:wrap;\n",
              "      gap: 12px;\n",
              "    }\n",
              "\n",
              "    .colab-df-convert {\n",
              "      background-color: #E8F0FE;\n",
              "      border: none;\n",
              "      border-radius: 50%;\n",
              "      cursor: pointer;\n",
              "      display: none;\n",
              "      fill: #1967D2;\n",
              "      height: 32px;\n",
              "      padding: 0 0 0 0;\n",
              "      width: 32px;\n",
              "    }\n",
              "\n",
              "    .colab-df-convert:hover {\n",
              "      background-color: #E2EBFA;\n",
              "      box-shadow: 0px 1px 2px rgba(60, 64, 67, 0.3), 0px 1px 3px 1px rgba(60, 64, 67, 0.15);\n",
              "      fill: #174EA6;\n",
              "    }\n",
              "\n",
              "    [theme=dark] .colab-df-convert {\n",
              "      background-color: #3B4455;\n",
              "      fill: #D2E3FC;\n",
              "    }\n",
              "\n",
              "    [theme=dark] .colab-df-convert:hover {\n",
              "      background-color: #434B5C;\n",
              "      box-shadow: 0px 1px 3px 1px rgba(0, 0, 0, 0.15);\n",
              "      filter: drop-shadow(0px 1px 2px rgba(0, 0, 0, 0.3));\n",
              "      fill: #FFFFFF;\n",
              "    }\n",
              "  </style>\n",
              "\n",
              "      <script>\n",
              "        const buttonEl =\n",
              "          document.querySelector('#df-da6be975-3926-4166-b79c-d597e9f0d5ae button.colab-df-convert');\n",
              "        buttonEl.style.display =\n",
              "          google.colab.kernel.accessAllowed ? 'block' : 'none';\n",
              "\n",
              "        async function convertToInteractive(key) {\n",
              "          const element = document.querySelector('#df-da6be975-3926-4166-b79c-d597e9f0d5ae');\n",
              "          const dataTable =\n",
              "            await google.colab.kernel.invokeFunction('convertToInteractive',\n",
              "                                                     [key], {});\n",
              "          if (!dataTable) return;\n",
              "\n",
              "          const docLinkHtml = 'Like what you see? Visit the ' +\n",
              "            '<a target=\"_blank\" href=https://colab.research.google.com/notebooks/data_table.ipynb>data table notebook</a>'\n",
              "            + ' to learn more about interactive tables.';\n",
              "          element.innerHTML = '';\n",
              "          dataTable['output_type'] = 'display_data';\n",
              "          await google.colab.output.renderOutput(dataTable, element);\n",
              "          const docLink = document.createElement('div');\n",
              "          docLink.innerHTML = docLinkHtml;\n",
              "          element.appendChild(docLink);\n",
              "        }\n",
              "      </script>\n",
              "    </div>\n",
              "  </div>\n",
              "  "
            ]
          },
          "metadata": {},
          "execution_count": 13
        }
      ]
    },
    {
      "cell_type": "code",
      "source": [
        "TT1.tail()"
      ],
      "metadata": {
        "id": "lBRYLswf3_Yi",
        "colab": {
          "base_uri": "https://localhost:8080/",
          "height": 206
        },
        "outputId": "f042388d-d8e5-4f41-a2f7-66a2b1e07b7d"
      },
      "execution_count": null,
      "outputs": [
        {
          "output_type": "execute_result",
          "data": {
            "text/plain": [
              "                  confirmed  deceased  recovered  vaccinated1  vaccinated2  \\\n",
              "2022-08-04 total   44099494    527313   43424020   1013669618    925891090   \n",
              "2022-08-05 total   44117906    527350   43443119   1013823472    926311969   \n",
              "2022-08-06 total   44135119    527382   43460798   1013966372    926697971   \n",
              "2022-08-07 total   44150240    527408   43475521   1014103840    927186382   \n",
              "2022-08-08 total   44156176    527424   43483873   1014103840    927186382   \n",
              "\n",
              "                  vaccinatedpd     tested  other  \n",
              "2022-08-04 total      99142477  881808467  13197  \n",
              "2022-08-05 total     101804345  882254181  13197  \n",
              "2022-08-06 total     104169238  882694654  13197  \n",
              "2022-08-07 total     106859639  883074539  13197  \n",
              "2022-08-08 total     106859639  883182319  13197  "
            ],
            "text/html": [
              "\n",
              "  <div id=\"df-0e4d9a4e-6341-45b9-8bc7-eff271594091\">\n",
              "    <div class=\"colab-df-container\">\n",
              "      <div>\n",
              "<style scoped>\n",
              "    .dataframe tbody tr th:only-of-type {\n",
              "        vertical-align: middle;\n",
              "    }\n",
              "\n",
              "    .dataframe tbody tr th {\n",
              "        vertical-align: top;\n",
              "    }\n",
              "\n",
              "    .dataframe thead th {\n",
              "        text-align: right;\n",
              "    }\n",
              "</style>\n",
              "<table border=\"1\" class=\"dataframe\">\n",
              "  <thead>\n",
              "    <tr style=\"text-align: right;\">\n",
              "      <th></th>\n",
              "      <th></th>\n",
              "      <th>confirmed</th>\n",
              "      <th>deceased</th>\n",
              "      <th>recovered</th>\n",
              "      <th>vaccinated1</th>\n",
              "      <th>vaccinated2</th>\n",
              "      <th>vaccinatedpd</th>\n",
              "      <th>tested</th>\n",
              "      <th>other</th>\n",
              "    </tr>\n",
              "  </thead>\n",
              "  <tbody>\n",
              "    <tr>\n",
              "      <th>2022-08-04</th>\n",
              "      <th>total</th>\n",
              "      <td>44099494</td>\n",
              "      <td>527313</td>\n",
              "      <td>43424020</td>\n",
              "      <td>1013669618</td>\n",
              "      <td>925891090</td>\n",
              "      <td>99142477</td>\n",
              "      <td>881808467</td>\n",
              "      <td>13197</td>\n",
              "    </tr>\n",
              "    <tr>\n",
              "      <th>2022-08-05</th>\n",
              "      <th>total</th>\n",
              "      <td>44117906</td>\n",
              "      <td>527350</td>\n",
              "      <td>43443119</td>\n",
              "      <td>1013823472</td>\n",
              "      <td>926311969</td>\n",
              "      <td>101804345</td>\n",
              "      <td>882254181</td>\n",
              "      <td>13197</td>\n",
              "    </tr>\n",
              "    <tr>\n",
              "      <th>2022-08-06</th>\n",
              "      <th>total</th>\n",
              "      <td>44135119</td>\n",
              "      <td>527382</td>\n",
              "      <td>43460798</td>\n",
              "      <td>1013966372</td>\n",
              "      <td>926697971</td>\n",
              "      <td>104169238</td>\n",
              "      <td>882694654</td>\n",
              "      <td>13197</td>\n",
              "    </tr>\n",
              "    <tr>\n",
              "      <th>2022-08-07</th>\n",
              "      <th>total</th>\n",
              "      <td>44150240</td>\n",
              "      <td>527408</td>\n",
              "      <td>43475521</td>\n",
              "      <td>1014103840</td>\n",
              "      <td>927186382</td>\n",
              "      <td>106859639</td>\n",
              "      <td>883074539</td>\n",
              "      <td>13197</td>\n",
              "    </tr>\n",
              "    <tr>\n",
              "      <th>2022-08-08</th>\n",
              "      <th>total</th>\n",
              "      <td>44156176</td>\n",
              "      <td>527424</td>\n",
              "      <td>43483873</td>\n",
              "      <td>1014103840</td>\n",
              "      <td>927186382</td>\n",
              "      <td>106859639</td>\n",
              "      <td>883182319</td>\n",
              "      <td>13197</td>\n",
              "    </tr>\n",
              "  </tbody>\n",
              "</table>\n",
              "</div>\n",
              "      <button class=\"colab-df-convert\" onclick=\"convertToInteractive('df-0e4d9a4e-6341-45b9-8bc7-eff271594091')\"\n",
              "              title=\"Convert this dataframe to an interactive table.\"\n",
              "              style=\"display:none;\">\n",
              "        \n",
              "  <svg xmlns=\"http://www.w3.org/2000/svg\" height=\"24px\"viewBox=\"0 0 24 24\"\n",
              "       width=\"24px\">\n",
              "    <path d=\"M0 0h24v24H0V0z\" fill=\"none\"/>\n",
              "    <path d=\"M18.56 5.44l.94 2.06.94-2.06 2.06-.94-2.06-.94-.94-2.06-.94 2.06-2.06.94zm-11 1L8.5 8.5l.94-2.06 2.06-.94-2.06-.94L8.5 2.5l-.94 2.06-2.06.94zm10 10l.94 2.06.94-2.06 2.06-.94-2.06-.94-.94-2.06-.94 2.06-2.06.94z\"/><path d=\"M17.41 7.96l-1.37-1.37c-.4-.4-.92-.59-1.43-.59-.52 0-1.04.2-1.43.59L10.3 9.45l-7.72 7.72c-.78.78-.78 2.05 0 2.83L4 21.41c.39.39.9.59 1.41.59.51 0 1.02-.2 1.41-.59l7.78-7.78 2.81-2.81c.8-.78.8-2.07 0-2.86zM5.41 20L4 18.59l7.72-7.72 1.47 1.35L5.41 20z\"/>\n",
              "  </svg>\n",
              "      </button>\n",
              "      \n",
              "  <style>\n",
              "    .colab-df-container {\n",
              "      display:flex;\n",
              "      flex-wrap:wrap;\n",
              "      gap: 12px;\n",
              "    }\n",
              "\n",
              "    .colab-df-convert {\n",
              "      background-color: #E8F0FE;\n",
              "      border: none;\n",
              "      border-radius: 50%;\n",
              "      cursor: pointer;\n",
              "      display: none;\n",
              "      fill: #1967D2;\n",
              "      height: 32px;\n",
              "      padding: 0 0 0 0;\n",
              "      width: 32px;\n",
              "    }\n",
              "\n",
              "    .colab-df-convert:hover {\n",
              "      background-color: #E2EBFA;\n",
              "      box-shadow: 0px 1px 2px rgba(60, 64, 67, 0.3), 0px 1px 3px 1px rgba(60, 64, 67, 0.15);\n",
              "      fill: #174EA6;\n",
              "    }\n",
              "\n",
              "    [theme=dark] .colab-df-convert {\n",
              "      background-color: #3B4455;\n",
              "      fill: #D2E3FC;\n",
              "    }\n",
              "\n",
              "    [theme=dark] .colab-df-convert:hover {\n",
              "      background-color: #434B5C;\n",
              "      box-shadow: 0px 1px 3px 1px rgba(0, 0, 0, 0.15);\n",
              "      filter: drop-shadow(0px 1px 2px rgba(0, 0, 0, 0.3));\n",
              "      fill: #FFFFFF;\n",
              "    }\n",
              "  </style>\n",
              "\n",
              "      <script>\n",
              "        const buttonEl =\n",
              "          document.querySelector('#df-0e4d9a4e-6341-45b9-8bc7-eff271594091 button.colab-df-convert');\n",
              "        buttonEl.style.display =\n",
              "          google.colab.kernel.accessAllowed ? 'block' : 'none';\n",
              "\n",
              "        async function convertToInteractive(key) {\n",
              "          const element = document.querySelector('#df-0e4d9a4e-6341-45b9-8bc7-eff271594091');\n",
              "          const dataTable =\n",
              "            await google.colab.kernel.invokeFunction('convertToInteractive',\n",
              "                                                     [key], {});\n",
              "          if (!dataTable) return;\n",
              "\n",
              "          const docLinkHtml = 'Like what you see? Visit the ' +\n",
              "            '<a target=\"_blank\" href=https://colab.research.google.com/notebooks/data_table.ipynb>data table notebook</a>'\n",
              "            + ' to learn more about interactive tables.';\n",
              "          element.innerHTML = '';\n",
              "          dataTable['output_type'] = 'display_data';\n",
              "          await google.colab.output.renderOutput(dataTable, element);\n",
              "          const docLink = document.createElement('div');\n",
              "          docLink.innerHTML = docLinkHtml;\n",
              "          element.appendChild(docLink);\n",
              "        }\n",
              "      </script>\n",
              "    </div>\n",
              "  </div>\n",
              "  "
            ]
          },
          "metadata": {},
          "execution_count": 7
        }
      ]
    },
    {
      "cell_type": "code",
      "source": [
        "TT_con=TT1['confirmed']\n",
        "TT_con=pd.DataFrame(TT_con)\n",
        "TT_con.drop(['2020-01-30'],axis=0,inplace=True)\n",
        "TT_con=TT_con.reset_index(drop=True)\n",
        "TT_con.head()"
      ],
      "metadata": {
        "id": "Gncu6-Qt4EMW",
        "colab": {
          "base_uri": "https://localhost:8080/",
          "height": 206
        },
        "outputId": "3421af5a-b044-4cae-c41c-2d5b2bf22940"
      },
      "execution_count": 14,
      "outputs": [
        {
          "output_type": "execute_result",
          "data": {
            "text/plain": [
              "   confirmed\n",
              "0          2\n",
              "1          3\n",
              "2          3\n",
              "3          5\n",
              "4          6"
            ],
            "text/html": [
              "\n",
              "  <div id=\"df-72d9ebc9-9460-4c9a-aae1-e4cedf20d40b\">\n",
              "    <div class=\"colab-df-container\">\n",
              "      <div>\n",
              "<style scoped>\n",
              "    .dataframe tbody tr th:only-of-type {\n",
              "        vertical-align: middle;\n",
              "    }\n",
              "\n",
              "    .dataframe tbody tr th {\n",
              "        vertical-align: top;\n",
              "    }\n",
              "\n",
              "    .dataframe thead th {\n",
              "        text-align: right;\n",
              "    }\n",
              "</style>\n",
              "<table border=\"1\" class=\"dataframe\">\n",
              "  <thead>\n",
              "    <tr style=\"text-align: right;\">\n",
              "      <th></th>\n",
              "      <th>confirmed</th>\n",
              "    </tr>\n",
              "  </thead>\n",
              "  <tbody>\n",
              "    <tr>\n",
              "      <th>0</th>\n",
              "      <td>2</td>\n",
              "    </tr>\n",
              "    <tr>\n",
              "      <th>1</th>\n",
              "      <td>3</td>\n",
              "    </tr>\n",
              "    <tr>\n",
              "      <th>2</th>\n",
              "      <td>3</td>\n",
              "    </tr>\n",
              "    <tr>\n",
              "      <th>3</th>\n",
              "      <td>5</td>\n",
              "    </tr>\n",
              "    <tr>\n",
              "      <th>4</th>\n",
              "      <td>6</td>\n",
              "    </tr>\n",
              "  </tbody>\n",
              "</table>\n",
              "</div>\n",
              "      <button class=\"colab-df-convert\" onclick=\"convertToInteractive('df-72d9ebc9-9460-4c9a-aae1-e4cedf20d40b')\"\n",
              "              title=\"Convert this dataframe to an interactive table.\"\n",
              "              style=\"display:none;\">\n",
              "        \n",
              "  <svg xmlns=\"http://www.w3.org/2000/svg\" height=\"24px\"viewBox=\"0 0 24 24\"\n",
              "       width=\"24px\">\n",
              "    <path d=\"M0 0h24v24H0V0z\" fill=\"none\"/>\n",
              "    <path d=\"M18.56 5.44l.94 2.06.94-2.06 2.06-.94-2.06-.94-.94-2.06-.94 2.06-2.06.94zm-11 1L8.5 8.5l.94-2.06 2.06-.94-2.06-.94L8.5 2.5l-.94 2.06-2.06.94zm10 10l.94 2.06.94-2.06 2.06-.94-2.06-.94-.94-2.06-.94 2.06-2.06.94z\"/><path d=\"M17.41 7.96l-1.37-1.37c-.4-.4-.92-.59-1.43-.59-.52 0-1.04.2-1.43.59L10.3 9.45l-7.72 7.72c-.78.78-.78 2.05 0 2.83L4 21.41c.39.39.9.59 1.41.59.51 0 1.02-.2 1.41-.59l7.78-7.78 2.81-2.81c.8-.78.8-2.07 0-2.86zM5.41 20L4 18.59l7.72-7.72 1.47 1.35L5.41 20z\"/>\n",
              "  </svg>\n",
              "      </button>\n",
              "      \n",
              "  <style>\n",
              "    .colab-df-container {\n",
              "      display:flex;\n",
              "      flex-wrap:wrap;\n",
              "      gap: 12px;\n",
              "    }\n",
              "\n",
              "    .colab-df-convert {\n",
              "      background-color: #E8F0FE;\n",
              "      border: none;\n",
              "      border-radius: 50%;\n",
              "      cursor: pointer;\n",
              "      display: none;\n",
              "      fill: #1967D2;\n",
              "      height: 32px;\n",
              "      padding: 0 0 0 0;\n",
              "      width: 32px;\n",
              "    }\n",
              "\n",
              "    .colab-df-convert:hover {\n",
              "      background-color: #E2EBFA;\n",
              "      box-shadow: 0px 1px 2px rgba(60, 64, 67, 0.3), 0px 1px 3px 1px rgba(60, 64, 67, 0.15);\n",
              "      fill: #174EA6;\n",
              "    }\n",
              "\n",
              "    [theme=dark] .colab-df-convert {\n",
              "      background-color: #3B4455;\n",
              "      fill: #D2E3FC;\n",
              "    }\n",
              "\n",
              "    [theme=dark] .colab-df-convert:hover {\n",
              "      background-color: #434B5C;\n",
              "      box-shadow: 0px 1px 3px 1px rgba(0, 0, 0, 0.15);\n",
              "      filter: drop-shadow(0px 1px 2px rgba(0, 0, 0, 0.3));\n",
              "      fill: #FFFFFF;\n",
              "    }\n",
              "  </style>\n",
              "\n",
              "      <script>\n",
              "        const buttonEl =\n",
              "          document.querySelector('#df-72d9ebc9-9460-4c9a-aae1-e4cedf20d40b button.colab-df-convert');\n",
              "        buttonEl.style.display =\n",
              "          google.colab.kernel.accessAllowed ? 'block' : 'none';\n",
              "\n",
              "        async function convertToInteractive(key) {\n",
              "          const element = document.querySelector('#df-72d9ebc9-9460-4c9a-aae1-e4cedf20d40b');\n",
              "          const dataTable =\n",
              "            await google.colab.kernel.invokeFunction('convertToInteractive',\n",
              "                                                     [key], {});\n",
              "          if (!dataTable) return;\n",
              "\n",
              "          const docLinkHtml = 'Like what you see? Visit the ' +\n",
              "            '<a target=\"_blank\" href=https://colab.research.google.com/notebooks/data_table.ipynb>data table notebook</a>'\n",
              "            + ' to learn more about interactive tables.';\n",
              "          element.innerHTML = '';\n",
              "          dataTable['output_type'] = 'display_data';\n",
              "          await google.colab.output.renderOutput(dataTable, element);\n",
              "          const docLink = document.createElement('div');\n",
              "          docLink.innerHTML = docLinkHtml;\n",
              "          element.appendChild(docLink);\n",
              "        }\n",
              "      </script>\n",
              "    </div>\n",
              "  </div>\n",
              "  "
            ]
          },
          "metadata": {},
          "execution_count": 14
        }
      ]
    },
    {
      "cell_type": "code",
      "source": [
        "TT_con.shape"
      ],
      "metadata": {
        "id": "T-H_Ga9D54NZ",
        "colab": {
          "base_uri": "https://localhost:8080/"
        },
        "outputId": "22ae291f-daf8-48a4-9462-aa1aaef84c14"
      },
      "execution_count": 15,
      "outputs": [
        {
          "output_type": "execute_result",
          "data": {
            "text/plain": [
              "(893, 1)"
            ]
          },
          "metadata": {},
          "execution_count": 15
        }
      ]
    },
    {
      "cell_type": "code",
      "source": [
        "TT_con1=TT1.drop(['confirmed'],axis=1)\n",
        "TT_con1=pd.DataFrame(TT_con1)\n",
        "TT_con1=TT_con1.reset_index(drop=True)\n",
        "TT_con1.tail()"
      ],
      "metadata": {
        "id": "CJ2U2mng4nvq",
        "colab": {
          "base_uri": "https://localhost:8080/",
          "height": 206
        },
        "outputId": "f6bb6915-a15e-44ce-ce61-a90a14b24c00"
      },
      "execution_count": 16,
      "outputs": [
        {
          "output_type": "execute_result",
          "data": {
            "text/plain": [
              "     deceased  recovered  vaccinated1  vaccinated2  vaccinatedpd     tested  \\\n",
              "889    527313   43424020   1013669618    925891090      99142477  881808467   \n",
              "890    527350   43443119   1013823472    926311969     101804345  882254181   \n",
              "891    527382   43460798   1013966372    926697971     104169238  882694654   \n",
              "892    527408   43475521   1014103840    927186382     106859639  883074539   \n",
              "893    527424   43483873   1014103840    927186382     106859639  883182319   \n",
              "\n",
              "     other  \n",
              "889  13197  \n",
              "890  13197  \n",
              "891  13197  \n",
              "892  13197  \n",
              "893  13197  "
            ],
            "text/html": [
              "\n",
              "  <div id=\"df-103625ba-4c4b-42a6-af24-32aa34b0e587\">\n",
              "    <div class=\"colab-df-container\">\n",
              "      <div>\n",
              "<style scoped>\n",
              "    .dataframe tbody tr th:only-of-type {\n",
              "        vertical-align: middle;\n",
              "    }\n",
              "\n",
              "    .dataframe tbody tr th {\n",
              "        vertical-align: top;\n",
              "    }\n",
              "\n",
              "    .dataframe thead th {\n",
              "        text-align: right;\n",
              "    }\n",
              "</style>\n",
              "<table border=\"1\" class=\"dataframe\">\n",
              "  <thead>\n",
              "    <tr style=\"text-align: right;\">\n",
              "      <th></th>\n",
              "      <th>deceased</th>\n",
              "      <th>recovered</th>\n",
              "      <th>vaccinated1</th>\n",
              "      <th>vaccinated2</th>\n",
              "      <th>vaccinatedpd</th>\n",
              "      <th>tested</th>\n",
              "      <th>other</th>\n",
              "    </tr>\n",
              "  </thead>\n",
              "  <tbody>\n",
              "    <tr>\n",
              "      <th>889</th>\n",
              "      <td>527313</td>\n",
              "      <td>43424020</td>\n",
              "      <td>1013669618</td>\n",
              "      <td>925891090</td>\n",
              "      <td>99142477</td>\n",
              "      <td>881808467</td>\n",
              "      <td>13197</td>\n",
              "    </tr>\n",
              "    <tr>\n",
              "      <th>890</th>\n",
              "      <td>527350</td>\n",
              "      <td>43443119</td>\n",
              "      <td>1013823472</td>\n",
              "      <td>926311969</td>\n",
              "      <td>101804345</td>\n",
              "      <td>882254181</td>\n",
              "      <td>13197</td>\n",
              "    </tr>\n",
              "    <tr>\n",
              "      <th>891</th>\n",
              "      <td>527382</td>\n",
              "      <td>43460798</td>\n",
              "      <td>1013966372</td>\n",
              "      <td>926697971</td>\n",
              "      <td>104169238</td>\n",
              "      <td>882694654</td>\n",
              "      <td>13197</td>\n",
              "    </tr>\n",
              "    <tr>\n",
              "      <th>892</th>\n",
              "      <td>527408</td>\n",
              "      <td>43475521</td>\n",
              "      <td>1014103840</td>\n",
              "      <td>927186382</td>\n",
              "      <td>106859639</td>\n",
              "      <td>883074539</td>\n",
              "      <td>13197</td>\n",
              "    </tr>\n",
              "    <tr>\n",
              "      <th>893</th>\n",
              "      <td>527424</td>\n",
              "      <td>43483873</td>\n",
              "      <td>1014103840</td>\n",
              "      <td>927186382</td>\n",
              "      <td>106859639</td>\n",
              "      <td>883182319</td>\n",
              "      <td>13197</td>\n",
              "    </tr>\n",
              "  </tbody>\n",
              "</table>\n",
              "</div>\n",
              "      <button class=\"colab-df-convert\" onclick=\"convertToInteractive('df-103625ba-4c4b-42a6-af24-32aa34b0e587')\"\n",
              "              title=\"Convert this dataframe to an interactive table.\"\n",
              "              style=\"display:none;\">\n",
              "        \n",
              "  <svg xmlns=\"http://www.w3.org/2000/svg\" height=\"24px\"viewBox=\"0 0 24 24\"\n",
              "       width=\"24px\">\n",
              "    <path d=\"M0 0h24v24H0V0z\" fill=\"none\"/>\n",
              "    <path d=\"M18.56 5.44l.94 2.06.94-2.06 2.06-.94-2.06-.94-.94-2.06-.94 2.06-2.06.94zm-11 1L8.5 8.5l.94-2.06 2.06-.94-2.06-.94L8.5 2.5l-.94 2.06-2.06.94zm10 10l.94 2.06.94-2.06 2.06-.94-2.06-.94-.94-2.06-.94 2.06-2.06.94z\"/><path d=\"M17.41 7.96l-1.37-1.37c-.4-.4-.92-.59-1.43-.59-.52 0-1.04.2-1.43.59L10.3 9.45l-7.72 7.72c-.78.78-.78 2.05 0 2.83L4 21.41c.39.39.9.59 1.41.59.51 0 1.02-.2 1.41-.59l7.78-7.78 2.81-2.81c.8-.78.8-2.07 0-2.86zM5.41 20L4 18.59l7.72-7.72 1.47 1.35L5.41 20z\"/>\n",
              "  </svg>\n",
              "      </button>\n",
              "      \n",
              "  <style>\n",
              "    .colab-df-container {\n",
              "      display:flex;\n",
              "      flex-wrap:wrap;\n",
              "      gap: 12px;\n",
              "    }\n",
              "\n",
              "    .colab-df-convert {\n",
              "      background-color: #E8F0FE;\n",
              "      border: none;\n",
              "      border-radius: 50%;\n",
              "      cursor: pointer;\n",
              "      display: none;\n",
              "      fill: #1967D2;\n",
              "      height: 32px;\n",
              "      padding: 0 0 0 0;\n",
              "      width: 32px;\n",
              "    }\n",
              "\n",
              "    .colab-df-convert:hover {\n",
              "      background-color: #E2EBFA;\n",
              "      box-shadow: 0px 1px 2px rgba(60, 64, 67, 0.3), 0px 1px 3px 1px rgba(60, 64, 67, 0.15);\n",
              "      fill: #174EA6;\n",
              "    }\n",
              "\n",
              "    [theme=dark] .colab-df-convert {\n",
              "      background-color: #3B4455;\n",
              "      fill: #D2E3FC;\n",
              "    }\n",
              "\n",
              "    [theme=dark] .colab-df-convert:hover {\n",
              "      background-color: #434B5C;\n",
              "      box-shadow: 0px 1px 3px 1px rgba(0, 0, 0, 0.15);\n",
              "      filter: drop-shadow(0px 1px 2px rgba(0, 0, 0, 0.3));\n",
              "      fill: #FFFFFF;\n",
              "    }\n",
              "  </style>\n",
              "\n",
              "      <script>\n",
              "        const buttonEl =\n",
              "          document.querySelector('#df-103625ba-4c4b-42a6-af24-32aa34b0e587 button.colab-df-convert');\n",
              "        buttonEl.style.display =\n",
              "          google.colab.kernel.accessAllowed ? 'block' : 'none';\n",
              "\n",
              "        async function convertToInteractive(key) {\n",
              "          const element = document.querySelector('#df-103625ba-4c4b-42a6-af24-32aa34b0e587');\n",
              "          const dataTable =\n",
              "            await google.colab.kernel.invokeFunction('convertToInteractive',\n",
              "                                                     [key], {});\n",
              "          if (!dataTable) return;\n",
              "\n",
              "          const docLinkHtml = 'Like what you see? Visit the ' +\n",
              "            '<a target=\"_blank\" href=https://colab.research.google.com/notebooks/data_table.ipynb>data table notebook</a>'\n",
              "            + ' to learn more about interactive tables.';\n",
              "          element.innerHTML = '';\n",
              "          dataTable['output_type'] = 'display_data';\n",
              "          await google.colab.output.renderOutput(dataTable, element);\n",
              "          const docLink = document.createElement('div');\n",
              "          docLink.innerHTML = docLinkHtml;\n",
              "          element.appendChild(docLink);\n",
              "        }\n",
              "      </script>\n",
              "    </div>\n",
              "  </div>\n",
              "  "
            ]
          },
          "metadata": {},
          "execution_count": 16
        }
      ]
    },
    {
      "cell_type": "code",
      "source": [
        "TT_con1.shape"
      ],
      "metadata": {
        "id": "yoVAy4fD6ALM",
        "colab": {
          "base_uri": "https://localhost:8080/"
        },
        "outputId": "6ca4b212-b53d-4038-85aa-4d80c3eab6c5"
      },
      "execution_count": 17,
      "outputs": [
        {
          "output_type": "execute_result",
          "data": {
            "text/plain": [
              "(894, 7)"
            ]
          },
          "metadata": {},
          "execution_count": 17
        }
      ]
    },
    {
      "cell_type": "code",
      "source": [
        "TT3=[TT_con,TT_con1]\n",
        "TT3=pd.concat(TT3,axis=1)\n",
        "TT3.tail()"
      ],
      "metadata": {
        "id": "yy8uBSG95iZx",
        "colab": {
          "base_uri": "https://localhost:8080/",
          "height": 206
        },
        "outputId": "59c0d4ad-c262-4608-d950-c4673ad06cca"
      },
      "execution_count": 18,
      "outputs": [
        {
          "output_type": "execute_result",
          "data": {
            "text/plain": [
              "      confirmed  deceased  recovered  vaccinated1  vaccinated2  vaccinatedpd  \\\n",
              "889  44117906.0    527313   43424020   1013669618    925891090      99142477   \n",
              "890  44135119.0    527350   43443119   1013823472    926311969     101804345   \n",
              "891  44150240.0    527382   43460798   1013966372    926697971     104169238   \n",
              "892  44156176.0    527408   43475521   1014103840    927186382     106859639   \n",
              "893         NaN    527424   43483873   1014103840    927186382     106859639   \n",
              "\n",
              "        tested  other  \n",
              "889  881808467  13197  \n",
              "890  882254181  13197  \n",
              "891  882694654  13197  \n",
              "892  883074539  13197  \n",
              "893  883182319  13197  "
            ],
            "text/html": [
              "\n",
              "  <div id=\"df-b0e08396-255f-4a1e-8173-5fab8fbb06fb\">\n",
              "    <div class=\"colab-df-container\">\n",
              "      <div>\n",
              "<style scoped>\n",
              "    .dataframe tbody tr th:only-of-type {\n",
              "        vertical-align: middle;\n",
              "    }\n",
              "\n",
              "    .dataframe tbody tr th {\n",
              "        vertical-align: top;\n",
              "    }\n",
              "\n",
              "    .dataframe thead th {\n",
              "        text-align: right;\n",
              "    }\n",
              "</style>\n",
              "<table border=\"1\" class=\"dataframe\">\n",
              "  <thead>\n",
              "    <tr style=\"text-align: right;\">\n",
              "      <th></th>\n",
              "      <th>confirmed</th>\n",
              "      <th>deceased</th>\n",
              "      <th>recovered</th>\n",
              "      <th>vaccinated1</th>\n",
              "      <th>vaccinated2</th>\n",
              "      <th>vaccinatedpd</th>\n",
              "      <th>tested</th>\n",
              "      <th>other</th>\n",
              "    </tr>\n",
              "  </thead>\n",
              "  <tbody>\n",
              "    <tr>\n",
              "      <th>889</th>\n",
              "      <td>44117906.0</td>\n",
              "      <td>527313</td>\n",
              "      <td>43424020</td>\n",
              "      <td>1013669618</td>\n",
              "      <td>925891090</td>\n",
              "      <td>99142477</td>\n",
              "      <td>881808467</td>\n",
              "      <td>13197</td>\n",
              "    </tr>\n",
              "    <tr>\n",
              "      <th>890</th>\n",
              "      <td>44135119.0</td>\n",
              "      <td>527350</td>\n",
              "      <td>43443119</td>\n",
              "      <td>1013823472</td>\n",
              "      <td>926311969</td>\n",
              "      <td>101804345</td>\n",
              "      <td>882254181</td>\n",
              "      <td>13197</td>\n",
              "    </tr>\n",
              "    <tr>\n",
              "      <th>891</th>\n",
              "      <td>44150240.0</td>\n",
              "      <td>527382</td>\n",
              "      <td>43460798</td>\n",
              "      <td>1013966372</td>\n",
              "      <td>926697971</td>\n",
              "      <td>104169238</td>\n",
              "      <td>882694654</td>\n",
              "      <td>13197</td>\n",
              "    </tr>\n",
              "    <tr>\n",
              "      <th>892</th>\n",
              "      <td>44156176.0</td>\n",
              "      <td>527408</td>\n",
              "      <td>43475521</td>\n",
              "      <td>1014103840</td>\n",
              "      <td>927186382</td>\n",
              "      <td>106859639</td>\n",
              "      <td>883074539</td>\n",
              "      <td>13197</td>\n",
              "    </tr>\n",
              "    <tr>\n",
              "      <th>893</th>\n",
              "      <td>NaN</td>\n",
              "      <td>527424</td>\n",
              "      <td>43483873</td>\n",
              "      <td>1014103840</td>\n",
              "      <td>927186382</td>\n",
              "      <td>106859639</td>\n",
              "      <td>883182319</td>\n",
              "      <td>13197</td>\n",
              "    </tr>\n",
              "  </tbody>\n",
              "</table>\n",
              "</div>\n",
              "      <button class=\"colab-df-convert\" onclick=\"convertToInteractive('df-b0e08396-255f-4a1e-8173-5fab8fbb06fb')\"\n",
              "              title=\"Convert this dataframe to an interactive table.\"\n",
              "              style=\"display:none;\">\n",
              "        \n",
              "  <svg xmlns=\"http://www.w3.org/2000/svg\" height=\"24px\"viewBox=\"0 0 24 24\"\n",
              "       width=\"24px\">\n",
              "    <path d=\"M0 0h24v24H0V0z\" fill=\"none\"/>\n",
              "    <path d=\"M18.56 5.44l.94 2.06.94-2.06 2.06-.94-2.06-.94-.94-2.06-.94 2.06-2.06.94zm-11 1L8.5 8.5l.94-2.06 2.06-.94-2.06-.94L8.5 2.5l-.94 2.06-2.06.94zm10 10l.94 2.06.94-2.06 2.06-.94-2.06-.94-.94-2.06-.94 2.06-2.06.94z\"/><path d=\"M17.41 7.96l-1.37-1.37c-.4-.4-.92-.59-1.43-.59-.52 0-1.04.2-1.43.59L10.3 9.45l-7.72 7.72c-.78.78-.78 2.05 0 2.83L4 21.41c.39.39.9.59 1.41.59.51 0 1.02-.2 1.41-.59l7.78-7.78 2.81-2.81c.8-.78.8-2.07 0-2.86zM5.41 20L4 18.59l7.72-7.72 1.47 1.35L5.41 20z\"/>\n",
              "  </svg>\n",
              "      </button>\n",
              "      \n",
              "  <style>\n",
              "    .colab-df-container {\n",
              "      display:flex;\n",
              "      flex-wrap:wrap;\n",
              "      gap: 12px;\n",
              "    }\n",
              "\n",
              "    .colab-df-convert {\n",
              "      background-color: #E8F0FE;\n",
              "      border: none;\n",
              "      border-radius: 50%;\n",
              "      cursor: pointer;\n",
              "      display: none;\n",
              "      fill: #1967D2;\n",
              "      height: 32px;\n",
              "      padding: 0 0 0 0;\n",
              "      width: 32px;\n",
              "    }\n",
              "\n",
              "    .colab-df-convert:hover {\n",
              "      background-color: #E2EBFA;\n",
              "      box-shadow: 0px 1px 2px rgba(60, 64, 67, 0.3), 0px 1px 3px 1px rgba(60, 64, 67, 0.15);\n",
              "      fill: #174EA6;\n",
              "    }\n",
              "\n",
              "    [theme=dark] .colab-df-convert {\n",
              "      background-color: #3B4455;\n",
              "      fill: #D2E3FC;\n",
              "    }\n",
              "\n",
              "    [theme=dark] .colab-df-convert:hover {\n",
              "      background-color: #434B5C;\n",
              "      box-shadow: 0px 1px 3px 1px rgba(0, 0, 0, 0.15);\n",
              "      filter: drop-shadow(0px 1px 2px rgba(0, 0, 0, 0.3));\n",
              "      fill: #FFFFFF;\n",
              "    }\n",
              "  </style>\n",
              "\n",
              "      <script>\n",
              "        const buttonEl =\n",
              "          document.querySelector('#df-b0e08396-255f-4a1e-8173-5fab8fbb06fb button.colab-df-convert');\n",
              "        buttonEl.style.display =\n",
              "          google.colab.kernel.accessAllowed ? 'block' : 'none';\n",
              "\n",
              "        async function convertToInteractive(key) {\n",
              "          const element = document.querySelector('#df-b0e08396-255f-4a1e-8173-5fab8fbb06fb');\n",
              "          const dataTable =\n",
              "            await google.colab.kernel.invokeFunction('convertToInteractive',\n",
              "                                                     [key], {});\n",
              "          if (!dataTable) return;\n",
              "\n",
              "          const docLinkHtml = 'Like what you see? Visit the ' +\n",
              "            '<a target=\"_blank\" href=https://colab.research.google.com/notebooks/data_table.ipynb>data table notebook</a>'\n",
              "            + ' to learn more about interactive tables.';\n",
              "          element.innerHTML = '';\n",
              "          dataTable['output_type'] = 'display_data';\n",
              "          await google.colab.output.renderOutput(dataTable, element);\n",
              "          const docLink = document.createElement('div');\n",
              "          docLink.innerHTML = docLinkHtml;\n",
              "          element.appendChild(docLink);\n",
              "        }\n",
              "      </script>\n",
              "    </div>\n",
              "  </div>\n",
              "  "
            ]
          },
          "metadata": {},
          "execution_count": 18
        }
      ]
    },
    {
      "cell_type": "code",
      "source": [
        "import matplotlib.pyplot as plt\n",
        "import numpy as np\n",
        "from sklearn import datasets, linear_model, metrics\n"
      ],
      "metadata": {
        "id": "4s61ylFC5vaH"
      },
      "execution_count": 19,
      "outputs": []
    },
    {
      "cell_type": "code",
      "source": [
        "TT3=TT3.iloc[0:893,:]\n",
        "TT3.tail()"
      ],
      "metadata": {
        "id": "JO4RxbG17GG4",
        "colab": {
          "base_uri": "https://localhost:8080/",
          "height": 206
        },
        "outputId": "67ad35cd-5703-42f9-b5dc-6ffec044d2c0"
      },
      "execution_count": 21,
      "outputs": [
        {
          "output_type": "execute_result",
          "data": {
            "text/plain": [
              "      confirmed  deceased  recovered  vaccinated1  vaccinated2  vaccinatedpd  \\\n",
              "888  44099494.0    527284   43411846   1013463438    925299949      96288237   \n",
              "889  44117906.0    527313   43424020   1013669618    925891090      99142477   \n",
              "890  44135119.0    527350   43443119   1013823472    926311969     101804345   \n",
              "891  44150240.0    527382   43460798   1013966372    926697971     104169238   \n",
              "892  44156176.0    527408   43475521   1014103840    927186382     106859639   \n",
              "\n",
              "        tested  other  \n",
              "888  881520423  13197  \n",
              "889  881808467  13197  \n",
              "890  882254181  13197  \n",
              "891  882694654  13197  \n",
              "892  883074539  13197  "
            ],
            "text/html": [
              "\n",
              "  <div id=\"df-a3bd97eb-f196-44a0-bbe3-c9e6989712d9\">\n",
              "    <div class=\"colab-df-container\">\n",
              "      <div>\n",
              "<style scoped>\n",
              "    .dataframe tbody tr th:only-of-type {\n",
              "        vertical-align: middle;\n",
              "    }\n",
              "\n",
              "    .dataframe tbody tr th {\n",
              "        vertical-align: top;\n",
              "    }\n",
              "\n",
              "    .dataframe thead th {\n",
              "        text-align: right;\n",
              "    }\n",
              "</style>\n",
              "<table border=\"1\" class=\"dataframe\">\n",
              "  <thead>\n",
              "    <tr style=\"text-align: right;\">\n",
              "      <th></th>\n",
              "      <th>confirmed</th>\n",
              "      <th>deceased</th>\n",
              "      <th>recovered</th>\n",
              "      <th>vaccinated1</th>\n",
              "      <th>vaccinated2</th>\n",
              "      <th>vaccinatedpd</th>\n",
              "      <th>tested</th>\n",
              "      <th>other</th>\n",
              "    </tr>\n",
              "  </thead>\n",
              "  <tbody>\n",
              "    <tr>\n",
              "      <th>888</th>\n",
              "      <td>44099494.0</td>\n",
              "      <td>527284</td>\n",
              "      <td>43411846</td>\n",
              "      <td>1013463438</td>\n",
              "      <td>925299949</td>\n",
              "      <td>96288237</td>\n",
              "      <td>881520423</td>\n",
              "      <td>13197</td>\n",
              "    </tr>\n",
              "    <tr>\n",
              "      <th>889</th>\n",
              "      <td>44117906.0</td>\n",
              "      <td>527313</td>\n",
              "      <td>43424020</td>\n",
              "      <td>1013669618</td>\n",
              "      <td>925891090</td>\n",
              "      <td>99142477</td>\n",
              "      <td>881808467</td>\n",
              "      <td>13197</td>\n",
              "    </tr>\n",
              "    <tr>\n",
              "      <th>890</th>\n",
              "      <td>44135119.0</td>\n",
              "      <td>527350</td>\n",
              "      <td>43443119</td>\n",
              "      <td>1013823472</td>\n",
              "      <td>926311969</td>\n",
              "      <td>101804345</td>\n",
              "      <td>882254181</td>\n",
              "      <td>13197</td>\n",
              "    </tr>\n",
              "    <tr>\n",
              "      <th>891</th>\n",
              "      <td>44150240.0</td>\n",
              "      <td>527382</td>\n",
              "      <td>43460798</td>\n",
              "      <td>1013966372</td>\n",
              "      <td>926697971</td>\n",
              "      <td>104169238</td>\n",
              "      <td>882694654</td>\n",
              "      <td>13197</td>\n",
              "    </tr>\n",
              "    <tr>\n",
              "      <th>892</th>\n",
              "      <td>44156176.0</td>\n",
              "      <td>527408</td>\n",
              "      <td>43475521</td>\n",
              "      <td>1014103840</td>\n",
              "      <td>927186382</td>\n",
              "      <td>106859639</td>\n",
              "      <td>883074539</td>\n",
              "      <td>13197</td>\n",
              "    </tr>\n",
              "  </tbody>\n",
              "</table>\n",
              "</div>\n",
              "      <button class=\"colab-df-convert\" onclick=\"convertToInteractive('df-a3bd97eb-f196-44a0-bbe3-c9e6989712d9')\"\n",
              "              title=\"Convert this dataframe to an interactive table.\"\n",
              "              style=\"display:none;\">\n",
              "        \n",
              "  <svg xmlns=\"http://www.w3.org/2000/svg\" height=\"24px\"viewBox=\"0 0 24 24\"\n",
              "       width=\"24px\">\n",
              "    <path d=\"M0 0h24v24H0V0z\" fill=\"none\"/>\n",
              "    <path d=\"M18.56 5.44l.94 2.06.94-2.06 2.06-.94-2.06-.94-.94-2.06-.94 2.06-2.06.94zm-11 1L8.5 8.5l.94-2.06 2.06-.94-2.06-.94L8.5 2.5l-.94 2.06-2.06.94zm10 10l.94 2.06.94-2.06 2.06-.94-2.06-.94-.94-2.06-.94 2.06-2.06.94z\"/><path d=\"M17.41 7.96l-1.37-1.37c-.4-.4-.92-.59-1.43-.59-.52 0-1.04.2-1.43.59L10.3 9.45l-7.72 7.72c-.78.78-.78 2.05 0 2.83L4 21.41c.39.39.9.59 1.41.59.51 0 1.02-.2 1.41-.59l7.78-7.78 2.81-2.81c.8-.78.8-2.07 0-2.86zM5.41 20L4 18.59l7.72-7.72 1.47 1.35L5.41 20z\"/>\n",
              "  </svg>\n",
              "      </button>\n",
              "      \n",
              "  <style>\n",
              "    .colab-df-container {\n",
              "      display:flex;\n",
              "      flex-wrap:wrap;\n",
              "      gap: 12px;\n",
              "    }\n",
              "\n",
              "    .colab-df-convert {\n",
              "      background-color: #E8F0FE;\n",
              "      border: none;\n",
              "      border-radius: 50%;\n",
              "      cursor: pointer;\n",
              "      display: none;\n",
              "      fill: #1967D2;\n",
              "      height: 32px;\n",
              "      padding: 0 0 0 0;\n",
              "      width: 32px;\n",
              "    }\n",
              "\n",
              "    .colab-df-convert:hover {\n",
              "      background-color: #E2EBFA;\n",
              "      box-shadow: 0px 1px 2px rgba(60, 64, 67, 0.3), 0px 1px 3px 1px rgba(60, 64, 67, 0.15);\n",
              "      fill: #174EA6;\n",
              "    }\n",
              "\n",
              "    [theme=dark] .colab-df-convert {\n",
              "      background-color: #3B4455;\n",
              "      fill: #D2E3FC;\n",
              "    }\n",
              "\n",
              "    [theme=dark] .colab-df-convert:hover {\n",
              "      background-color: #434B5C;\n",
              "      box-shadow: 0px 1px 3px 1px rgba(0, 0, 0, 0.15);\n",
              "      filter: drop-shadow(0px 1px 2px rgba(0, 0, 0, 0.3));\n",
              "      fill: #FFFFFF;\n",
              "    }\n",
              "  </style>\n",
              "\n",
              "      <script>\n",
              "        const buttonEl =\n",
              "          document.querySelector('#df-a3bd97eb-f196-44a0-bbe3-c9e6989712d9 button.colab-df-convert');\n",
              "        buttonEl.style.display =\n",
              "          google.colab.kernel.accessAllowed ? 'block' : 'none';\n",
              "\n",
              "        async function convertToInteractive(key) {\n",
              "          const element = document.querySelector('#df-a3bd97eb-f196-44a0-bbe3-c9e6989712d9');\n",
              "          const dataTable =\n",
              "            await google.colab.kernel.invokeFunction('convertToInteractive',\n",
              "                                                     [key], {});\n",
              "          if (!dataTable) return;\n",
              "\n",
              "          const docLinkHtml = 'Like what you see? Visit the ' +\n",
              "            '<a target=\"_blank\" href=https://colab.research.google.com/notebooks/data_table.ipynb>data table notebook</a>'\n",
              "            + ' to learn more about interactive tables.';\n",
              "          element.innerHTML = '';\n",
              "          dataTable['output_type'] = 'display_data';\n",
              "          await google.colab.output.renderOutput(dataTable, element);\n",
              "          const docLink = document.createElement('div');\n",
              "          docLink.innerHTML = docLinkHtml;\n",
              "          element.appendChild(docLink);\n",
              "        }\n",
              "      </script>\n",
              "    </div>\n",
              "  </div>\n",
              "  "
            ]
          },
          "metadata": {},
          "execution_count": 21
        }
      ]
    },
    {
      "cell_type": "markdown",
      "source": [
        "## Training and Testing model"
      ],
      "metadata": {
        "id": "4WRGXtrcfBWF"
      }
    },
    {
      "cell_type": "code",
      "source": [
        "y=TT3['confirmed']\n",
        "X=TT3.drop('confirmed',axis=1)\n",
        "from sklearn.model_selection import train_test_split\n",
        "X_train, X_test, y_train, y_test = train_test_split(X, y, test_size=0.15,\n",
        "\t\t\t\t\t\t\t\t\t\t\t\t\trandom_state=1)\n",
        "X.head()"
      ],
      "metadata": {
        "colab": {
          "base_uri": "https://localhost:8080/",
          "height": 206
        },
        "id": "h5yI4uskS4kL",
        "outputId": "b9e28da0-4e64-4d42-9b73-7be2a14faf12"
      },
      "execution_count": 22,
      "outputs": [
        {
          "output_type": "execute_result",
          "data": {
            "text/plain": [
              "   deceased  recovered  vaccinated1  vaccinated2  vaccinatedpd  tested  other\n",
              "0         0          0            0            0             0       0      0\n",
              "1         0          0            0            0             0       0      0\n",
              "2         0          0            0            0             0       0      0\n",
              "3         0          3            0            0             0       0      0\n",
              "4         0          3            0            0             0       0      0"
            ],
            "text/html": [
              "\n",
              "  <div id=\"df-52a0da2c-408b-4ddb-b3ba-89ce80da346c\">\n",
              "    <div class=\"colab-df-container\">\n",
              "      <div>\n",
              "<style scoped>\n",
              "    .dataframe tbody tr th:only-of-type {\n",
              "        vertical-align: middle;\n",
              "    }\n",
              "\n",
              "    .dataframe tbody tr th {\n",
              "        vertical-align: top;\n",
              "    }\n",
              "\n",
              "    .dataframe thead th {\n",
              "        text-align: right;\n",
              "    }\n",
              "</style>\n",
              "<table border=\"1\" class=\"dataframe\">\n",
              "  <thead>\n",
              "    <tr style=\"text-align: right;\">\n",
              "      <th></th>\n",
              "      <th>deceased</th>\n",
              "      <th>recovered</th>\n",
              "      <th>vaccinated1</th>\n",
              "      <th>vaccinated2</th>\n",
              "      <th>vaccinatedpd</th>\n",
              "      <th>tested</th>\n",
              "      <th>other</th>\n",
              "    </tr>\n",
              "  </thead>\n",
              "  <tbody>\n",
              "    <tr>\n",
              "      <th>0</th>\n",
              "      <td>0</td>\n",
              "      <td>0</td>\n",
              "      <td>0</td>\n",
              "      <td>0</td>\n",
              "      <td>0</td>\n",
              "      <td>0</td>\n",
              "      <td>0</td>\n",
              "    </tr>\n",
              "    <tr>\n",
              "      <th>1</th>\n",
              "      <td>0</td>\n",
              "      <td>0</td>\n",
              "      <td>0</td>\n",
              "      <td>0</td>\n",
              "      <td>0</td>\n",
              "      <td>0</td>\n",
              "      <td>0</td>\n",
              "    </tr>\n",
              "    <tr>\n",
              "      <th>2</th>\n",
              "      <td>0</td>\n",
              "      <td>0</td>\n",
              "      <td>0</td>\n",
              "      <td>0</td>\n",
              "      <td>0</td>\n",
              "      <td>0</td>\n",
              "      <td>0</td>\n",
              "    </tr>\n",
              "    <tr>\n",
              "      <th>3</th>\n",
              "      <td>0</td>\n",
              "      <td>3</td>\n",
              "      <td>0</td>\n",
              "      <td>0</td>\n",
              "      <td>0</td>\n",
              "      <td>0</td>\n",
              "      <td>0</td>\n",
              "    </tr>\n",
              "    <tr>\n",
              "      <th>4</th>\n",
              "      <td>0</td>\n",
              "      <td>3</td>\n",
              "      <td>0</td>\n",
              "      <td>0</td>\n",
              "      <td>0</td>\n",
              "      <td>0</td>\n",
              "      <td>0</td>\n",
              "    </tr>\n",
              "  </tbody>\n",
              "</table>\n",
              "</div>\n",
              "      <button class=\"colab-df-convert\" onclick=\"convertToInteractive('df-52a0da2c-408b-4ddb-b3ba-89ce80da346c')\"\n",
              "              title=\"Convert this dataframe to an interactive table.\"\n",
              "              style=\"display:none;\">\n",
              "        \n",
              "  <svg xmlns=\"http://www.w3.org/2000/svg\" height=\"24px\"viewBox=\"0 0 24 24\"\n",
              "       width=\"24px\">\n",
              "    <path d=\"M0 0h24v24H0V0z\" fill=\"none\"/>\n",
              "    <path d=\"M18.56 5.44l.94 2.06.94-2.06 2.06-.94-2.06-.94-.94-2.06-.94 2.06-2.06.94zm-11 1L8.5 8.5l.94-2.06 2.06-.94-2.06-.94L8.5 2.5l-.94 2.06-2.06.94zm10 10l.94 2.06.94-2.06 2.06-.94-2.06-.94-.94-2.06-.94 2.06-2.06.94z\"/><path d=\"M17.41 7.96l-1.37-1.37c-.4-.4-.92-.59-1.43-.59-.52 0-1.04.2-1.43.59L10.3 9.45l-7.72 7.72c-.78.78-.78 2.05 0 2.83L4 21.41c.39.39.9.59 1.41.59.51 0 1.02-.2 1.41-.59l7.78-7.78 2.81-2.81c.8-.78.8-2.07 0-2.86zM5.41 20L4 18.59l7.72-7.72 1.47 1.35L5.41 20z\"/>\n",
              "  </svg>\n",
              "      </button>\n",
              "      \n",
              "  <style>\n",
              "    .colab-df-container {\n",
              "      display:flex;\n",
              "      flex-wrap:wrap;\n",
              "      gap: 12px;\n",
              "    }\n",
              "\n",
              "    .colab-df-convert {\n",
              "      background-color: #E8F0FE;\n",
              "      border: none;\n",
              "      border-radius: 50%;\n",
              "      cursor: pointer;\n",
              "      display: none;\n",
              "      fill: #1967D2;\n",
              "      height: 32px;\n",
              "      padding: 0 0 0 0;\n",
              "      width: 32px;\n",
              "    }\n",
              "\n",
              "    .colab-df-convert:hover {\n",
              "      background-color: #E2EBFA;\n",
              "      box-shadow: 0px 1px 2px rgba(60, 64, 67, 0.3), 0px 1px 3px 1px rgba(60, 64, 67, 0.15);\n",
              "      fill: #174EA6;\n",
              "    }\n",
              "\n",
              "    [theme=dark] .colab-df-convert {\n",
              "      background-color: #3B4455;\n",
              "      fill: #D2E3FC;\n",
              "    }\n",
              "\n",
              "    [theme=dark] .colab-df-convert:hover {\n",
              "      background-color: #434B5C;\n",
              "      box-shadow: 0px 1px 3px 1px rgba(0, 0, 0, 0.15);\n",
              "      filter: drop-shadow(0px 1px 2px rgba(0, 0, 0, 0.3));\n",
              "      fill: #FFFFFF;\n",
              "    }\n",
              "  </style>\n",
              "\n",
              "      <script>\n",
              "        const buttonEl =\n",
              "          document.querySelector('#df-52a0da2c-408b-4ddb-b3ba-89ce80da346c button.colab-df-convert');\n",
              "        buttonEl.style.display =\n",
              "          google.colab.kernel.accessAllowed ? 'block' : 'none';\n",
              "\n",
              "        async function convertToInteractive(key) {\n",
              "          const element = document.querySelector('#df-52a0da2c-408b-4ddb-b3ba-89ce80da346c');\n",
              "          const dataTable =\n",
              "            await google.colab.kernel.invokeFunction('convertToInteractive',\n",
              "                                                     [key], {});\n",
              "          if (!dataTable) return;\n",
              "\n",
              "          const docLinkHtml = 'Like what you see? Visit the ' +\n",
              "            '<a target=\"_blank\" href=https://colab.research.google.com/notebooks/data_table.ipynb>data table notebook</a>'\n",
              "            + ' to learn more about interactive tables.';\n",
              "          element.innerHTML = '';\n",
              "          dataTable['output_type'] = 'display_data';\n",
              "          await google.colab.output.renderOutput(dataTable, element);\n",
              "          const docLink = document.createElement('div');\n",
              "          docLink.innerHTML = docLinkHtml;\n",
              "          element.appendChild(docLink);\n",
              "        }\n",
              "      </script>\n",
              "    </div>\n",
              "  </div>\n",
              "  "
            ]
          },
          "metadata": {},
          "execution_count": 22
        }
      ]
    },
    {
      "cell_type": "markdown",
      "source": [
        "## MSE, RSE, $R^2$ \n",
        "\n"
      ],
      "metadata": {
        "id": "qDM12Ap6e7oj"
      }
    },
    {
      "cell_type": "code",
      "source": [
        "import numpy as np\n",
        "from sklearn import metrics\n",
        "\n",
        "def print_evaluate (true , predicted ):\n",
        "  mae = metrics . mean_absolute_error (true , predicted )\n",
        "  mse = metrics . mean_squared_error (true , predicted )\n",
        "  rmse = np. sqrt ( metrics . mean_squared_error (true , predicted ))\n",
        "  r2_square = metrics . r2_score (true , predicted )\n",
        "  print ('MAE :', mae)\n",
        "  print ('MSE :', mse)\n",
        "  print ('RMSE :', rmse )\n",
        "  print ('R2 Square' , r2_square )\n",
        "  print (' __________________________________ ')\n",
        "\n",
        "def evaluate (true , predicted ):\n",
        "  mae = metrics . mean_absolute_error (true , predicted )\n",
        "  mse = metrics . mean_squared_error (true , predicted )\n",
        "  rmse = np. sqrt ( metrics . mean_squared_error (true , predicted ))\n",
        "  r2_square = metrics . r2_score (true , predicted )\n",
        "  return mae , mse , rmse , r2_square"
      ],
      "metadata": {
        "id": "dZKywX35VbYk"
      },
      "execution_count": null,
      "outputs": []
    },
    {
      "cell_type": "markdown",
      "source": [
        "## Mutiple Linear Regression\n"
      ],
      "metadata": {
        "id": "vTXbpHUXU8ln"
      }
    },
    {
      "cell_type": "code",
      "source": [
        "from sklearn . linear_model import LinearRegression\n",
        "lin_reg = LinearRegression ( normalize = True )\n",
        "lin_reg .fit( X_train , y_train )\n",
        "test_pred = lin_reg . predict ( X_test )\n",
        "train_pred = lin_reg . predict ( X_train )\n",
        "print ('Test set evaluation :')\n",
        "print_evaluate (y_test , test_pred )\n",
        "print ('Train set evaluation :')\n",
        "print_evaluate ( y_train , train_pred )\n",
        "results_df = pd. DataFrame ( data =[[\" Linear Regression \", * evaluate (y_test , test_pred ) ]],\n",
        "columns =[ 'Model ', 'MAE ', 'MSE ', 'RMSE ', 'R2 Square '])"
      ],
      "metadata": {
        "colab": {
          "base_uri": "https://localhost:8080/"
        },
        "id": "b-JxQaWCWRRV",
        "outputId": "b88ebb29-a634-4fb3-f7b4-fa03e5d08fb7"
      },
      "execution_count": null,
      "outputs": [
        {
          "output_type": "stream",
          "name": "stdout",
          "text": [
            "Test set evaluation :\n",
            "MAE : 462014.2620962674\n",
            "MSE : 405257650794.57965\n",
            "RMSE : 636598.5004652302\n",
            "R2 Square 0.9985298182390309\n",
            " __________________________________ \n",
            "Train set evaluation :\n",
            "MAE : 458054.14846686664\n",
            "MSE : 387397596907.4254\n",
            "RMSE : 622412.722321311\n",
            "R2 Square 0.9985563406824339\n",
            " __________________________________ \n"
          ]
        },
        {
          "output_type": "stream",
          "name": "stderr",
          "text": [
            "/usr/local/lib/python3.7/dist-packages/sklearn/linear_model/_base.py:145: FutureWarning: 'normalize' was deprecated in version 1.0 and will be removed in 1.2.\n",
            "If you wish to scale the data, use Pipeline with a StandardScaler in a preprocessing stage. To reproduce the previous behavior:\n",
            "\n",
            "from sklearn.pipeline import make_pipeline\n",
            "\n",
            "model = make_pipeline(StandardScaler(with_mean=False), LinearRegression())\n",
            "\n",
            "If you wish to pass a sample_weight parameter, you need to pass it as a fit parameter to each step of the pipeline as follows:\n",
            "\n",
            "kwargs = {s[0] + '__sample_weight': sample_weight for s in model.steps}\n",
            "model.fit(X, y, **kwargs)\n",
            "\n",
            "\n",
            "  FutureWarning,\n"
          ]
        }
      ]
    },
    {
      "cell_type": "markdown",
      "source": [
        "## Ridge Regression"
      ],
      "metadata": {
        "id": "_MRG4pU_WxO_"
      }
    },
    {
      "cell_type": "code",
      "source": [
        "from sklearn.linear_model import Ridge , RidgeCV\n",
        "alphas = np. geomspace (1e-9, 5, num =100)\n",
        "ridgecv = RidgeCV ( alphas = alphas , scoring = 'neg_mean_squared_error', normalize = True )\n",
        "ridgecv .fit( X_train , y_train )\n",
        "ridge = Ridge ( alpha = ridgecv . alpha_ , normalize = True )\n",
        "ridge .fit ( X_train , y_train )\n",
        "print ('Ridge Regression :')\n",
        "print (\" Alpha =\", ridgecv . alpha_ )\n",
        "test_pred = ridge.predict ( X_test )\n",
        "train_pred = ridge.predict ( X_train )\n",
        "print ('Test set evaluation : ')\n",
        "print_evaluate (y_test , test_pred )\n",
        "print ('Train set evaluation : ')\n",
        "print_evaluate ( y_train , train_pred )\n",
        "results_df_2 = pd. DataFrame ( data =[[\" Ridge \", * evaluate (y_test ,test_pred )]],\n",
        "columns =[ 'Model', 'MAE', 'MSE ', 'RMSE ', 'R2 Square '])\n",
        "results_df = results_df . append ( results_df_2 , ignore_index = True )"
      ],
      "metadata": {
        "colab": {
          "base_uri": "https://localhost:8080/"
        },
        "id": "a485T3SdbM0c",
        "outputId": "6cea8622-223c-4d17-e6ab-4ae50f570de6"
      },
      "execution_count": null,
      "outputs": [
        {
          "output_type": "stream",
          "name": "stdout",
          "text": [
            "Ridge Regression :\n",
            " Alpha = 1.0393101132501938e-05\n",
            "Test set evaluation : \n",
            "MAE : 461982.5788602742\n",
            "MSE : 405329623032.3484\n",
            "RMSE : 636655.0267078305\n",
            "R2 Square 0.998529557140268\n",
            " __________________________________ \n",
            "Train set evaluation : \n",
            "MAE : 457860.4345504201\n",
            "MSE : 387403463219.1821\n",
            "RMSE : 622417.4348611888\n",
            "R2 Square 0.9985563188212874\n",
            " __________________________________ \n"
          ]
        },
        {
          "output_type": "stream",
          "name": "stderr",
          "text": [
            "/usr/local/lib/python3.7/dist-packages/sklearn/linear_model/_base.py:145: FutureWarning: 'normalize' was deprecated in version 1.0 and will be removed in 1.2.\n",
            "If you wish to scale the data, use Pipeline with a StandardScaler in a preprocessing stage. To reproduce the previous behavior:\n",
            "\n",
            "from sklearn.pipeline import make_pipeline\n",
            "\n",
            "model = make_pipeline(StandardScaler(with_mean=False), _RidgeGCV())\n",
            "\n",
            "If you wish to pass a sample_weight parameter, you need to pass it as a fit parameter to each step of the pipeline as follows:\n",
            "\n",
            "kwargs = {s[0] + '__sample_weight': sample_weight for s in model.steps}\n",
            "model.fit(X, y, **kwargs)\n",
            "\n",
            "\n",
            "  FutureWarning,\n",
            "/usr/local/lib/python3.7/dist-packages/sklearn/linear_model/_base.py:145: FutureWarning: 'normalize' was deprecated in version 1.0 and will be removed in 1.2.\n",
            "If you wish to scale the data, use Pipeline with a StandardScaler in a preprocessing stage. To reproduce the previous behavior:\n",
            "\n",
            "from sklearn.pipeline import make_pipeline\n",
            "\n",
            "model = make_pipeline(StandardScaler(with_mean=False), Ridge())\n",
            "\n",
            "If you wish to pass a sample_weight parameter, you need to pass it as a fit parameter to each step of the pipeline as follows:\n",
            "\n",
            "kwargs = {s[0] + '__sample_weight': sample_weight for s in model.steps}\n",
            "model.fit(X, y, **kwargs)\n",
            "\n",
            "Set parameter alpha to: original_alpha * n_samples. \n",
            "  FutureWarning,\n"
          ]
        }
      ]
    },
    {
      "cell_type": "markdown",
      "source": [
        "## LASSO "
      ],
      "metadata": {
        "id": "xouQDoeAb-Lt"
      }
    },
    {
      "cell_type": "code",
      "source": [
        "from sklearn . linear_model import Lasso , LassoCV\n",
        "lasso = Lasso ( max_iter = 100000 , normalize = True )\n",
        "lassocv = LassoCV ( alphas = None , cv = 10, max_iter = 100000 ,\n",
        "normalize = True )\n",
        "lassocv .fit( X_train , y_train )\n",
        "lasso . set_params ( alpha = lassocv . alpha_ )\n",
        "lasso .fit ( X_train , y_train )\n",
        "test_pred = lasso.predict ( X_test )\n",
        "train_pred = lasso.predict ( X_train )\n",
        "print ('Test set evaluation')\n",
        "print_evaluate (y_test , test_pred )\n",
        "print ('Train set evaluation')\n",
        "print_evaluate ( y_train , train_pred )\n",
        "print (\" Alpha =\", lassocv . alpha_ )\n",
        "results_df_3 = pd. DataFrame ( data =[[\" Lasso \", * evaluate (y_test ,test_pred )]],\n",
        "columns =[ 'Model ', 'MAE' , 'MSE ', 'RMSE','R2 Square' ])\n",
        "results_df = results_df . append ( results_df_3 , ignore_index = True )"
      ],
      "metadata": {
        "colab": {
          "base_uri": "https://localhost:8080/"
        },
        "id": "_jgO6IkoYoTO",
        "outputId": "c053f042-ee11-4477-b6c0-1641a5f3024e"
      },
      "execution_count": null,
      "outputs": [
        {
          "output_type": "stream",
          "name": "stdout",
          "text": [
            "Test set evaluation\n",
            "MAE : 513147.96417389833\n",
            "MSE : 493711925843.1524\n",
            "RMSE : 702646.3732512625\n",
            "R2 Square 0.9982089264271152\n",
            " __________________________________ \n",
            "Train set evaluation\n",
            "MAE : 482171.3952412103\n",
            "MSE : 444532530987.37256\n",
            "RMSE : 666732.7283007582\n",
            "R2 Square 0.9983434240804686\n",
            " __________________________________ \n",
            " Alpha = 593.9386148992704\n"
          ]
        },
        {
          "output_type": "stream",
          "name": "stderr",
          "text": [
            "/usr/local/lib/python3.7/dist-packages/sklearn/linear_model/_base.py:145: FutureWarning: 'normalize' was deprecated in version 1.0 and will be removed in 1.2.\n",
            "If you wish to scale the data, use Pipeline with a StandardScaler in a preprocessing stage. To reproduce the previous behavior:\n",
            "\n",
            "from sklearn.pipeline import make_pipeline\n",
            "\n",
            "model = make_pipeline(StandardScaler(with_mean=False), Lasso())\n",
            "\n",
            "If you wish to pass a sample_weight parameter, you need to pass it as a fit parameter to each step of the pipeline as follows:\n",
            "\n",
            "kwargs = {s[0] + '__sample_weight': sample_weight for s in model.steps}\n",
            "model.fit(X, y, **kwargs)\n",
            "\n",
            "Set parameter alpha to: original_alpha * np.sqrt(n_samples). \n",
            "  FutureWarning,\n",
            "/usr/local/lib/python3.7/dist-packages/sklearn/linear_model/_base.py:145: FutureWarning: 'normalize' was deprecated in version 1.0 and will be removed in 1.2.\n",
            "If you wish to scale the data, use Pipeline with a StandardScaler in a preprocessing stage. To reproduce the previous behavior:\n",
            "\n",
            "from sklearn.pipeline import make_pipeline\n",
            "\n",
            "model = make_pipeline(StandardScaler(with_mean=False), Lasso())\n",
            "\n",
            "If you wish to pass a sample_weight parameter, you need to pass it as a fit parameter to each step of the pipeline as follows:\n",
            "\n",
            "kwargs = {s[0] + '__sample_weight': sample_weight for s in model.steps}\n",
            "model.fit(X, y, **kwargs)\n",
            "\n",
            "Set parameter alpha to: original_alpha * np.sqrt(n_samples). \n",
            "  FutureWarning,\n"
          ]
        }
      ]
    },
    {
      "cell_type": "markdown",
      "source": [
        "## XGBRegressor"
      ],
      "metadata": {
        "id": "Gk1gMVEccDy1"
      }
    },
    {
      "cell_type": "code",
      "source": [
        "pip install xgboost"
      ],
      "metadata": {
        "colab": {
          "base_uri": "https://localhost:8080/"
        },
        "id": "aBZiZhhW4KLh",
        "outputId": "bb964e05-2e6e-45b5-f283-69d022e36432"
      },
      "execution_count": null,
      "outputs": [
        {
          "output_type": "stream",
          "name": "stdout",
          "text": [
            "Looking in indexes: https://pypi.org/simple, https://us-python.pkg.dev/colab-wheels/public/simple/\n",
            "Requirement already satisfied: xgboost in /usr/local/lib/python3.7/dist-packages (0.90)\n",
            "Requirement already satisfied: scipy in /usr/local/lib/python3.7/dist-packages (from xgboost) (1.7.3)\n",
            "Requirement already satisfied: numpy in /usr/local/lib/python3.7/dist-packages (from xgboost) (1.21.6)\n"
          ]
        }
      ]
    },
    {
      "cell_type": "code",
      "source": [
        "from numpy import loadtxt\n",
        "from xgboost import XGBRegressor\n",
        "model = XGBRegressor ()\n",
        "model.fit( X_train , y_train )\n",
        "test_pred = model . predict ( X_test )\n",
        "train_pred = model . predict ( X_train )\n",
        "print ('Test set evaluation:')\n",
        "print_evaluate (y_test , test_pred )\n",
        "print ('Train set evaluation:')\n",
        "print_evaluate ( y_train , train_pred )\n",
        "results_df_4 = pd. DataFrame ( data =[[\" XGBRegressor \", * evaluate (y_test,test_pred ), 0]] ,\n",
        "columns =[ 'Model', 'MAE','MSE', 'RMSE ','R2 Square', 'Cross Validation'])\n",
        "results_df = results_df . append ( results_df_4 , ignore_index = True )"
      ],
      "metadata": {
        "colab": {
          "base_uri": "https://localhost:8080/"
        },
        "id": "7JqbEJ26Wnof",
        "outputId": "0dc7bc49-6a7e-40a8-de34-e905af2fc5c8"
      },
      "execution_count": null,
      "outputs": [
        {
          "output_type": "stream",
          "name": "stdout",
          "text": [
            "[20:26:10] WARNING: /workspace/src/objective/regression_obj.cu:152: reg:linear is now deprecated in favor of reg:squarederror.\n",
            "Test set evaluation:\n",
            "MAE : 69144.93739797108\n",
            "MSE : 15243772100.092321\n",
            "RMSE : 123465.67174762514\n",
            "R2 Square 0.999944699092871\n",
            " __________________________________ \n",
            "Train set evaluation:\n",
            "MAE : 38858.730605134224\n",
            "MSE : 4651961664.490678\n",
            "RMSE : 68205.2905901784\n",
            "R2 Square 0.9999826641986024\n",
            " __________________________________ \n"
          ]
        }
      ]
    },
    {
      "cell_type": "markdown",
      "source": [
        "## Random Forest Regressor"
      ],
      "metadata": {
        "id": "EqHBEW2bgakM"
      }
    },
    {
      "cell_type": "code",
      "source": [
        "from sklearn.ensemble import RandomForestRegressor\n",
        "rf_reg = RandomForestRegressor ( n_estimators =1000)\n",
        "rf_reg .fit( X_train , y_train )\n",
        "test_pred = rf_reg . predict ( X_test )\n",
        "train_pred = rf_reg . predict ( X_train )\n",
        "print ('Test set evaluation')\n",
        "print_evaluate (y_test , test_pred )\n",
        "print ('Train set evaluation')\n",
        "print_evaluate ( y_train , train_pred )\n",
        "results_df_5 = pd. DataFrame ( data =[[\" Random Forest Regressor \", *\n",
        "evaluate (y_test , test_pred )]],\n",
        "columns =[ 'Model','MAE','MSE','RMSE','R2 Square'])\n",
        "results_df = results_df . append ( results_df_2 , ignore_index = True )"
      ],
      "metadata": {
        "colab": {
          "base_uri": "https://localhost:8080/"
        },
        "id": "APnrX2Lcd4Bx",
        "outputId": "df4d963c-35f3-48cc-b816-ea480242f41a"
      },
      "execution_count": null,
      "outputs": [
        {
          "output_type": "stream",
          "name": "stdout",
          "text": [
            "Test set evaluation\n",
            "MAE : 17537.633199585533\n",
            "MSE : 1626135351.3118086\n",
            "RMSE : 40325.3685824669\n",
            "R2 Square 0.9999941007541013\n",
            " __________________________________ \n",
            "Train set evaluation\n",
            "MAE : 6446.159844141384\n",
            "MSE : 259940587.71288806\n",
            "RMSE : 16122.673094524\n",
            "R2 Square 0.9999990313165222\n",
            " __________________________________ \n"
          ]
        }
      ]
    },
    {
      "cell_type": "markdown",
      "source": [
        "## Support Vector Machine Regressor (SVM Regressor or SVR)"
      ],
      "metadata": {
        "id": "O0tAVDFrisJD"
      }
    },
    {
      "cell_type": "code",
      "source": [
        "import csv"
      ],
      "metadata": {
        "id": "CCUcfUkqHF9v"
      },
      "execution_count": null,
      "outputs": []
    },
    {
      "cell_type": "code",
      "source": [
        "dat=TT3.values\n",
        "dat"
      ],
      "metadata": {
        "colab": {
          "base_uri": "https://localhost:8080/"
        },
        "id": "UV0XIh0bF52q",
        "outputId": "b9216e67-da97-475e-95a1-fe1617b812df"
      },
      "execution_count": null,
      "outputs": [
        {
          "output_type": "execute_result",
          "data": {
            "text/plain": [
              "array([[2.00000000e+00, 0.00000000e+00, 0.00000000e+00, ...,\n",
              "        0.00000000e+00, 0.00000000e+00, 0.00000000e+00],\n",
              "       [3.00000000e+00, 0.00000000e+00, 0.00000000e+00, ...,\n",
              "        0.00000000e+00, 0.00000000e+00, 0.00000000e+00],\n",
              "       [3.00000000e+00, 0.00000000e+00, 0.00000000e+00, ...,\n",
              "        0.00000000e+00, 0.00000000e+00, 0.00000000e+00],\n",
              "       ...,\n",
              "       [4.41351190e+07, 5.27350000e+05, 4.34431190e+07, ...,\n",
              "        1.01804345e+08, 8.82254181e+08, 1.31970000e+04],\n",
              "       [4.41502400e+07, 5.27382000e+05, 4.34607980e+07, ...,\n",
              "        1.04169238e+08, 8.82694654e+08, 1.31970000e+04],\n",
              "       [4.41561760e+07, 5.27408000e+05, 4.34755210e+07, ...,\n",
              "        1.06859639e+08, 8.83074539e+08, 1.31970000e+04]])"
            ]
          },
          "metadata": {},
          "execution_count": 29
        }
      ]
    },
    {
      "cell_type": "code",
      "source": [
        "df=pd.DataFrame(dat)\n",
        "df.columns=['confirmed','deceased','recovered','vaccinated1','vaccinated2','vaccinatedpd','tested','other']\n",
        "df.head()"
      ],
      "metadata": {
        "colab": {
          "base_uri": "https://localhost:8080/",
          "height": 206
        },
        "id": "n63lYxEjG0vP",
        "outputId": "18aec629-533b-41b9-e77a-4dd3795c35a6"
      },
      "execution_count": null,
      "outputs": [
        {
          "output_type": "execute_result",
          "data": {
            "text/plain": [
              "   confirmed  deceased  recovered  vaccinated1  vaccinated2  vaccinatedpd  \\\n",
              "0        2.0       0.0        0.0          0.0          0.0           0.0   \n",
              "1        3.0       0.0        0.0          0.0          0.0           0.0   \n",
              "2        3.0       0.0        0.0          0.0          0.0           0.0   \n",
              "3        5.0       0.0        3.0          0.0          0.0           0.0   \n",
              "4        6.0       0.0        3.0          0.0          0.0           0.0   \n",
              "\n",
              "   tested  other  \n",
              "0     0.0    0.0  \n",
              "1     0.0    0.0  \n",
              "2     0.0    0.0  \n",
              "3     0.0    0.0  \n",
              "4     0.0    0.0  "
            ],
            "text/html": [
              "\n",
              "  <div id=\"df-66f7a3d6-dea1-455f-b8ac-51518a7553b2\">\n",
              "    <div class=\"colab-df-container\">\n",
              "      <div>\n",
              "<style scoped>\n",
              "    .dataframe tbody tr th:only-of-type {\n",
              "        vertical-align: middle;\n",
              "    }\n",
              "\n",
              "    .dataframe tbody tr th {\n",
              "        vertical-align: top;\n",
              "    }\n",
              "\n",
              "    .dataframe thead th {\n",
              "        text-align: right;\n",
              "    }\n",
              "</style>\n",
              "<table border=\"1\" class=\"dataframe\">\n",
              "  <thead>\n",
              "    <tr style=\"text-align: right;\">\n",
              "      <th></th>\n",
              "      <th>confirmed</th>\n",
              "      <th>deceased</th>\n",
              "      <th>recovered</th>\n",
              "      <th>vaccinated1</th>\n",
              "      <th>vaccinated2</th>\n",
              "      <th>vaccinatedpd</th>\n",
              "      <th>tested</th>\n",
              "      <th>other</th>\n",
              "    </tr>\n",
              "  </thead>\n",
              "  <tbody>\n",
              "    <tr>\n",
              "      <th>0</th>\n",
              "      <td>2.0</td>\n",
              "      <td>0.0</td>\n",
              "      <td>0.0</td>\n",
              "      <td>0.0</td>\n",
              "      <td>0.0</td>\n",
              "      <td>0.0</td>\n",
              "      <td>0.0</td>\n",
              "      <td>0.0</td>\n",
              "    </tr>\n",
              "    <tr>\n",
              "      <th>1</th>\n",
              "      <td>3.0</td>\n",
              "      <td>0.0</td>\n",
              "      <td>0.0</td>\n",
              "      <td>0.0</td>\n",
              "      <td>0.0</td>\n",
              "      <td>0.0</td>\n",
              "      <td>0.0</td>\n",
              "      <td>0.0</td>\n",
              "    </tr>\n",
              "    <tr>\n",
              "      <th>2</th>\n",
              "      <td>3.0</td>\n",
              "      <td>0.0</td>\n",
              "      <td>0.0</td>\n",
              "      <td>0.0</td>\n",
              "      <td>0.0</td>\n",
              "      <td>0.0</td>\n",
              "      <td>0.0</td>\n",
              "      <td>0.0</td>\n",
              "    </tr>\n",
              "    <tr>\n",
              "      <th>3</th>\n",
              "      <td>5.0</td>\n",
              "      <td>0.0</td>\n",
              "      <td>3.0</td>\n",
              "      <td>0.0</td>\n",
              "      <td>0.0</td>\n",
              "      <td>0.0</td>\n",
              "      <td>0.0</td>\n",
              "      <td>0.0</td>\n",
              "    </tr>\n",
              "    <tr>\n",
              "      <th>4</th>\n",
              "      <td>6.0</td>\n",
              "      <td>0.0</td>\n",
              "      <td>3.0</td>\n",
              "      <td>0.0</td>\n",
              "      <td>0.0</td>\n",
              "      <td>0.0</td>\n",
              "      <td>0.0</td>\n",
              "      <td>0.0</td>\n",
              "    </tr>\n",
              "  </tbody>\n",
              "</table>\n",
              "</div>\n",
              "      <button class=\"colab-df-convert\" onclick=\"convertToInteractive('df-66f7a3d6-dea1-455f-b8ac-51518a7553b2')\"\n",
              "              title=\"Convert this dataframe to an interactive table.\"\n",
              "              style=\"display:none;\">\n",
              "        \n",
              "  <svg xmlns=\"http://www.w3.org/2000/svg\" height=\"24px\"viewBox=\"0 0 24 24\"\n",
              "       width=\"24px\">\n",
              "    <path d=\"M0 0h24v24H0V0z\" fill=\"none\"/>\n",
              "    <path d=\"M18.56 5.44l.94 2.06.94-2.06 2.06-.94-2.06-.94-.94-2.06-.94 2.06-2.06.94zm-11 1L8.5 8.5l.94-2.06 2.06-.94-2.06-.94L8.5 2.5l-.94 2.06-2.06.94zm10 10l.94 2.06.94-2.06 2.06-.94-2.06-.94-.94-2.06-.94 2.06-2.06.94z\"/><path d=\"M17.41 7.96l-1.37-1.37c-.4-.4-.92-.59-1.43-.59-.52 0-1.04.2-1.43.59L10.3 9.45l-7.72 7.72c-.78.78-.78 2.05 0 2.83L4 21.41c.39.39.9.59 1.41.59.51 0 1.02-.2 1.41-.59l7.78-7.78 2.81-2.81c.8-.78.8-2.07 0-2.86zM5.41 20L4 18.59l7.72-7.72 1.47 1.35L5.41 20z\"/>\n",
              "  </svg>\n",
              "      </button>\n",
              "      \n",
              "  <style>\n",
              "    .colab-df-container {\n",
              "      display:flex;\n",
              "      flex-wrap:wrap;\n",
              "      gap: 12px;\n",
              "    }\n",
              "\n",
              "    .colab-df-convert {\n",
              "      background-color: #E8F0FE;\n",
              "      border: none;\n",
              "      border-radius: 50%;\n",
              "      cursor: pointer;\n",
              "      display: none;\n",
              "      fill: #1967D2;\n",
              "      height: 32px;\n",
              "      padding: 0 0 0 0;\n",
              "      width: 32px;\n",
              "    }\n",
              "\n",
              "    .colab-df-convert:hover {\n",
              "      background-color: #E2EBFA;\n",
              "      box-shadow: 0px 1px 2px rgba(60, 64, 67, 0.3), 0px 1px 3px 1px rgba(60, 64, 67, 0.15);\n",
              "      fill: #174EA6;\n",
              "    }\n",
              "\n",
              "    [theme=dark] .colab-df-convert {\n",
              "      background-color: #3B4455;\n",
              "      fill: #D2E3FC;\n",
              "    }\n",
              "\n",
              "    [theme=dark] .colab-df-convert:hover {\n",
              "      background-color: #434B5C;\n",
              "      box-shadow: 0px 1px 3px 1px rgba(0, 0, 0, 0.15);\n",
              "      filter: drop-shadow(0px 1px 2px rgba(0, 0, 0, 0.3));\n",
              "      fill: #FFFFFF;\n",
              "    }\n",
              "  </style>\n",
              "\n",
              "      <script>\n",
              "        const buttonEl =\n",
              "          document.querySelector('#df-66f7a3d6-dea1-455f-b8ac-51518a7553b2 button.colab-df-convert');\n",
              "        buttonEl.style.display =\n",
              "          google.colab.kernel.accessAllowed ? 'block' : 'none';\n",
              "\n",
              "        async function convertToInteractive(key) {\n",
              "          const element = document.querySelector('#df-66f7a3d6-dea1-455f-b8ac-51518a7553b2');\n",
              "          const dataTable =\n",
              "            await google.colab.kernel.invokeFunction('convertToInteractive',\n",
              "                                                     [key], {});\n",
              "          if (!dataTable) return;\n",
              "\n",
              "          const docLinkHtml = 'Like what you see? Visit the ' +\n",
              "            '<a target=\"_blank\" href=https://colab.research.google.com/notebooks/data_table.ipynb>data table notebook</a>'\n",
              "            + ' to learn more about interactive tables.';\n",
              "          element.innerHTML = '';\n",
              "          dataTable['output_type'] = 'display_data';\n",
              "          await google.colab.output.renderOutput(dataTable, element);\n",
              "          const docLink = document.createElement('div');\n",
              "          docLink.innerHTML = docLinkHtml;\n",
              "          element.appendChild(docLink);\n",
              "        }\n",
              "      </script>\n",
              "    </div>\n",
              "  </div>\n",
              "  "
            ]
          },
          "metadata": {},
          "execution_count": 30
        }
      ]
    },
    {
      "cell_type": "code",
      "source": [
        "y1=df['confirmed']\n",
        "X1=df.drop('confirmed',axis=1)\n",
        "from sklearn.model_selection import train_test_split\n",
        "X1_train, X1_test, y1_train, y1_test = train_test_split(X1, y1, test_size=0.15,\n",
        "\t\t\t\t\t\t\t\t\t\t\t\t\trandom_state=1)"
      ],
      "metadata": {
        "id": "nDu0fOdCJbL5"
      },
      "execution_count": null,
      "outputs": []
    },
    {
      "cell_type": "code",
      "source": [
        "from sklearn .svm import SVR\n",
        "svm_reg = SVR( kernel ='rbf' , C =1000000 , epsilon =0.001)\n",
        "svm_reg.fit( X1_train , y1_train.values.ravel() )\n",
        "test_pred = svm_reg.predict ( X1_test )\n",
        "train_pred =svm_reg.predict ( X1_train )\n",
        "print ('Test set evaluation')\n",
        "print_evaluate (y1_test , test_pred )\n",
        "print ('Train set evaluation')\n",
        "print_evaluate ( y1_train , train_pred )\n",
        "results_df_3 = pd. DataFrame ( data =[[\"SVM Regressor \", * evaluate (y_test , test_pred )]],\n",
        "                              columns =[ 'Model','MAE','MSE','RMSE','R2 Square'])\n",
        "results_df = results_df . append ( results_df_3 , ignore_index = True )"
      ],
      "metadata": {
        "colab": {
          "base_uri": "https://localhost:8080/"
        },
        "id": "OQW93pprhS3_",
        "outputId": "319bba68-968b-4a2a-e367-14921e256068"
      },
      "execution_count": null,
      "outputs": [
        {
          "output_type": "stream",
          "name": "stdout",
          "text": [
            "Test set evaluation\n",
            "MAE : 888955.6856688834\n",
            "MSE : 1600075370953.6003\n",
            "RMSE : 1264940.856701846\n",
            "R2 Square 0.9941952937299529\n",
            " __________________________________ \n",
            "Train set evaluation\n",
            "MAE : 1092267.1196048341\n",
            "MSE : 2215579516414.0806\n",
            "RMSE : 1488482.2862278477\n",
            "R2 Square 0.9917435161234516\n",
            " __________________________________ \n"
          ]
        }
      ]
    },
    {
      "cell_type": "markdown",
      "source": [
        "## ANN"
      ],
      "metadata": {
        "id": "elDGKZrkj6Y-"
      }
    },
    {
      "cell_type": "code",
      "source": [
        "import keras\n",
        "import tensorflow\n",
        "import sklearn\n",
        "from sklearn.preprocessing import normalize\n",
        "from keras.models import Sequential\n",
        "\n",
        "from keras.utils import np_utils"
      ],
      "metadata": {
        "id": "wCC_3xK6bqJa"
      },
      "execution_count": null,
      "outputs": []
    },
    {
      "cell_type": "code",
      "source": [
        "from tensorflow.keras.models import Sequential\n",
        "from tensorflow.keras.layers import Input , Dense , Activation , Dropout\n",
        "from tensorflow.keras.optimizers import Adam\n",
        "X_train =np.array( X_train )\n",
        "X_test =np.array( X_test )\n",
        "y_train =np.array ( y_train )\n",
        "y_test = np.array ( y_test )\n",
        "model =Sequential()\n",
        "model.add( Dense ( X_train . shape [1] , activation ='relu'))\n",
        "model.add( Dense (32 , activation ='relu'))\n",
        "# model .add( Dropout (0.2) )\n",
        "model.add( Dense (64 , activation ='relu'))\n",
        "# model .add( Dropout (0.2) )\n",
        "model.add( Dense (128 , activation ='relu'))\n",
        "model.add( Dropout (0.2) )\n",
        "model.add ( Dense (1))\n",
        "model.compile ( optimizer = Adam (0.001) , loss ='mse')\n",
        "r = model.fit( X_train , y_train , validation_data =( X_test , y_test ), batch_size =128 , epochs =50)\n",
        "test_pred = model.predict ( X_test )\n",
        "train_pred = model.predict ( X_train )\n",
        "print ('Test set evaluation')\n",
        "print_evaluate(y_test , test_pred )\n",
        "print('Train set evaluation')\n",
        "print_evaluate ( y_train , train_pred )\n",
        "results_df_4 = pd. DataFrame ( data =[[\" Artficial Neural Network \", *evaluate (y_test , test_pred )]],columns =[ 'Model','MAE','MSE','RMSE','R2 Square'])\n",
        "results_df = results_df . append ( results_df_4 , ignore_index = True )"
      ],
      "metadata": {
        "colab": {
          "base_uri": "https://localhost:8080/"
        },
        "id": "-1uL4i9AlXu7",
        "outputId": "1051152f-e8c9-4053-e518-1e6f7f8010ad"
      },
      "execution_count": null,
      "outputs": [
        {
          "output_type": "stream",
          "name": "stdout",
          "text": [
            "Epoch 1/50\n",
            "6/6 [==============================] - 1s 36ms/step - loss: 2636363400740864.0000 - val_loss: 962809663848448.0000\n",
            "Epoch 2/50\n",
            "6/6 [==============================] - 0s 7ms/step - loss: 995724414156800.0000 - val_loss: 559867207090176.0000\n",
            "Epoch 3/50\n",
            "6/6 [==============================] - 0s 6ms/step - loss: 1171234091958272.0000 - val_loss: 28865579712512.0000\n",
            "Epoch 4/50\n",
            "6/6 [==============================] - 0s 7ms/step - loss: 645935029813248.0000 - val_loss: 84628958347264.0000\n",
            "Epoch 5/50\n",
            "6/6 [==============================] - 0s 7ms/step - loss: 519103437602816.0000 - val_loss: 61035130126336.0000\n",
            "Epoch 6/50\n",
            "6/6 [==============================] - 0s 8ms/step - loss: 430371258761216.0000 - val_loss: 20761379078144.0000\n",
            "Epoch 7/50\n",
            "6/6 [==============================] - 0s 7ms/step - loss: 401357244727296.0000 - val_loss: 8877977370624.0000\n",
            "Epoch 8/50\n",
            "6/6 [==============================] - 0s 6ms/step - loss: 320294635962368.0000 - val_loss: 21349676351488.0000\n",
            "Epoch 9/50\n",
            "6/6 [==============================] - 0s 6ms/step - loss: 238493880025088.0000 - val_loss: 14264318296064.0000\n",
            "Epoch 10/50\n",
            "6/6 [==============================] - 0s 6ms/step - loss: 191372854296576.0000 - val_loss: 6384874684416.0000\n",
            "Epoch 11/50\n",
            "6/6 [==============================] - 0s 6ms/step - loss: 194515981828096.0000 - val_loss: 7407114649600.0000\n",
            "Epoch 12/50\n",
            "6/6 [==============================] - 0s 8ms/step - loss: 159053409943552.0000 - val_loss: 8067195863040.0000\n",
            "Epoch 13/50\n",
            "6/6 [==============================] - 0s 7ms/step - loss: 135074582364160.0000 - val_loss: 3997273686016.0000\n",
            "Epoch 14/50\n",
            "6/6 [==============================] - 0s 6ms/step - loss: 105469062414336.0000 - val_loss: 12554710548480.0000\n",
            "Epoch 15/50\n",
            "6/6 [==============================] - 0s 6ms/step - loss: 93015301423104.0000 - val_loss: 24639386419200.0000\n",
            "Epoch 16/50\n",
            "6/6 [==============================] - 0s 7ms/step - loss: 96458640457728.0000 - val_loss: 22373159927808.0000\n",
            "Epoch 17/50\n",
            "6/6 [==============================] - 0s 7ms/step - loss: 76699517583360.0000 - val_loss: 4112496459776.0000\n",
            "Epoch 18/50\n",
            "6/6 [==============================] - 0s 7ms/step - loss: 55213327122432.0000 - val_loss: 2855259340800.0000\n",
            "Epoch 19/50\n",
            "6/6 [==============================] - 0s 7ms/step - loss: 57292875628544.0000 - val_loss: 2272681263104.0000\n",
            "Epoch 20/50\n",
            "6/6 [==============================] - 0s 6ms/step - loss: 49502656397312.0000 - val_loss: 3576573722624.0000\n",
            "Epoch 21/50\n",
            "6/6 [==============================] - 0s 7ms/step - loss: 42490824491008.0000 - val_loss: 3906498985984.0000\n",
            "Epoch 22/50\n",
            "6/6 [==============================] - 0s 6ms/step - loss: 45695104974848.0000 - val_loss: 1925070454784.0000\n",
            "Epoch 23/50\n",
            "6/6 [==============================] - 0s 6ms/step - loss: 38188034818048.0000 - val_loss: 2111013257216.0000\n",
            "Epoch 24/50\n",
            "6/6 [==============================] - 0s 6ms/step - loss: 39583630753792.0000 - val_loss: 2209936834560.0000\n",
            "Epoch 25/50\n",
            "6/6 [==============================] - 0s 6ms/step - loss: 28327586824192.0000 - val_loss: 3752230125568.0000\n",
            "Epoch 26/50\n",
            "6/6 [==============================] - 0s 8ms/step - loss: 34729147498496.0000 - val_loss: 2010906492928.0000\n",
            "Epoch 27/50\n",
            "6/6 [==============================] - 0s 7ms/step - loss: 33064652636160.0000 - val_loss: 1774536359936.0000\n",
            "Epoch 28/50\n",
            "6/6 [==============================] - 0s 7ms/step - loss: 24443143323648.0000 - val_loss: 1769994452992.0000\n",
            "Epoch 29/50\n",
            "6/6 [==============================] - 0s 6ms/step - loss: 24756554301440.0000 - val_loss: 1067912593408.0000\n",
            "Epoch 30/50\n",
            "6/6 [==============================] - 0s 7ms/step - loss: 22033582784512.0000 - val_loss: 1300733100032.0000\n",
            "Epoch 31/50\n",
            "6/6 [==============================] - 0s 6ms/step - loss: 21584198762496.0000 - val_loss: 880813735936.0000\n",
            "Epoch 32/50\n",
            "6/6 [==============================] - 0s 6ms/step - loss: 19118208057344.0000 - val_loss: 836211048448.0000\n",
            "Epoch 33/50\n",
            "6/6 [==============================] - 0s 7ms/step - loss: 17446626918400.0000 - val_loss: 2078024925184.0000\n",
            "Epoch 34/50\n",
            "6/6 [==============================] - 0s 7ms/step - loss: 20740883611648.0000 - val_loss: 872249098240.0000\n",
            "Epoch 35/50\n",
            "6/6 [==============================] - 0s 7ms/step - loss: 15303432994816.0000 - val_loss: 3916947521536.0000\n",
            "Epoch 36/50\n",
            "6/6 [==============================] - 0s 9ms/step - loss: 18204260827136.0000 - val_loss: 1512420933632.0000\n",
            "Epoch 37/50\n",
            "6/6 [==============================] - 0s 6ms/step - loss: 16842171088896.0000 - val_loss: 1160281849856.0000\n",
            "Epoch 38/50\n",
            "6/6 [==============================] - 0s 7ms/step - loss: 15880423473152.0000 - val_loss: 2506306093056.0000\n",
            "Epoch 39/50\n",
            "6/6 [==============================] - 0s 6ms/step - loss: 13212789506048.0000 - val_loss: 757913026560.0000\n",
            "Epoch 40/50\n",
            "6/6 [==============================] - 0s 8ms/step - loss: 13355125309440.0000 - val_loss: 749154402304.0000\n",
            "Epoch 41/50\n",
            "6/6 [==============================] - 0s 7ms/step - loss: 12236295766016.0000 - val_loss: 618744905728.0000\n",
            "Epoch 42/50\n",
            "6/6 [==============================] - 0s 6ms/step - loss: 11018554048512.0000 - val_loss: 969911959552.0000\n",
            "Epoch 43/50\n",
            "6/6 [==============================] - 0s 7ms/step - loss: 12177840799744.0000 - val_loss: 1629249470464.0000\n",
            "Epoch 44/50\n",
            "6/6 [==============================] - 0s 7ms/step - loss: 11520602800128.0000 - val_loss: 706606792704.0000\n",
            "Epoch 45/50\n",
            "6/6 [==============================] - 0s 7ms/step - loss: 11685104451584.0000 - val_loss: 832304316416.0000\n",
            "Epoch 46/50\n",
            "6/6 [==============================] - 0s 6ms/step - loss: 11350314057728.0000 - val_loss: 939051712512.0000\n",
            "Epoch 47/50\n",
            "6/6 [==============================] - 0s 6ms/step - loss: 10319377203200.0000 - val_loss: 1564918022144.0000\n",
            "Epoch 48/50\n",
            "6/6 [==============================] - 0s 7ms/step - loss: 10764433752064.0000 - val_loss: 700344631296.0000\n",
            "Epoch 49/50\n",
            "6/6 [==============================] - 0s 8ms/step - loss: 10255482224640.0000 - val_loss: 548793319424.0000\n",
            "Epoch 50/50\n",
            "6/6 [==============================] - 0s 8ms/step - loss: 11760962633728.0000 - val_loss: 791025876992.0000\n",
            "Test set evaluation\n",
            "MAE : 600341.092220399\n",
            "MSE : 791026016399.0825\n",
            "RMSE : 889396.4337679135\n",
            "R2 Square 0.9971303391324462\n",
            " __________________________________ \n",
            "Train set evaluation\n",
            "MAE : 671613.3542474186\n",
            "MSE : 919086164619.0415\n",
            "RMSE : 958689.8166868372\n",
            "R2 Square 0.9965749728036764\n",
            " __________________________________ \n"
          ]
        }
      ]
    },
    {
      "cell_type": "markdown",
      "source": [
        "## Polynomial Regression"
      ],
      "metadata": {
        "id": "4-ObyjgoEmTL"
      }
    },
    {
      "cell_type": "code",
      "source": [
        "\n",
        "from sklearn.linear_model import LinearRegression\n",
        "from sklearn.preprocessing import PolynomialFeatures\n",
        "poly_reg=PolynomialFeatures(degree=2)\n",
        "poly_reg.fit(X_train)\n",
        "X_train_poly=poly_reg.transform(X_train)\n",
        "X_test_poly=poly_reg.transform(X_test)\n",
        "lr=LinearRegression()\n",
        "lr.fit(X_train_poly,y_train)\n",
        "test_pred = lr . predict ( X_test_poly )\n",
        "train_pred = lr. predict ( X_train_poly )\n",
        "print ('Test set evaluation :')\n",
        "print_evaluate (y_test , test_pred )\n",
        "print ('Train set evaluation :')\n",
        "print_evaluate ( y_train , train_pred )\n",
        "results_df = pd. DataFrame ( data =[[\" Linear Regression \", * evaluate (y_test , test_pred ) ]],\n",
        "                            columns =[ 'Model ', 'MAE ', 'MSE ', 'RMSE ', 'R2 Square '])\n"
      ],
      "metadata": {
        "colab": {
          "base_uri": "https://localhost:8080/"
        },
        "id": "yhYmElbxCkKM",
        "outputId": "49c83332-2885-4395-d5cb-12ef517ae3b5"
      },
      "execution_count": null,
      "outputs": [
        {
          "output_type": "stream",
          "name": "stdout",
          "text": [
            "Test set evaluation :\n",
            "MAE : 42463.40361447979\n",
            "MSE : 3553557166.3450546\n",
            "RMSE : 59611.72004182613\n",
            "R2 Square 0.9999871085100497\n",
            " __________________________________ \n",
            "Train set evaluation :\n",
            "MAE : 40161.57974818217\n",
            "MSE : 2804128369.2051716\n",
            "RMSE : 52954.02127511348\n",
            "R2 Square 0.9999895502551379\n",
            " __________________________________ \n"
          ]
        }
      ]
    },
    {
      "cell_type": "markdown",
      "source": [
        "## Decision Tree Regression"
      ],
      "metadata": {
        "id": "66i2D03NPNsj"
      }
    },
    {
      "cell_type": "code",
      "source": [
        "from sklearn.tree import DecisionTreeRegressor\n",
        "Dtreg=DecisionTreeRegressor()\n",
        "Dtreg.fit(X_train,y_train)\n",
        "test_pred = Dtreg . predict ( X_test )\n",
        "train_pred = Dtreg . predict ( X_train )\n",
        "print ('Test set evaluation')\n",
        "print_evaluate (y_test , test_pred )\n",
        "print ('Train set evaluation')\n",
        "print_evaluate ( y_train , train_pred )\n",
        "results_df_5 = pd. DataFrame ( data =[[\" Random Forest Regressor \", *\n",
        "evaluate (y_test , test_pred )]],\n",
        "columns =[ 'Model','MAE','MSE','RMSE','R2 Square'])\n",
        "results_df = results_df . append ( results_df_2 , ignore_index = True )"
      ],
      "metadata": {
        "colab": {
          "base_uri": "https://localhost:8080/"
        },
        "id": "x-9MF6N9OkB3",
        "outputId": "d00cee13-b579-4e77-f8c8-380168f846a3"
      },
      "execution_count": null,
      "outputs": [
        {
          "output_type": "stream",
          "name": "stdout",
          "text": [
            "Test set evaluation\n",
            "MAE : 51091.33395522388\n",
            "MSE : 9150661038.491138\n",
            "RMSE : 95659.08758968559\n",
            "R2 Square 0.9999668035015916\n",
            " __________________________________ \n",
            "Train set evaluation\n",
            "MAE : 1.1725955204216074\n",
            "MSE : 78.21953227931489\n",
            "RMSE : 8.844180701416887\n",
            "R2 Square 0.9999999999997085\n",
            " __________________________________ \n"
          ]
        }
      ]
    },
    {
      "cell_type": "markdown",
      "source": [
        "## Model Prediction"
      ],
      "metadata": {
        "id": "Ic9qT86VTDuv"
      }
    },
    {
      "cell_type": "markdown",
      "source": [
        "**Multiple Linear Regression**<br>\n",
        "Test set evaluation :\n",
        "MAE : 476656.6476372652\n",
        "MSE : 408208327989.20844\n",
        "RMSE : 638911.8311545094\n",
        "R2 Square 0.9985305516843499\n",
        " __________________________________ \n",
        "Train set evaluation :\n",
        "MAE : 462691.1864725913\n",
        "MSE : 387140519204.21027\n",
        "RMSE : 622206.1709788889\n",
        "R2 Square 0.9985542257319765<br>\n",
        "<br>\n",
        "**Ridge Regression**<br>\n",
        "Alpha = 1e-09\n",
        "Test set evaluation : \n",
        "MAE : 1.1291220529285904\n",
        "MSE : 4.950449813519245\n",
        "RMSE : 2.2249606319032353\n",
        "R2 Square 0.9999999999999999\n",
        " __________________________________ \n",
        "Train set evaluation : \n",
        "MAE : 1.2033985217789442\n",
        "MSE : 5.737132252014866\n",
        "RMSE : 2.395231147930167\n",
        "R2 Square 0.9999999999999999<br>\n",
        "<br>\n",
        "**LASSO**<br>\n",
        "MAE : 507135.7184641747\n",
        "MSE : 471478228628.448\n",
        "RMSE : 686642.7226938679\n",
        "R2 Square 0.9983027957995455\n",
        " __________________________________ \n",
        "Train set evaluation\n",
        "MAE : 485208.61331868626\n",
        "MSE : 443942541411.6576\n",
        "RMSE : 666290.1330589082\n",
        "R2 Square 0.9983420988736253<br><br>\n",
        "**XGBRegressor**<br>\n",
        "Test set evaluation:\n",
        "MAE : 64061.80819292211\n",
        "MSE : 14687062760.623432\n",
        "RMSE : 121190.19251005187\n",
        "R2 Square 0.9999471302319045\n",
        " __________________________________ \n",
        "Train set evaluation:\n",
        "MAE : 39900.43189829321\n",
        "MSE : 5103758752.056089\n",
        "RMSE : 71440.59596655174\n",
        "R2 Square 0.9999809400393194<br><br>\n",
        "**Random Forest Regressor**<br>\n",
        "Test set evaluation\n",
        "MAE : 18339.307475004534\n",
        "MSE : 3649078644.963532\n",
        "RMSE : 60407.60419817634\n",
        "R2 Square 0.9999868642256886\n",
        " __________________________________ \n",
        "Train set evaluation\n",
        "MAE : 6760.968449978019\n",
        "MSE : 284885996.1037614\n",
        "RMSE : 16878.566174404787\n",
        "R2 Square 0.99999893609472<br><br>\n",
        "**SVM**<br>\n",
        "Test set evaluation\n",
        "MAE : 945217.9331997777\n",
        "MSE : 1850277001791.812\n",
        "RMSE : 1360248.8749459828\n",
        "R2 Square 0.993339463608785\n",
        " __________________________________ \n",
        "Train set evaluation\n",
        "MAE : 1087892.816648811\n",
        "MSE : 2251676941148.321\n",
        "RMSE : 1500558.8762685459\n",
        "R2 Square 0.9915911241011254<br><br>\n",
        "**ANN**<br>\n",
        "Test set evaluation\n",
        "MAE : 750113.5246198568\n",
        "MSE : 997647250229.2828\n",
        "RMSE : 998822.9323705393\n",
        "R2 Square 0.9964087183652433\n",
        " __________________________________ \n",
        "Train set evaluation\n",
        "MAE : 740675.6855421948\n",
        "MSE : 984748219152.9869\n",
        "RMSE : 992344.8085987989\n",
        "R2 Square 0.9963224628652668<br><br>\n",
        "**Polynomial Regression**<br>\n",
        "Test set evaluation :\n",
        "MAE : 70397.97096138609\n",
        "MSE : 10406992599.610182\n",
        "RMSE : 102014.66855119503\n",
        "R2 Square 0.999962537418524\n",
        " __________________________________ \n",
        "Train set evaluation :\n",
        "MAE : 67388.5652988519\n",
        "MSE : 8202395082.960037\n",
        "RMSE : 90567.07504915922\n",
        "R2 Square 0.9999693681979569<br><br>\n",
        "**Decision Tree Prediction**<br>\n",
        "Test set evaluation\n",
        "MAE : 50282.75932835821\n",
        "MSE : 12493790805.349346\n",
        "RMSE : 111775.62706310059\n",
        "R2 Square 0.9999550254647046\n",
        " __________________________________ \n",
        "Train set evaluation\n",
        "MAE : 1.1741424802110818\n",
        "MSE : 78.32272427440633\n",
        "RMSE : 8.850012670861343\n",
        "R2 Square 0.9999999999997075\n",
        "\n",
        "\n"
      ],
      "metadata": {
        "id": "s8UO1wdAWgu2"
      }
    },
    {
      "cell_type": "markdown",
      "source": [
        "## Settings of individuals columns into dataframe"
      ],
      "metadata": {
        "id": "e5sUZ2xEQfk3"
      }
    },
    {
      "cell_type": "code",
      "source": [
        "TT_confirmed=[]\n",
        "for i in range (len(TT1['confirmed'])):\n",
        "    X=TT1['confirmed'][i] - TT1['confirmed'][i-1]\n",
        "    TT_confirmed.append(X)\n",
        "TT_confirmed.remove(-44156175)\n",
        "print(type(TT_confirmed))\n",
        "TT_confirmed1=pd.DataFrame(TT_confirmed)\n",
        "#AR_confirmed1.shape\n",
        "TT_confirmed1.columns=['Dailyconfirmed']\n",
        "TT_confirmed1.head()"
      ],
      "metadata": {
        "colab": {
          "base_uri": "https://localhost:8080/",
          "height": 224
        },
        "id": "sOTtIPovTSoN",
        "outputId": "b37ae217-6aac-478f-cb59-8fe2f40fb480"
      },
      "execution_count": null,
      "outputs": [
        {
          "output_type": "stream",
          "name": "stdout",
          "text": [
            "<class 'list'>\n"
          ]
        },
        {
          "output_type": "execute_result",
          "data": {
            "text/plain": [
              "   Dailyconfirmed\n",
              "0               1\n",
              "1               1\n",
              "2               0\n",
              "3               2\n",
              "4               1"
            ],
            "text/html": [
              "\n",
              "  <div id=\"df-66d20ad4-db1d-4e96-b2a8-fc450040e8b0\">\n",
              "    <div class=\"colab-df-container\">\n",
              "      <div>\n",
              "<style scoped>\n",
              "    .dataframe tbody tr th:only-of-type {\n",
              "        vertical-align: middle;\n",
              "    }\n",
              "\n",
              "    .dataframe tbody tr th {\n",
              "        vertical-align: top;\n",
              "    }\n",
              "\n",
              "    .dataframe thead th {\n",
              "        text-align: right;\n",
              "    }\n",
              "</style>\n",
              "<table border=\"1\" class=\"dataframe\">\n",
              "  <thead>\n",
              "    <tr style=\"text-align: right;\">\n",
              "      <th></th>\n",
              "      <th>Dailyconfirmed</th>\n",
              "    </tr>\n",
              "  </thead>\n",
              "  <tbody>\n",
              "    <tr>\n",
              "      <th>0</th>\n",
              "      <td>1</td>\n",
              "    </tr>\n",
              "    <tr>\n",
              "      <th>1</th>\n",
              "      <td>1</td>\n",
              "    </tr>\n",
              "    <tr>\n",
              "      <th>2</th>\n",
              "      <td>0</td>\n",
              "    </tr>\n",
              "    <tr>\n",
              "      <th>3</th>\n",
              "      <td>2</td>\n",
              "    </tr>\n",
              "    <tr>\n",
              "      <th>4</th>\n",
              "      <td>1</td>\n",
              "    </tr>\n",
              "  </tbody>\n",
              "</table>\n",
              "</div>\n",
              "      <button class=\"colab-df-convert\" onclick=\"convertToInteractive('df-66d20ad4-db1d-4e96-b2a8-fc450040e8b0')\"\n",
              "              title=\"Convert this dataframe to an interactive table.\"\n",
              "              style=\"display:none;\">\n",
              "        \n",
              "  <svg xmlns=\"http://www.w3.org/2000/svg\" height=\"24px\"viewBox=\"0 0 24 24\"\n",
              "       width=\"24px\">\n",
              "    <path d=\"M0 0h24v24H0V0z\" fill=\"none\"/>\n",
              "    <path d=\"M18.56 5.44l.94 2.06.94-2.06 2.06-.94-2.06-.94-.94-2.06-.94 2.06-2.06.94zm-11 1L8.5 8.5l.94-2.06 2.06-.94-2.06-.94L8.5 2.5l-.94 2.06-2.06.94zm10 10l.94 2.06.94-2.06 2.06-.94-2.06-.94-.94-2.06-.94 2.06-2.06.94z\"/><path d=\"M17.41 7.96l-1.37-1.37c-.4-.4-.92-.59-1.43-.59-.52 0-1.04.2-1.43.59L10.3 9.45l-7.72 7.72c-.78.78-.78 2.05 0 2.83L4 21.41c.39.39.9.59 1.41.59.51 0 1.02-.2 1.41-.59l7.78-7.78 2.81-2.81c.8-.78.8-2.07 0-2.86zM5.41 20L4 18.59l7.72-7.72 1.47 1.35L5.41 20z\"/>\n",
              "  </svg>\n",
              "      </button>\n",
              "      \n",
              "  <style>\n",
              "    .colab-df-container {\n",
              "      display:flex;\n",
              "      flex-wrap:wrap;\n",
              "      gap: 12px;\n",
              "    }\n",
              "\n",
              "    .colab-df-convert {\n",
              "      background-color: #E8F0FE;\n",
              "      border: none;\n",
              "      border-radius: 50%;\n",
              "      cursor: pointer;\n",
              "      display: none;\n",
              "      fill: #1967D2;\n",
              "      height: 32px;\n",
              "      padding: 0 0 0 0;\n",
              "      width: 32px;\n",
              "    }\n",
              "\n",
              "    .colab-df-convert:hover {\n",
              "      background-color: #E2EBFA;\n",
              "      box-shadow: 0px 1px 2px rgba(60, 64, 67, 0.3), 0px 1px 3px 1px rgba(60, 64, 67, 0.15);\n",
              "      fill: #174EA6;\n",
              "    }\n",
              "\n",
              "    [theme=dark] .colab-df-convert {\n",
              "      background-color: #3B4455;\n",
              "      fill: #D2E3FC;\n",
              "    }\n",
              "\n",
              "    [theme=dark] .colab-df-convert:hover {\n",
              "      background-color: #434B5C;\n",
              "      box-shadow: 0px 1px 3px 1px rgba(0, 0, 0, 0.15);\n",
              "      filter: drop-shadow(0px 1px 2px rgba(0, 0, 0, 0.3));\n",
              "      fill: #FFFFFF;\n",
              "    }\n",
              "  </style>\n",
              "\n",
              "      <script>\n",
              "        const buttonEl =\n",
              "          document.querySelector('#df-66d20ad4-db1d-4e96-b2a8-fc450040e8b0 button.colab-df-convert');\n",
              "        buttonEl.style.display =\n",
              "          google.colab.kernel.accessAllowed ? 'block' : 'none';\n",
              "\n",
              "        async function convertToInteractive(key) {\n",
              "          const element = document.querySelector('#df-66d20ad4-db1d-4e96-b2a8-fc450040e8b0');\n",
              "          const dataTable =\n",
              "            await google.colab.kernel.invokeFunction('convertToInteractive',\n",
              "                                                     [key], {});\n",
              "          if (!dataTable) return;\n",
              "\n",
              "          const docLinkHtml = 'Like what you see? Visit the ' +\n",
              "            '<a target=\"_blank\" href=https://colab.research.google.com/notebooks/data_table.ipynb>data table notebook</a>'\n",
              "            + ' to learn more about interactive tables.';\n",
              "          element.innerHTML = '';\n",
              "          dataTable['output_type'] = 'display_data';\n",
              "          await google.colab.output.renderOutput(dataTable, element);\n",
              "          const docLink = document.createElement('div');\n",
              "          docLink.innerHTML = docLinkHtml;\n",
              "          element.appendChild(docLink);\n",
              "        }\n",
              "      </script>\n",
              "    </div>\n",
              "  </div>\n",
              "  "
            ]
          },
          "metadata": {},
          "execution_count": 52
        }
      ]
    },
    {
      "cell_type": "code",
      "source": [
        "TT_deceased=[]\n",
        "for i in range (len(TT1['deceased'])):\n",
        "    X=TT1['deceased'][i] - TT1['deceased'][i-1]\n",
        "    TT_deceased.append(X)\n",
        "TT_deceased.remove(-527424)\n",
        "print(type(TT_deceased))\n",
        "TT_deceased1=pd.DataFrame(TT_deceased)\n",
        "TT_deceased1.columns=['Dailydeceased']\n",
        "TT_deceased1.head()"
      ],
      "metadata": {
        "colab": {
          "base_uri": "https://localhost:8080/",
          "height": 224
        },
        "id": "rYHpD3qoKGJh",
        "outputId": "ae85905c-652f-451d-c609-0cb72bfd3523"
      },
      "execution_count": null,
      "outputs": [
        {
          "output_type": "stream",
          "name": "stdout",
          "text": [
            "<class 'list'>\n"
          ]
        },
        {
          "output_type": "execute_result",
          "data": {
            "text/plain": [
              "   Dailydeceased\n",
              "0              0\n",
              "1              0\n",
              "2              0\n",
              "3              0\n",
              "4              0"
            ],
            "text/html": [
              "\n",
              "  <div id=\"df-070888d0-089a-42e3-9c22-fee8bb6613f1\">\n",
              "    <div class=\"colab-df-container\">\n",
              "      <div>\n",
              "<style scoped>\n",
              "    .dataframe tbody tr th:only-of-type {\n",
              "        vertical-align: middle;\n",
              "    }\n",
              "\n",
              "    .dataframe tbody tr th {\n",
              "        vertical-align: top;\n",
              "    }\n",
              "\n",
              "    .dataframe thead th {\n",
              "        text-align: right;\n",
              "    }\n",
              "</style>\n",
              "<table border=\"1\" class=\"dataframe\">\n",
              "  <thead>\n",
              "    <tr style=\"text-align: right;\">\n",
              "      <th></th>\n",
              "      <th>Dailydeceased</th>\n",
              "    </tr>\n",
              "  </thead>\n",
              "  <tbody>\n",
              "    <tr>\n",
              "      <th>0</th>\n",
              "      <td>0</td>\n",
              "    </tr>\n",
              "    <tr>\n",
              "      <th>1</th>\n",
              "      <td>0</td>\n",
              "    </tr>\n",
              "    <tr>\n",
              "      <th>2</th>\n",
              "      <td>0</td>\n",
              "    </tr>\n",
              "    <tr>\n",
              "      <th>3</th>\n",
              "      <td>0</td>\n",
              "    </tr>\n",
              "    <tr>\n",
              "      <th>4</th>\n",
              "      <td>0</td>\n",
              "    </tr>\n",
              "  </tbody>\n",
              "</table>\n",
              "</div>\n",
              "      <button class=\"colab-df-convert\" onclick=\"convertToInteractive('df-070888d0-089a-42e3-9c22-fee8bb6613f1')\"\n",
              "              title=\"Convert this dataframe to an interactive table.\"\n",
              "              style=\"display:none;\">\n",
              "        \n",
              "  <svg xmlns=\"http://www.w3.org/2000/svg\" height=\"24px\"viewBox=\"0 0 24 24\"\n",
              "       width=\"24px\">\n",
              "    <path d=\"M0 0h24v24H0V0z\" fill=\"none\"/>\n",
              "    <path d=\"M18.56 5.44l.94 2.06.94-2.06 2.06-.94-2.06-.94-.94-2.06-.94 2.06-2.06.94zm-11 1L8.5 8.5l.94-2.06 2.06-.94-2.06-.94L8.5 2.5l-.94 2.06-2.06.94zm10 10l.94 2.06.94-2.06 2.06-.94-2.06-.94-.94-2.06-.94 2.06-2.06.94z\"/><path d=\"M17.41 7.96l-1.37-1.37c-.4-.4-.92-.59-1.43-.59-.52 0-1.04.2-1.43.59L10.3 9.45l-7.72 7.72c-.78.78-.78 2.05 0 2.83L4 21.41c.39.39.9.59 1.41.59.51 0 1.02-.2 1.41-.59l7.78-7.78 2.81-2.81c.8-.78.8-2.07 0-2.86zM5.41 20L4 18.59l7.72-7.72 1.47 1.35L5.41 20z\"/>\n",
              "  </svg>\n",
              "      </button>\n",
              "      \n",
              "  <style>\n",
              "    .colab-df-container {\n",
              "      display:flex;\n",
              "      flex-wrap:wrap;\n",
              "      gap: 12px;\n",
              "    }\n",
              "\n",
              "    .colab-df-convert {\n",
              "      background-color: #E8F0FE;\n",
              "      border: none;\n",
              "      border-radius: 50%;\n",
              "      cursor: pointer;\n",
              "      display: none;\n",
              "      fill: #1967D2;\n",
              "      height: 32px;\n",
              "      padding: 0 0 0 0;\n",
              "      width: 32px;\n",
              "    }\n",
              "\n",
              "    .colab-df-convert:hover {\n",
              "      background-color: #E2EBFA;\n",
              "      box-shadow: 0px 1px 2px rgba(60, 64, 67, 0.3), 0px 1px 3px 1px rgba(60, 64, 67, 0.15);\n",
              "      fill: #174EA6;\n",
              "    }\n",
              "\n",
              "    [theme=dark] .colab-df-convert {\n",
              "      background-color: #3B4455;\n",
              "      fill: #D2E3FC;\n",
              "    }\n",
              "\n",
              "    [theme=dark] .colab-df-convert:hover {\n",
              "      background-color: #434B5C;\n",
              "      box-shadow: 0px 1px 3px 1px rgba(0, 0, 0, 0.15);\n",
              "      filter: drop-shadow(0px 1px 2px rgba(0, 0, 0, 0.3));\n",
              "      fill: #FFFFFF;\n",
              "    }\n",
              "  </style>\n",
              "\n",
              "      <script>\n",
              "        const buttonEl =\n",
              "          document.querySelector('#df-070888d0-089a-42e3-9c22-fee8bb6613f1 button.colab-df-convert');\n",
              "        buttonEl.style.display =\n",
              "          google.colab.kernel.accessAllowed ? 'block' : 'none';\n",
              "\n",
              "        async function convertToInteractive(key) {\n",
              "          const element = document.querySelector('#df-070888d0-089a-42e3-9c22-fee8bb6613f1');\n",
              "          const dataTable =\n",
              "            await google.colab.kernel.invokeFunction('convertToInteractive',\n",
              "                                                     [key], {});\n",
              "          if (!dataTable) return;\n",
              "\n",
              "          const docLinkHtml = 'Like what you see? Visit the ' +\n",
              "            '<a target=\"_blank\" href=https://colab.research.google.com/notebooks/data_table.ipynb>data table notebook</a>'\n",
              "            + ' to learn more about interactive tables.';\n",
              "          element.innerHTML = '';\n",
              "          dataTable['output_type'] = 'display_data';\n",
              "          await google.colab.output.renderOutput(dataTable, element);\n",
              "          const docLink = document.createElement('div');\n",
              "          docLink.innerHTML = docLinkHtml;\n",
              "          element.appendChild(docLink);\n",
              "        }\n",
              "      </script>\n",
              "    </div>\n",
              "  </div>\n",
              "  "
            ]
          },
          "metadata": {},
          "execution_count": 53
        }
      ]
    },
    {
      "cell_type": "code",
      "source": [
        "TT_recovered=[]\n",
        "for i in range (len(TT1['recovered'])):\n",
        "    X=TT1['recovered'][i] - TT1['recovered'][i-1]\n",
        "    TT_recovered.append(X)\n",
        "TT_recovered.remove(-43483873)\n",
        "print(type(TT_recovered))\n",
        "TT_recovered1=pd.DataFrame(TT_recovered)\n",
        "TT_recovered1.columns=['Dailyrecovered']\n",
        "TT_recovered1.head()"
      ],
      "metadata": {
        "colab": {
          "base_uri": "https://localhost:8080/",
          "height": 224
        },
        "id": "x7YDVGoUKnen",
        "outputId": "4d199d2d-df7d-40e6-fede-6c498133476e"
      },
      "execution_count": null,
      "outputs": [
        {
          "output_type": "stream",
          "name": "stdout",
          "text": [
            "<class 'list'>\n"
          ]
        },
        {
          "output_type": "execute_result",
          "data": {
            "text/plain": [
              "   Dailyrecovered\n",
              "0               0\n",
              "1               0\n",
              "2               3\n",
              "3               0\n",
              "4               0"
            ],
            "text/html": [
              "\n",
              "  <div id=\"df-42b929d0-aab4-4ee5-92e9-cc00715f95af\">\n",
              "    <div class=\"colab-df-container\">\n",
              "      <div>\n",
              "<style scoped>\n",
              "    .dataframe tbody tr th:only-of-type {\n",
              "        vertical-align: middle;\n",
              "    }\n",
              "\n",
              "    .dataframe tbody tr th {\n",
              "        vertical-align: top;\n",
              "    }\n",
              "\n",
              "    .dataframe thead th {\n",
              "        text-align: right;\n",
              "    }\n",
              "</style>\n",
              "<table border=\"1\" class=\"dataframe\">\n",
              "  <thead>\n",
              "    <tr style=\"text-align: right;\">\n",
              "      <th></th>\n",
              "      <th>Dailyrecovered</th>\n",
              "    </tr>\n",
              "  </thead>\n",
              "  <tbody>\n",
              "    <tr>\n",
              "      <th>0</th>\n",
              "      <td>0</td>\n",
              "    </tr>\n",
              "    <tr>\n",
              "      <th>1</th>\n",
              "      <td>0</td>\n",
              "    </tr>\n",
              "    <tr>\n",
              "      <th>2</th>\n",
              "      <td>3</td>\n",
              "    </tr>\n",
              "    <tr>\n",
              "      <th>3</th>\n",
              "      <td>0</td>\n",
              "    </tr>\n",
              "    <tr>\n",
              "      <th>4</th>\n",
              "      <td>0</td>\n",
              "    </tr>\n",
              "  </tbody>\n",
              "</table>\n",
              "</div>\n",
              "      <button class=\"colab-df-convert\" onclick=\"convertToInteractive('df-42b929d0-aab4-4ee5-92e9-cc00715f95af')\"\n",
              "              title=\"Convert this dataframe to an interactive table.\"\n",
              "              style=\"display:none;\">\n",
              "        \n",
              "  <svg xmlns=\"http://www.w3.org/2000/svg\" height=\"24px\"viewBox=\"0 0 24 24\"\n",
              "       width=\"24px\">\n",
              "    <path d=\"M0 0h24v24H0V0z\" fill=\"none\"/>\n",
              "    <path d=\"M18.56 5.44l.94 2.06.94-2.06 2.06-.94-2.06-.94-.94-2.06-.94 2.06-2.06.94zm-11 1L8.5 8.5l.94-2.06 2.06-.94-2.06-.94L8.5 2.5l-.94 2.06-2.06.94zm10 10l.94 2.06.94-2.06 2.06-.94-2.06-.94-.94-2.06-.94 2.06-2.06.94z\"/><path d=\"M17.41 7.96l-1.37-1.37c-.4-.4-.92-.59-1.43-.59-.52 0-1.04.2-1.43.59L10.3 9.45l-7.72 7.72c-.78.78-.78 2.05 0 2.83L4 21.41c.39.39.9.59 1.41.59.51 0 1.02-.2 1.41-.59l7.78-7.78 2.81-2.81c.8-.78.8-2.07 0-2.86zM5.41 20L4 18.59l7.72-7.72 1.47 1.35L5.41 20z\"/>\n",
              "  </svg>\n",
              "      </button>\n",
              "      \n",
              "  <style>\n",
              "    .colab-df-container {\n",
              "      display:flex;\n",
              "      flex-wrap:wrap;\n",
              "      gap: 12px;\n",
              "    }\n",
              "\n",
              "    .colab-df-convert {\n",
              "      background-color: #E8F0FE;\n",
              "      border: none;\n",
              "      border-radius: 50%;\n",
              "      cursor: pointer;\n",
              "      display: none;\n",
              "      fill: #1967D2;\n",
              "      height: 32px;\n",
              "      padding: 0 0 0 0;\n",
              "      width: 32px;\n",
              "    }\n",
              "\n",
              "    .colab-df-convert:hover {\n",
              "      background-color: #E2EBFA;\n",
              "      box-shadow: 0px 1px 2px rgba(60, 64, 67, 0.3), 0px 1px 3px 1px rgba(60, 64, 67, 0.15);\n",
              "      fill: #174EA6;\n",
              "    }\n",
              "\n",
              "    [theme=dark] .colab-df-convert {\n",
              "      background-color: #3B4455;\n",
              "      fill: #D2E3FC;\n",
              "    }\n",
              "\n",
              "    [theme=dark] .colab-df-convert:hover {\n",
              "      background-color: #434B5C;\n",
              "      box-shadow: 0px 1px 3px 1px rgba(0, 0, 0, 0.15);\n",
              "      filter: drop-shadow(0px 1px 2px rgba(0, 0, 0, 0.3));\n",
              "      fill: #FFFFFF;\n",
              "    }\n",
              "  </style>\n",
              "\n",
              "      <script>\n",
              "        const buttonEl =\n",
              "          document.querySelector('#df-42b929d0-aab4-4ee5-92e9-cc00715f95af button.colab-df-convert');\n",
              "        buttonEl.style.display =\n",
              "          google.colab.kernel.accessAllowed ? 'block' : 'none';\n",
              "\n",
              "        async function convertToInteractive(key) {\n",
              "          const element = document.querySelector('#df-42b929d0-aab4-4ee5-92e9-cc00715f95af');\n",
              "          const dataTable =\n",
              "            await google.colab.kernel.invokeFunction('convertToInteractive',\n",
              "                                                     [key], {});\n",
              "          if (!dataTable) return;\n",
              "\n",
              "          const docLinkHtml = 'Like what you see? Visit the ' +\n",
              "            '<a target=\"_blank\" href=https://colab.research.google.com/notebooks/data_table.ipynb>data table notebook</a>'\n",
              "            + ' to learn more about interactive tables.';\n",
              "          element.innerHTML = '';\n",
              "          dataTable['output_type'] = 'display_data';\n",
              "          await google.colab.output.renderOutput(dataTable, element);\n",
              "          const docLink = document.createElement('div');\n",
              "          docLink.innerHTML = docLinkHtml;\n",
              "          element.appendChild(docLink);\n",
              "        }\n",
              "      </script>\n",
              "    </div>\n",
              "  </div>\n",
              "  "
            ]
          },
          "metadata": {},
          "execution_count": 54
        }
      ]
    },
    {
      "cell_type": "code",
      "source": [
        "TT_vaccinated1=[]\n",
        "for i in range (len(TT1['vaccinated1'])):\n",
        "    X=TT1['vaccinated1'][i] - TT1['vaccinated1'][i-1]\n",
        "    TT_vaccinated1.append(X)\n",
        "TT_vaccinated1.remove(-1014103840)\n",
        "print(type(TT_vaccinated1))\n",
        "TT_vaccinated11=pd.DataFrame(TT_vaccinated1)\n",
        "#AR_vaccinated11.shape\n",
        "TT_vaccinated11.columns=['Dailyvaccianted1']\n",
        "TT_vaccinated11.head()"
      ],
      "metadata": {
        "colab": {
          "base_uri": "https://localhost:8080/",
          "height": 224
        },
        "id": "ge5JezTiLDSm",
        "outputId": "db89bb15-1e90-4443-b5f0-833570f75665"
      },
      "execution_count": null,
      "outputs": [
        {
          "output_type": "stream",
          "name": "stdout",
          "text": [
            "<class 'list'>\n"
          ]
        },
        {
          "output_type": "execute_result",
          "data": {
            "text/plain": [
              "   Dailyvaccianted1\n",
              "0                 0\n",
              "1                 0\n",
              "2                 0\n",
              "3                 0\n",
              "4                 0"
            ],
            "text/html": [
              "\n",
              "  <div id=\"df-929964a4-146a-408b-8541-2a8760384b1a\">\n",
              "    <div class=\"colab-df-container\">\n",
              "      <div>\n",
              "<style scoped>\n",
              "    .dataframe tbody tr th:only-of-type {\n",
              "        vertical-align: middle;\n",
              "    }\n",
              "\n",
              "    .dataframe tbody tr th {\n",
              "        vertical-align: top;\n",
              "    }\n",
              "\n",
              "    .dataframe thead th {\n",
              "        text-align: right;\n",
              "    }\n",
              "</style>\n",
              "<table border=\"1\" class=\"dataframe\">\n",
              "  <thead>\n",
              "    <tr style=\"text-align: right;\">\n",
              "      <th></th>\n",
              "      <th>Dailyvaccianted1</th>\n",
              "    </tr>\n",
              "  </thead>\n",
              "  <tbody>\n",
              "    <tr>\n",
              "      <th>0</th>\n",
              "      <td>0</td>\n",
              "    </tr>\n",
              "    <tr>\n",
              "      <th>1</th>\n",
              "      <td>0</td>\n",
              "    </tr>\n",
              "    <tr>\n",
              "      <th>2</th>\n",
              "      <td>0</td>\n",
              "    </tr>\n",
              "    <tr>\n",
              "      <th>3</th>\n",
              "      <td>0</td>\n",
              "    </tr>\n",
              "    <tr>\n",
              "      <th>4</th>\n",
              "      <td>0</td>\n",
              "    </tr>\n",
              "  </tbody>\n",
              "</table>\n",
              "</div>\n",
              "      <button class=\"colab-df-convert\" onclick=\"convertToInteractive('df-929964a4-146a-408b-8541-2a8760384b1a')\"\n",
              "              title=\"Convert this dataframe to an interactive table.\"\n",
              "              style=\"display:none;\">\n",
              "        \n",
              "  <svg xmlns=\"http://www.w3.org/2000/svg\" height=\"24px\"viewBox=\"0 0 24 24\"\n",
              "       width=\"24px\">\n",
              "    <path d=\"M0 0h24v24H0V0z\" fill=\"none\"/>\n",
              "    <path d=\"M18.56 5.44l.94 2.06.94-2.06 2.06-.94-2.06-.94-.94-2.06-.94 2.06-2.06.94zm-11 1L8.5 8.5l.94-2.06 2.06-.94-2.06-.94L8.5 2.5l-.94 2.06-2.06.94zm10 10l.94 2.06.94-2.06 2.06-.94-2.06-.94-.94-2.06-.94 2.06-2.06.94z\"/><path d=\"M17.41 7.96l-1.37-1.37c-.4-.4-.92-.59-1.43-.59-.52 0-1.04.2-1.43.59L10.3 9.45l-7.72 7.72c-.78.78-.78 2.05 0 2.83L4 21.41c.39.39.9.59 1.41.59.51 0 1.02-.2 1.41-.59l7.78-7.78 2.81-2.81c.8-.78.8-2.07 0-2.86zM5.41 20L4 18.59l7.72-7.72 1.47 1.35L5.41 20z\"/>\n",
              "  </svg>\n",
              "      </button>\n",
              "      \n",
              "  <style>\n",
              "    .colab-df-container {\n",
              "      display:flex;\n",
              "      flex-wrap:wrap;\n",
              "      gap: 12px;\n",
              "    }\n",
              "\n",
              "    .colab-df-convert {\n",
              "      background-color: #E8F0FE;\n",
              "      border: none;\n",
              "      border-radius: 50%;\n",
              "      cursor: pointer;\n",
              "      display: none;\n",
              "      fill: #1967D2;\n",
              "      height: 32px;\n",
              "      padding: 0 0 0 0;\n",
              "      width: 32px;\n",
              "    }\n",
              "\n",
              "    .colab-df-convert:hover {\n",
              "      background-color: #E2EBFA;\n",
              "      box-shadow: 0px 1px 2px rgba(60, 64, 67, 0.3), 0px 1px 3px 1px rgba(60, 64, 67, 0.15);\n",
              "      fill: #174EA6;\n",
              "    }\n",
              "\n",
              "    [theme=dark] .colab-df-convert {\n",
              "      background-color: #3B4455;\n",
              "      fill: #D2E3FC;\n",
              "    }\n",
              "\n",
              "    [theme=dark] .colab-df-convert:hover {\n",
              "      background-color: #434B5C;\n",
              "      box-shadow: 0px 1px 3px 1px rgba(0, 0, 0, 0.15);\n",
              "      filter: drop-shadow(0px 1px 2px rgba(0, 0, 0, 0.3));\n",
              "      fill: #FFFFFF;\n",
              "    }\n",
              "  </style>\n",
              "\n",
              "      <script>\n",
              "        const buttonEl =\n",
              "          document.querySelector('#df-929964a4-146a-408b-8541-2a8760384b1a button.colab-df-convert');\n",
              "        buttonEl.style.display =\n",
              "          google.colab.kernel.accessAllowed ? 'block' : 'none';\n",
              "\n",
              "        async function convertToInteractive(key) {\n",
              "          const element = document.querySelector('#df-929964a4-146a-408b-8541-2a8760384b1a');\n",
              "          const dataTable =\n",
              "            await google.colab.kernel.invokeFunction('convertToInteractive',\n",
              "                                                     [key], {});\n",
              "          if (!dataTable) return;\n",
              "\n",
              "          const docLinkHtml = 'Like what you see? Visit the ' +\n",
              "            '<a target=\"_blank\" href=https://colab.research.google.com/notebooks/data_table.ipynb>data table notebook</a>'\n",
              "            + ' to learn more about interactive tables.';\n",
              "          element.innerHTML = '';\n",
              "          dataTable['output_type'] = 'display_data';\n",
              "          await google.colab.output.renderOutput(dataTable, element);\n",
              "          const docLink = document.createElement('div');\n",
              "          docLink.innerHTML = docLinkHtml;\n",
              "          element.appendChild(docLink);\n",
              "        }\n",
              "      </script>\n",
              "    </div>\n",
              "  </div>\n",
              "  "
            ]
          },
          "metadata": {},
          "execution_count": 56
        }
      ]
    },
    {
      "cell_type": "code",
      "source": [
        "TT_vaccinated2=[]\n",
        "for i in range (len(TT1['vaccinated2'])):\n",
        "    X=TT1['vaccinated2'][i] - TT1['vaccinated2'][i-1]\n",
        "    TT_vaccinated2.append(X)\n",
        "TT_vaccinated2.remove(-927186382)\n",
        "print(type(TT_vaccinated2))\n",
        "TT_vaccinated21=pd.DataFrame(TT_vaccinated2)\n",
        "#AR_vaccinated21.shape\n",
        "TT_vaccinated21.columns=['Dailyvaccinated']\n",
        "TT_vaccinated21.head()"
      ],
      "metadata": {
        "colab": {
          "base_uri": "https://localhost:8080/",
          "height": 224
        },
        "id": "LBHT2uS8Lm2E",
        "outputId": "90fa34e2-8486-4221-c5c0-6a57ae31a4ae"
      },
      "execution_count": null,
      "outputs": [
        {
          "output_type": "stream",
          "name": "stdout",
          "text": [
            "<class 'list'>\n"
          ]
        },
        {
          "output_type": "execute_result",
          "data": {
            "text/plain": [
              "   Dailyvaccinated\n",
              "0                0\n",
              "1                0\n",
              "2                0\n",
              "3                0\n",
              "4                0"
            ],
            "text/html": [
              "\n",
              "  <div id=\"df-6593282d-abbe-40f9-a3e4-06704db7e7d4\">\n",
              "    <div class=\"colab-df-container\">\n",
              "      <div>\n",
              "<style scoped>\n",
              "    .dataframe tbody tr th:only-of-type {\n",
              "        vertical-align: middle;\n",
              "    }\n",
              "\n",
              "    .dataframe tbody tr th {\n",
              "        vertical-align: top;\n",
              "    }\n",
              "\n",
              "    .dataframe thead th {\n",
              "        text-align: right;\n",
              "    }\n",
              "</style>\n",
              "<table border=\"1\" class=\"dataframe\">\n",
              "  <thead>\n",
              "    <tr style=\"text-align: right;\">\n",
              "      <th></th>\n",
              "      <th>Dailyvaccinated</th>\n",
              "    </tr>\n",
              "  </thead>\n",
              "  <tbody>\n",
              "    <tr>\n",
              "      <th>0</th>\n",
              "      <td>0</td>\n",
              "    </tr>\n",
              "    <tr>\n",
              "      <th>1</th>\n",
              "      <td>0</td>\n",
              "    </tr>\n",
              "    <tr>\n",
              "      <th>2</th>\n",
              "      <td>0</td>\n",
              "    </tr>\n",
              "    <tr>\n",
              "      <th>3</th>\n",
              "      <td>0</td>\n",
              "    </tr>\n",
              "    <tr>\n",
              "      <th>4</th>\n",
              "      <td>0</td>\n",
              "    </tr>\n",
              "  </tbody>\n",
              "</table>\n",
              "</div>\n",
              "      <button class=\"colab-df-convert\" onclick=\"convertToInteractive('df-6593282d-abbe-40f9-a3e4-06704db7e7d4')\"\n",
              "              title=\"Convert this dataframe to an interactive table.\"\n",
              "              style=\"display:none;\">\n",
              "        \n",
              "  <svg xmlns=\"http://www.w3.org/2000/svg\" height=\"24px\"viewBox=\"0 0 24 24\"\n",
              "       width=\"24px\">\n",
              "    <path d=\"M0 0h24v24H0V0z\" fill=\"none\"/>\n",
              "    <path d=\"M18.56 5.44l.94 2.06.94-2.06 2.06-.94-2.06-.94-.94-2.06-.94 2.06-2.06.94zm-11 1L8.5 8.5l.94-2.06 2.06-.94-2.06-.94L8.5 2.5l-.94 2.06-2.06.94zm10 10l.94 2.06.94-2.06 2.06-.94-2.06-.94-.94-2.06-.94 2.06-2.06.94z\"/><path d=\"M17.41 7.96l-1.37-1.37c-.4-.4-.92-.59-1.43-.59-.52 0-1.04.2-1.43.59L10.3 9.45l-7.72 7.72c-.78.78-.78 2.05 0 2.83L4 21.41c.39.39.9.59 1.41.59.51 0 1.02-.2 1.41-.59l7.78-7.78 2.81-2.81c.8-.78.8-2.07 0-2.86zM5.41 20L4 18.59l7.72-7.72 1.47 1.35L5.41 20z\"/>\n",
              "  </svg>\n",
              "      </button>\n",
              "      \n",
              "  <style>\n",
              "    .colab-df-container {\n",
              "      display:flex;\n",
              "      flex-wrap:wrap;\n",
              "      gap: 12px;\n",
              "    }\n",
              "\n",
              "    .colab-df-convert {\n",
              "      background-color: #E8F0FE;\n",
              "      border: none;\n",
              "      border-radius: 50%;\n",
              "      cursor: pointer;\n",
              "      display: none;\n",
              "      fill: #1967D2;\n",
              "      height: 32px;\n",
              "      padding: 0 0 0 0;\n",
              "      width: 32px;\n",
              "    }\n",
              "\n",
              "    .colab-df-convert:hover {\n",
              "      background-color: #E2EBFA;\n",
              "      box-shadow: 0px 1px 2px rgba(60, 64, 67, 0.3), 0px 1px 3px 1px rgba(60, 64, 67, 0.15);\n",
              "      fill: #174EA6;\n",
              "    }\n",
              "\n",
              "    [theme=dark] .colab-df-convert {\n",
              "      background-color: #3B4455;\n",
              "      fill: #D2E3FC;\n",
              "    }\n",
              "\n",
              "    [theme=dark] .colab-df-convert:hover {\n",
              "      background-color: #434B5C;\n",
              "      box-shadow: 0px 1px 3px 1px rgba(0, 0, 0, 0.15);\n",
              "      filter: drop-shadow(0px 1px 2px rgba(0, 0, 0, 0.3));\n",
              "      fill: #FFFFFF;\n",
              "    }\n",
              "  </style>\n",
              "\n",
              "      <script>\n",
              "        const buttonEl =\n",
              "          document.querySelector('#df-6593282d-abbe-40f9-a3e4-06704db7e7d4 button.colab-df-convert');\n",
              "        buttonEl.style.display =\n",
              "          google.colab.kernel.accessAllowed ? 'block' : 'none';\n",
              "\n",
              "        async function convertToInteractive(key) {\n",
              "          const element = document.querySelector('#df-6593282d-abbe-40f9-a3e4-06704db7e7d4');\n",
              "          const dataTable =\n",
              "            await google.colab.kernel.invokeFunction('convertToInteractive',\n",
              "                                                     [key], {});\n",
              "          if (!dataTable) return;\n",
              "\n",
              "          const docLinkHtml = 'Like what you see? Visit the ' +\n",
              "            '<a target=\"_blank\" href=https://colab.research.google.com/notebooks/data_table.ipynb>data table notebook</a>'\n",
              "            + ' to learn more about interactive tables.';\n",
              "          element.innerHTML = '';\n",
              "          dataTable['output_type'] = 'display_data';\n",
              "          await google.colab.output.renderOutput(dataTable, element);\n",
              "          const docLink = document.createElement('div');\n",
              "          docLink.innerHTML = docLinkHtml;\n",
              "          element.appendChild(docLink);\n",
              "        }\n",
              "      </script>\n",
              "    </div>\n",
              "  </div>\n",
              "  "
            ]
          },
          "metadata": {},
          "execution_count": 57
        }
      ]
    },
    {
      "cell_type": "code",
      "source": [
        "TT_vaccinatedpd=[]\n",
        "for i in range (len(TT1['vaccinatedpd'])):\n",
        "    X=TT1['vaccinatedpd'][i] - TT1['vaccinatedpd'][i-1]\n",
        "    TT_vaccinatedpd.append(X)\n",
        "TT_vaccinatedpd.remove(-106859639)\n",
        "print(type(TT_vaccinatedpd))\n",
        "TT_vaccinatedpd1=pd.DataFrame(TT_vaccinatedpd)\n",
        "#AR_vaccinated21.shape\n",
        "TT_vaccinatedpd1.columns=['Dailyvaccinated']\n",
        "TT_vaccinatedpd1.head()"
      ],
      "metadata": {
        "colab": {
          "base_uri": "https://localhost:8080/",
          "height": 224
        },
        "id": "fKNLdBumL8c4",
        "outputId": "08d19df2-252a-4a39-be44-73fa4b10735f"
      },
      "execution_count": null,
      "outputs": [
        {
          "output_type": "stream",
          "name": "stdout",
          "text": [
            "<class 'list'>\n"
          ]
        },
        {
          "output_type": "execute_result",
          "data": {
            "text/plain": [
              "   Dailyvaccinated\n",
              "0                0\n",
              "1                0\n",
              "2                0\n",
              "3                0\n",
              "4                0"
            ],
            "text/html": [
              "\n",
              "  <div id=\"df-86c3fa97-2344-4ef2-b04c-50cb1434c9db\">\n",
              "    <div class=\"colab-df-container\">\n",
              "      <div>\n",
              "<style scoped>\n",
              "    .dataframe tbody tr th:only-of-type {\n",
              "        vertical-align: middle;\n",
              "    }\n",
              "\n",
              "    .dataframe tbody tr th {\n",
              "        vertical-align: top;\n",
              "    }\n",
              "\n",
              "    .dataframe thead th {\n",
              "        text-align: right;\n",
              "    }\n",
              "</style>\n",
              "<table border=\"1\" class=\"dataframe\">\n",
              "  <thead>\n",
              "    <tr style=\"text-align: right;\">\n",
              "      <th></th>\n",
              "      <th>Dailyvaccinated</th>\n",
              "    </tr>\n",
              "  </thead>\n",
              "  <tbody>\n",
              "    <tr>\n",
              "      <th>0</th>\n",
              "      <td>0</td>\n",
              "    </tr>\n",
              "    <tr>\n",
              "      <th>1</th>\n",
              "      <td>0</td>\n",
              "    </tr>\n",
              "    <tr>\n",
              "      <th>2</th>\n",
              "      <td>0</td>\n",
              "    </tr>\n",
              "    <tr>\n",
              "      <th>3</th>\n",
              "      <td>0</td>\n",
              "    </tr>\n",
              "    <tr>\n",
              "      <th>4</th>\n",
              "      <td>0</td>\n",
              "    </tr>\n",
              "  </tbody>\n",
              "</table>\n",
              "</div>\n",
              "      <button class=\"colab-df-convert\" onclick=\"convertToInteractive('df-86c3fa97-2344-4ef2-b04c-50cb1434c9db')\"\n",
              "              title=\"Convert this dataframe to an interactive table.\"\n",
              "              style=\"display:none;\">\n",
              "        \n",
              "  <svg xmlns=\"http://www.w3.org/2000/svg\" height=\"24px\"viewBox=\"0 0 24 24\"\n",
              "       width=\"24px\">\n",
              "    <path d=\"M0 0h24v24H0V0z\" fill=\"none\"/>\n",
              "    <path d=\"M18.56 5.44l.94 2.06.94-2.06 2.06-.94-2.06-.94-.94-2.06-.94 2.06-2.06.94zm-11 1L8.5 8.5l.94-2.06 2.06-.94-2.06-.94L8.5 2.5l-.94 2.06-2.06.94zm10 10l.94 2.06.94-2.06 2.06-.94-2.06-.94-.94-2.06-.94 2.06-2.06.94z\"/><path d=\"M17.41 7.96l-1.37-1.37c-.4-.4-.92-.59-1.43-.59-.52 0-1.04.2-1.43.59L10.3 9.45l-7.72 7.72c-.78.78-.78 2.05 0 2.83L4 21.41c.39.39.9.59 1.41.59.51 0 1.02-.2 1.41-.59l7.78-7.78 2.81-2.81c.8-.78.8-2.07 0-2.86zM5.41 20L4 18.59l7.72-7.72 1.47 1.35L5.41 20z\"/>\n",
              "  </svg>\n",
              "      </button>\n",
              "      \n",
              "  <style>\n",
              "    .colab-df-container {\n",
              "      display:flex;\n",
              "      flex-wrap:wrap;\n",
              "      gap: 12px;\n",
              "    }\n",
              "\n",
              "    .colab-df-convert {\n",
              "      background-color: #E8F0FE;\n",
              "      border: none;\n",
              "      border-radius: 50%;\n",
              "      cursor: pointer;\n",
              "      display: none;\n",
              "      fill: #1967D2;\n",
              "      height: 32px;\n",
              "      padding: 0 0 0 0;\n",
              "      width: 32px;\n",
              "    }\n",
              "\n",
              "    .colab-df-convert:hover {\n",
              "      background-color: #E2EBFA;\n",
              "      box-shadow: 0px 1px 2px rgba(60, 64, 67, 0.3), 0px 1px 3px 1px rgba(60, 64, 67, 0.15);\n",
              "      fill: #174EA6;\n",
              "    }\n",
              "\n",
              "    [theme=dark] .colab-df-convert {\n",
              "      background-color: #3B4455;\n",
              "      fill: #D2E3FC;\n",
              "    }\n",
              "\n",
              "    [theme=dark] .colab-df-convert:hover {\n",
              "      background-color: #434B5C;\n",
              "      box-shadow: 0px 1px 3px 1px rgba(0, 0, 0, 0.15);\n",
              "      filter: drop-shadow(0px 1px 2px rgba(0, 0, 0, 0.3));\n",
              "      fill: #FFFFFF;\n",
              "    }\n",
              "  </style>\n",
              "\n",
              "      <script>\n",
              "        const buttonEl =\n",
              "          document.querySelector('#df-86c3fa97-2344-4ef2-b04c-50cb1434c9db button.colab-df-convert');\n",
              "        buttonEl.style.display =\n",
              "          google.colab.kernel.accessAllowed ? 'block' : 'none';\n",
              "\n",
              "        async function convertToInteractive(key) {\n",
              "          const element = document.querySelector('#df-86c3fa97-2344-4ef2-b04c-50cb1434c9db');\n",
              "          const dataTable =\n",
              "            await google.colab.kernel.invokeFunction('convertToInteractive',\n",
              "                                                     [key], {});\n",
              "          if (!dataTable) return;\n",
              "\n",
              "          const docLinkHtml = 'Like what you see? Visit the ' +\n",
              "            '<a target=\"_blank\" href=https://colab.research.google.com/notebooks/data_table.ipynb>data table notebook</a>'\n",
              "            + ' to learn more about interactive tables.';\n",
              "          element.innerHTML = '';\n",
              "          dataTable['output_type'] = 'display_data';\n",
              "          await google.colab.output.renderOutput(dataTable, element);\n",
              "          const docLink = document.createElement('div');\n",
              "          docLink.innerHTML = docLinkHtml;\n",
              "          element.appendChild(docLink);\n",
              "        }\n",
              "      </script>\n",
              "    </div>\n",
              "  </div>\n",
              "  "
            ]
          },
          "metadata": {},
          "execution_count": 60
        }
      ]
    },
    {
      "cell_type": "code",
      "source": [
        "TT_tested=[]\n",
        "for i in range (len(TT1['tested'])):\n",
        "    X=TT1['tested'][i] - TT1['tested'][i-1]\n",
        "    TT_tested.append(X)\n",
        "TT_tested.remove(-883182319)\n",
        "print(type(TT_tested))\n",
        "TT_tested1=pd.DataFrame(TT_tested)\n",
        "#AR_tested.shape\n",
        "TT_tested1.columns=['Dailytested']\n",
        "TT_tested1.head()"
      ],
      "metadata": {
        "colab": {
          "base_uri": "https://localhost:8080/",
          "height": 224
        },
        "id": "e617JP9QMPzn",
        "outputId": "4992b889-2988-45b0-8d90-53a9c8faddaa"
      },
      "execution_count": null,
      "outputs": [
        {
          "output_type": "stream",
          "name": "stdout",
          "text": [
            "<class 'list'>\n"
          ]
        },
        {
          "output_type": "execute_result",
          "data": {
            "text/plain": [
              "   Dailytested\n",
              "0            0\n",
              "1            0\n",
              "2            0\n",
              "3            0\n",
              "4            0"
            ],
            "text/html": [
              "\n",
              "  <div id=\"df-a1e3c155-e9e7-40fa-b3b5-cfd8153ac476\">\n",
              "    <div class=\"colab-df-container\">\n",
              "      <div>\n",
              "<style scoped>\n",
              "    .dataframe tbody tr th:only-of-type {\n",
              "        vertical-align: middle;\n",
              "    }\n",
              "\n",
              "    .dataframe tbody tr th {\n",
              "        vertical-align: top;\n",
              "    }\n",
              "\n",
              "    .dataframe thead th {\n",
              "        text-align: right;\n",
              "    }\n",
              "</style>\n",
              "<table border=\"1\" class=\"dataframe\">\n",
              "  <thead>\n",
              "    <tr style=\"text-align: right;\">\n",
              "      <th></th>\n",
              "      <th>Dailytested</th>\n",
              "    </tr>\n",
              "  </thead>\n",
              "  <tbody>\n",
              "    <tr>\n",
              "      <th>0</th>\n",
              "      <td>0</td>\n",
              "    </tr>\n",
              "    <tr>\n",
              "      <th>1</th>\n",
              "      <td>0</td>\n",
              "    </tr>\n",
              "    <tr>\n",
              "      <th>2</th>\n",
              "      <td>0</td>\n",
              "    </tr>\n",
              "    <tr>\n",
              "      <th>3</th>\n",
              "      <td>0</td>\n",
              "    </tr>\n",
              "    <tr>\n",
              "      <th>4</th>\n",
              "      <td>0</td>\n",
              "    </tr>\n",
              "  </tbody>\n",
              "</table>\n",
              "</div>\n",
              "      <button class=\"colab-df-convert\" onclick=\"convertToInteractive('df-a1e3c155-e9e7-40fa-b3b5-cfd8153ac476')\"\n",
              "              title=\"Convert this dataframe to an interactive table.\"\n",
              "              style=\"display:none;\">\n",
              "        \n",
              "  <svg xmlns=\"http://www.w3.org/2000/svg\" height=\"24px\"viewBox=\"0 0 24 24\"\n",
              "       width=\"24px\">\n",
              "    <path d=\"M0 0h24v24H0V0z\" fill=\"none\"/>\n",
              "    <path d=\"M18.56 5.44l.94 2.06.94-2.06 2.06-.94-2.06-.94-.94-2.06-.94 2.06-2.06.94zm-11 1L8.5 8.5l.94-2.06 2.06-.94-2.06-.94L8.5 2.5l-.94 2.06-2.06.94zm10 10l.94 2.06.94-2.06 2.06-.94-2.06-.94-.94-2.06-.94 2.06-2.06.94z\"/><path d=\"M17.41 7.96l-1.37-1.37c-.4-.4-.92-.59-1.43-.59-.52 0-1.04.2-1.43.59L10.3 9.45l-7.72 7.72c-.78.78-.78 2.05 0 2.83L4 21.41c.39.39.9.59 1.41.59.51 0 1.02-.2 1.41-.59l7.78-7.78 2.81-2.81c.8-.78.8-2.07 0-2.86zM5.41 20L4 18.59l7.72-7.72 1.47 1.35L5.41 20z\"/>\n",
              "  </svg>\n",
              "      </button>\n",
              "      \n",
              "  <style>\n",
              "    .colab-df-container {\n",
              "      display:flex;\n",
              "      flex-wrap:wrap;\n",
              "      gap: 12px;\n",
              "    }\n",
              "\n",
              "    .colab-df-convert {\n",
              "      background-color: #E8F0FE;\n",
              "      border: none;\n",
              "      border-radius: 50%;\n",
              "      cursor: pointer;\n",
              "      display: none;\n",
              "      fill: #1967D2;\n",
              "      height: 32px;\n",
              "      padding: 0 0 0 0;\n",
              "      width: 32px;\n",
              "    }\n",
              "\n",
              "    .colab-df-convert:hover {\n",
              "      background-color: #E2EBFA;\n",
              "      box-shadow: 0px 1px 2px rgba(60, 64, 67, 0.3), 0px 1px 3px 1px rgba(60, 64, 67, 0.15);\n",
              "      fill: #174EA6;\n",
              "    }\n",
              "\n",
              "    [theme=dark] .colab-df-convert {\n",
              "      background-color: #3B4455;\n",
              "      fill: #D2E3FC;\n",
              "    }\n",
              "\n",
              "    [theme=dark] .colab-df-convert:hover {\n",
              "      background-color: #434B5C;\n",
              "      box-shadow: 0px 1px 3px 1px rgba(0, 0, 0, 0.15);\n",
              "      filter: drop-shadow(0px 1px 2px rgba(0, 0, 0, 0.3));\n",
              "      fill: #FFFFFF;\n",
              "    }\n",
              "  </style>\n",
              "\n",
              "      <script>\n",
              "        const buttonEl =\n",
              "          document.querySelector('#df-a1e3c155-e9e7-40fa-b3b5-cfd8153ac476 button.colab-df-convert');\n",
              "        buttonEl.style.display =\n",
              "          google.colab.kernel.accessAllowed ? 'block' : 'none';\n",
              "\n",
              "        async function convertToInteractive(key) {\n",
              "          const element = document.querySelector('#df-a1e3c155-e9e7-40fa-b3b5-cfd8153ac476');\n",
              "          const dataTable =\n",
              "            await google.colab.kernel.invokeFunction('convertToInteractive',\n",
              "                                                     [key], {});\n",
              "          if (!dataTable) return;\n",
              "\n",
              "          const docLinkHtml = 'Like what you see? Visit the ' +\n",
              "            '<a target=\"_blank\" href=https://colab.research.google.com/notebooks/data_table.ipynb>data table notebook</a>'\n",
              "            + ' to learn more about interactive tables.';\n",
              "          element.innerHTML = '';\n",
              "          dataTable['output_type'] = 'display_data';\n",
              "          await google.colab.output.renderOutput(dataTable, element);\n",
              "          const docLink = document.createElement('div');\n",
              "          docLink.innerHTML = docLinkHtml;\n",
              "          element.appendChild(docLink);\n",
              "        }\n",
              "      </script>\n",
              "    </div>\n",
              "  </div>\n",
              "  "
            ]
          },
          "metadata": {},
          "execution_count": 62
        }
      ]
    },
    {
      "cell_type": "code",
      "source": [
        "TT_other=[]\n",
        "for i in range (len(TT1['other'])):\n",
        "    X=TT1['other'][i] - TT1['other'][i-1]\n",
        "    TT_other.append(X)\n",
        "print(type(TT_other))\n",
        "TT_other.remove(-13197)\n",
        "TT_other1=pd.DataFrame(TT_other)\n",
        "#AR_tested.shape\n",
        "TT_other1.columns=['Dailytested']\n",
        "TT_other1.head()"
      ],
      "metadata": {
        "colab": {
          "base_uri": "https://localhost:8080/",
          "height": 224
        },
        "id": "ib-UsaZrMl-J",
        "outputId": "78006af5-6d3a-4248-9539-be3b74e1314e"
      },
      "execution_count": null,
      "outputs": [
        {
          "output_type": "stream",
          "name": "stdout",
          "text": [
            "<class 'list'>\n"
          ]
        },
        {
          "output_type": "execute_result",
          "data": {
            "text/plain": [
              "   Dailytested\n",
              "0            0\n",
              "1            0\n",
              "2            0\n",
              "3            0\n",
              "4            0"
            ],
            "text/html": [
              "\n",
              "  <div id=\"df-56a92f7b-c95a-42b0-ae6d-52e737927982\">\n",
              "    <div class=\"colab-df-container\">\n",
              "      <div>\n",
              "<style scoped>\n",
              "    .dataframe tbody tr th:only-of-type {\n",
              "        vertical-align: middle;\n",
              "    }\n",
              "\n",
              "    .dataframe tbody tr th {\n",
              "        vertical-align: top;\n",
              "    }\n",
              "\n",
              "    .dataframe thead th {\n",
              "        text-align: right;\n",
              "    }\n",
              "</style>\n",
              "<table border=\"1\" class=\"dataframe\">\n",
              "  <thead>\n",
              "    <tr style=\"text-align: right;\">\n",
              "      <th></th>\n",
              "      <th>Dailytested</th>\n",
              "    </tr>\n",
              "  </thead>\n",
              "  <tbody>\n",
              "    <tr>\n",
              "      <th>0</th>\n",
              "      <td>0</td>\n",
              "    </tr>\n",
              "    <tr>\n",
              "      <th>1</th>\n",
              "      <td>0</td>\n",
              "    </tr>\n",
              "    <tr>\n",
              "      <th>2</th>\n",
              "      <td>0</td>\n",
              "    </tr>\n",
              "    <tr>\n",
              "      <th>3</th>\n",
              "      <td>0</td>\n",
              "    </tr>\n",
              "    <tr>\n",
              "      <th>4</th>\n",
              "      <td>0</td>\n",
              "    </tr>\n",
              "  </tbody>\n",
              "</table>\n",
              "</div>\n",
              "      <button class=\"colab-df-convert\" onclick=\"convertToInteractive('df-56a92f7b-c95a-42b0-ae6d-52e737927982')\"\n",
              "              title=\"Convert this dataframe to an interactive table.\"\n",
              "              style=\"display:none;\">\n",
              "        \n",
              "  <svg xmlns=\"http://www.w3.org/2000/svg\" height=\"24px\"viewBox=\"0 0 24 24\"\n",
              "       width=\"24px\">\n",
              "    <path d=\"M0 0h24v24H0V0z\" fill=\"none\"/>\n",
              "    <path d=\"M18.56 5.44l.94 2.06.94-2.06 2.06-.94-2.06-.94-.94-2.06-.94 2.06-2.06.94zm-11 1L8.5 8.5l.94-2.06 2.06-.94-2.06-.94L8.5 2.5l-.94 2.06-2.06.94zm10 10l.94 2.06.94-2.06 2.06-.94-2.06-.94-.94-2.06-.94 2.06-2.06.94z\"/><path d=\"M17.41 7.96l-1.37-1.37c-.4-.4-.92-.59-1.43-.59-.52 0-1.04.2-1.43.59L10.3 9.45l-7.72 7.72c-.78.78-.78 2.05 0 2.83L4 21.41c.39.39.9.59 1.41.59.51 0 1.02-.2 1.41-.59l7.78-7.78 2.81-2.81c.8-.78.8-2.07 0-2.86zM5.41 20L4 18.59l7.72-7.72 1.47 1.35L5.41 20z\"/>\n",
              "  </svg>\n",
              "      </button>\n",
              "      \n",
              "  <style>\n",
              "    .colab-df-container {\n",
              "      display:flex;\n",
              "      flex-wrap:wrap;\n",
              "      gap: 12px;\n",
              "    }\n",
              "\n",
              "    .colab-df-convert {\n",
              "      background-color: #E8F0FE;\n",
              "      border: none;\n",
              "      border-radius: 50%;\n",
              "      cursor: pointer;\n",
              "      display: none;\n",
              "      fill: #1967D2;\n",
              "      height: 32px;\n",
              "      padding: 0 0 0 0;\n",
              "      width: 32px;\n",
              "    }\n",
              "\n",
              "    .colab-df-convert:hover {\n",
              "      background-color: #E2EBFA;\n",
              "      box-shadow: 0px 1px 2px rgba(60, 64, 67, 0.3), 0px 1px 3px 1px rgba(60, 64, 67, 0.15);\n",
              "      fill: #174EA6;\n",
              "    }\n",
              "\n",
              "    [theme=dark] .colab-df-convert {\n",
              "      background-color: #3B4455;\n",
              "      fill: #D2E3FC;\n",
              "    }\n",
              "\n",
              "    [theme=dark] .colab-df-convert:hover {\n",
              "      background-color: #434B5C;\n",
              "      box-shadow: 0px 1px 3px 1px rgba(0, 0, 0, 0.15);\n",
              "      filter: drop-shadow(0px 1px 2px rgba(0, 0, 0, 0.3));\n",
              "      fill: #FFFFFF;\n",
              "    }\n",
              "  </style>\n",
              "\n",
              "      <script>\n",
              "        const buttonEl =\n",
              "          document.querySelector('#df-56a92f7b-c95a-42b0-ae6d-52e737927982 button.colab-df-convert');\n",
              "        buttonEl.style.display =\n",
              "          google.colab.kernel.accessAllowed ? 'block' : 'none';\n",
              "\n",
              "        async function convertToInteractive(key) {\n",
              "          const element = document.querySelector('#df-56a92f7b-c95a-42b0-ae6d-52e737927982');\n",
              "          const dataTable =\n",
              "            await google.colab.kernel.invokeFunction('convertToInteractive',\n",
              "                                                     [key], {});\n",
              "          if (!dataTable) return;\n",
              "\n",
              "          const docLinkHtml = 'Like what you see? Visit the ' +\n",
              "            '<a target=\"_blank\" href=https://colab.research.google.com/notebooks/data_table.ipynb>data table notebook</a>'\n",
              "            + ' to learn more about interactive tables.';\n",
              "          element.innerHTML = '';\n",
              "          dataTable['output_type'] = 'display_data';\n",
              "          await google.colab.output.renderOutput(dataTable, element);\n",
              "          const docLink = document.createElement('div');\n",
              "          docLink.innerHTML = docLinkHtml;\n",
              "          element.appendChild(docLink);\n",
              "        }\n",
              "      </script>\n",
              "    </div>\n",
              "  </div>\n",
              "  "
            ]
          },
          "metadata": {},
          "execution_count": 63
        }
      ]
    },
    {
      "cell_type": "markdown",
      "source": [
        "## Exploratory Data Analysis"
      ],
      "metadata": {
        "id": "fXkwnDIeQp4u"
      }
    },
    {
      "cell_type": "code",
      "source": [
        "TT3.info()"
      ],
      "metadata": {
        "colab": {
          "base_uri": "https://localhost:8080/"
        },
        "id": "EHc4aLUONBFy",
        "outputId": "0a92d617-57c1-492e-9975-850e2414efe3"
      },
      "execution_count": null,
      "outputs": [
        {
          "output_type": "stream",
          "name": "stdout",
          "text": [
            "<class 'pandas.core.frame.DataFrame'>\n",
            "RangeIndex: 893 entries, 0 to 892\n",
            "Data columns (total 8 columns):\n",
            " #   Column        Non-Null Count  Dtype  \n",
            "---  ------        --------------  -----  \n",
            " 0   confirmed     893 non-null    float64\n",
            " 1   deceased      893 non-null    int64  \n",
            " 2   recovered     893 non-null    int64  \n",
            " 3   vaccinated1   893 non-null    int64  \n",
            " 4   vaccinated2   893 non-null    int64  \n",
            " 5   vaccinatedpd  893 non-null    int64  \n",
            " 6   tested        893 non-null    int64  \n",
            " 7   other         893 non-null    int64  \n",
            "dtypes: float64(1), int64(7)\n",
            "memory usage: 55.9 KB\n"
          ]
        }
      ]
    },
    {
      "cell_type": "code",
      "source": [
        "TT3.dtypes"
      ],
      "metadata": {
        "colab": {
          "base_uri": "https://localhost:8080/"
        },
        "id": "_silJaL9PO-8",
        "outputId": "f76e41af-0187-41fc-f55b-66d5152350eb"
      },
      "execution_count": null,
      "outputs": [
        {
          "output_type": "execute_result",
          "data": {
            "text/plain": [
              "confirmed       float64\n",
              "deceased          int64\n",
              "recovered         int64\n",
              "vaccinated1       int64\n",
              "vaccinated2       int64\n",
              "vaccinatedpd      int64\n",
              "tested            int64\n",
              "other             int64\n",
              "dtype: object"
            ]
          },
          "metadata": {},
          "execution_count": 68
        }
      ]
    },
    {
      "cell_type": "code",
      "source": [
        "TT3.shape"
      ],
      "metadata": {
        "colab": {
          "base_uri": "https://localhost:8080/"
        },
        "id": "lBL-KqXbPX5q",
        "outputId": "16474066-3ab3-4b9e-bd13-59413f776468"
      },
      "execution_count": null,
      "outputs": [
        {
          "output_type": "execute_result",
          "data": {
            "text/plain": [
              "(893, 8)"
            ]
          },
          "metadata": {},
          "execution_count": 70
        }
      ]
    },
    {
      "cell_type": "code",
      "source": [
        "TT3.describe()"
      ],
      "metadata": {
        "colab": {
          "base_uri": "https://localhost:8080/",
          "height": 300
        },
        "id": "JsTWgOlwPnLD",
        "outputId": "5af66165-9e72-4d91-8b9b-49031e260860"
      },
      "execution_count": null,
      "outputs": [
        {
          "output_type": "execute_result",
          "data": {
            "text/plain": [
              "          confirmed       deceased     recovered   vaccinated1   vaccinated2  \\\n",
              "count  8.930000e+02     893.000000  8.930000e+02  8.930000e+02  8.930000e+02   \n",
              "mean   2.198080e+07  281549.377380  2.116094e+07  3.795163e+08  2.601232e+08   \n",
              "std    1.642687e+07  200502.330783  1.625361e+07  4.162813e+08  3.466381e+08   \n",
              "min    2.000000e+00       0.000000  0.000000e+00  0.000000e+00  0.000000e+00   \n",
              "25%    6.903791e+06  105554.000000  5.824468e+06  0.000000e+00  0.000000e+00   \n",
              "50%    2.577153e+07  283280.000000  2.197990e+07  1.418802e+08  4.080950e+07   \n",
              "75%    3.480928e+07  480100.000000  3.423423e+07  8.347242e+08  5.825286e+08   \n",
              "max    4.415618e+07  527408.000000  4.347552e+07  1.014104e+09  9.271864e+08   \n",
              "\n",
              "       vaccinatedpd        tested         other  \n",
              "count  8.930000e+02  8.930000e+02    893.000000  \n",
              "mean   7.393481e+06  4.041384e+08   7556.499440  \n",
              "std    1.675433e+07  3.202669e+08   5660.038529  \n",
              "min    0.000000e+00  0.000000e+00      0.000000  \n",
              "25%    0.000000e+00  9.039372e+07   1040.000000  \n",
              "50%    0.000000e+00  3.522274e+08  10428.000000  \n",
              "75%    0.000000e+00  7.211467e+08  13197.000000  \n",
              "max    1.068596e+08  8.830745e+08  13197.000000  "
            ],
            "text/html": [
              "\n",
              "  <div id=\"df-056c0dc3-e04e-4548-bd8f-08cec86c0a10\">\n",
              "    <div class=\"colab-df-container\">\n",
              "      <div>\n",
              "<style scoped>\n",
              "    .dataframe tbody tr th:only-of-type {\n",
              "        vertical-align: middle;\n",
              "    }\n",
              "\n",
              "    .dataframe tbody tr th {\n",
              "        vertical-align: top;\n",
              "    }\n",
              "\n",
              "    .dataframe thead th {\n",
              "        text-align: right;\n",
              "    }\n",
              "</style>\n",
              "<table border=\"1\" class=\"dataframe\">\n",
              "  <thead>\n",
              "    <tr style=\"text-align: right;\">\n",
              "      <th></th>\n",
              "      <th>confirmed</th>\n",
              "      <th>deceased</th>\n",
              "      <th>recovered</th>\n",
              "      <th>vaccinated1</th>\n",
              "      <th>vaccinated2</th>\n",
              "      <th>vaccinatedpd</th>\n",
              "      <th>tested</th>\n",
              "      <th>other</th>\n",
              "    </tr>\n",
              "  </thead>\n",
              "  <tbody>\n",
              "    <tr>\n",
              "      <th>count</th>\n",
              "      <td>8.930000e+02</td>\n",
              "      <td>893.000000</td>\n",
              "      <td>8.930000e+02</td>\n",
              "      <td>8.930000e+02</td>\n",
              "      <td>8.930000e+02</td>\n",
              "      <td>8.930000e+02</td>\n",
              "      <td>8.930000e+02</td>\n",
              "      <td>893.000000</td>\n",
              "    </tr>\n",
              "    <tr>\n",
              "      <th>mean</th>\n",
              "      <td>2.198080e+07</td>\n",
              "      <td>281549.377380</td>\n",
              "      <td>2.116094e+07</td>\n",
              "      <td>3.795163e+08</td>\n",
              "      <td>2.601232e+08</td>\n",
              "      <td>7.393481e+06</td>\n",
              "      <td>4.041384e+08</td>\n",
              "      <td>7556.499440</td>\n",
              "    </tr>\n",
              "    <tr>\n",
              "      <th>std</th>\n",
              "      <td>1.642687e+07</td>\n",
              "      <td>200502.330783</td>\n",
              "      <td>1.625361e+07</td>\n",
              "      <td>4.162813e+08</td>\n",
              "      <td>3.466381e+08</td>\n",
              "      <td>1.675433e+07</td>\n",
              "      <td>3.202669e+08</td>\n",
              "      <td>5660.038529</td>\n",
              "    </tr>\n",
              "    <tr>\n",
              "      <th>min</th>\n",
              "      <td>2.000000e+00</td>\n",
              "      <td>0.000000</td>\n",
              "      <td>0.000000e+00</td>\n",
              "      <td>0.000000e+00</td>\n",
              "      <td>0.000000e+00</td>\n",
              "      <td>0.000000e+00</td>\n",
              "      <td>0.000000e+00</td>\n",
              "      <td>0.000000</td>\n",
              "    </tr>\n",
              "    <tr>\n",
              "      <th>25%</th>\n",
              "      <td>6.903791e+06</td>\n",
              "      <td>105554.000000</td>\n",
              "      <td>5.824468e+06</td>\n",
              "      <td>0.000000e+00</td>\n",
              "      <td>0.000000e+00</td>\n",
              "      <td>0.000000e+00</td>\n",
              "      <td>9.039372e+07</td>\n",
              "      <td>1040.000000</td>\n",
              "    </tr>\n",
              "    <tr>\n",
              "      <th>50%</th>\n",
              "      <td>2.577153e+07</td>\n",
              "      <td>283280.000000</td>\n",
              "      <td>2.197990e+07</td>\n",
              "      <td>1.418802e+08</td>\n",
              "      <td>4.080950e+07</td>\n",
              "      <td>0.000000e+00</td>\n",
              "      <td>3.522274e+08</td>\n",
              "      <td>10428.000000</td>\n",
              "    </tr>\n",
              "    <tr>\n",
              "      <th>75%</th>\n",
              "      <td>3.480928e+07</td>\n",
              "      <td>480100.000000</td>\n",
              "      <td>3.423423e+07</td>\n",
              "      <td>8.347242e+08</td>\n",
              "      <td>5.825286e+08</td>\n",
              "      <td>0.000000e+00</td>\n",
              "      <td>7.211467e+08</td>\n",
              "      <td>13197.000000</td>\n",
              "    </tr>\n",
              "    <tr>\n",
              "      <th>max</th>\n",
              "      <td>4.415618e+07</td>\n",
              "      <td>527408.000000</td>\n",
              "      <td>4.347552e+07</td>\n",
              "      <td>1.014104e+09</td>\n",
              "      <td>9.271864e+08</td>\n",
              "      <td>1.068596e+08</td>\n",
              "      <td>8.830745e+08</td>\n",
              "      <td>13197.000000</td>\n",
              "    </tr>\n",
              "  </tbody>\n",
              "</table>\n",
              "</div>\n",
              "      <button class=\"colab-df-convert\" onclick=\"convertToInteractive('df-056c0dc3-e04e-4548-bd8f-08cec86c0a10')\"\n",
              "              title=\"Convert this dataframe to an interactive table.\"\n",
              "              style=\"display:none;\">\n",
              "        \n",
              "  <svg xmlns=\"http://www.w3.org/2000/svg\" height=\"24px\"viewBox=\"0 0 24 24\"\n",
              "       width=\"24px\">\n",
              "    <path d=\"M0 0h24v24H0V0z\" fill=\"none\"/>\n",
              "    <path d=\"M18.56 5.44l.94 2.06.94-2.06 2.06-.94-2.06-.94-.94-2.06-.94 2.06-2.06.94zm-11 1L8.5 8.5l.94-2.06 2.06-.94-2.06-.94L8.5 2.5l-.94 2.06-2.06.94zm10 10l.94 2.06.94-2.06 2.06-.94-2.06-.94-.94-2.06-.94 2.06-2.06.94z\"/><path d=\"M17.41 7.96l-1.37-1.37c-.4-.4-.92-.59-1.43-.59-.52 0-1.04.2-1.43.59L10.3 9.45l-7.72 7.72c-.78.78-.78 2.05 0 2.83L4 21.41c.39.39.9.59 1.41.59.51 0 1.02-.2 1.41-.59l7.78-7.78 2.81-2.81c.8-.78.8-2.07 0-2.86zM5.41 20L4 18.59l7.72-7.72 1.47 1.35L5.41 20z\"/>\n",
              "  </svg>\n",
              "      </button>\n",
              "      \n",
              "  <style>\n",
              "    .colab-df-container {\n",
              "      display:flex;\n",
              "      flex-wrap:wrap;\n",
              "      gap: 12px;\n",
              "    }\n",
              "\n",
              "    .colab-df-convert {\n",
              "      background-color: #E8F0FE;\n",
              "      border: none;\n",
              "      border-radius: 50%;\n",
              "      cursor: pointer;\n",
              "      display: none;\n",
              "      fill: #1967D2;\n",
              "      height: 32px;\n",
              "      padding: 0 0 0 0;\n",
              "      width: 32px;\n",
              "    }\n",
              "\n",
              "    .colab-df-convert:hover {\n",
              "      background-color: #E2EBFA;\n",
              "      box-shadow: 0px 1px 2px rgba(60, 64, 67, 0.3), 0px 1px 3px 1px rgba(60, 64, 67, 0.15);\n",
              "      fill: #174EA6;\n",
              "    }\n",
              "\n",
              "    [theme=dark] .colab-df-convert {\n",
              "      background-color: #3B4455;\n",
              "      fill: #D2E3FC;\n",
              "    }\n",
              "\n",
              "    [theme=dark] .colab-df-convert:hover {\n",
              "      background-color: #434B5C;\n",
              "      box-shadow: 0px 1px 3px 1px rgba(0, 0, 0, 0.15);\n",
              "      filter: drop-shadow(0px 1px 2px rgba(0, 0, 0, 0.3));\n",
              "      fill: #FFFFFF;\n",
              "    }\n",
              "  </style>\n",
              "\n",
              "      <script>\n",
              "        const buttonEl =\n",
              "          document.querySelector('#df-056c0dc3-e04e-4548-bd8f-08cec86c0a10 button.colab-df-convert');\n",
              "        buttonEl.style.display =\n",
              "          google.colab.kernel.accessAllowed ? 'block' : 'none';\n",
              "\n",
              "        async function convertToInteractive(key) {\n",
              "          const element = document.querySelector('#df-056c0dc3-e04e-4548-bd8f-08cec86c0a10');\n",
              "          const dataTable =\n",
              "            await google.colab.kernel.invokeFunction('convertToInteractive',\n",
              "                                                     [key], {});\n",
              "          if (!dataTable) return;\n",
              "\n",
              "          const docLinkHtml = 'Like what you see? Visit the ' +\n",
              "            '<a target=\"_blank\" href=https://colab.research.google.com/notebooks/data_table.ipynb>data table notebook</a>'\n",
              "            + ' to learn more about interactive tables.';\n",
              "          element.innerHTML = '';\n",
              "          dataTable['output_type'] = 'display_data';\n",
              "          await google.colab.output.renderOutput(dataTable, element);\n",
              "          const docLink = document.createElement('div');\n",
              "          docLink.innerHTML = docLinkHtml;\n",
              "          element.appendChild(docLink);\n",
              "        }\n",
              "      </script>\n",
              "    </div>\n",
              "  </div>\n",
              "  "
            ]
          },
          "metadata": {},
          "execution_count": 71
        }
      ]
    },
    {
      "cell_type": "code",
      "source": [
        "import matplotlib.pyplot as pyp\n",
        "import seaborn as sns"
      ],
      "metadata": {
        "id": "30u7BAXhPssR"
      },
      "execution_count": null,
      "outputs": []
    },
    {
      "cell_type": "markdown",
      "source": [
        "### Boxplot"
      ],
      "metadata": {
        "id": "PK9KU0TNQ7UT"
      }
    },
    {
      "cell_type": "code",
      "source": [
        "sns.boxplot(x=TT_confirmed)"
      ],
      "metadata": {
        "colab": {
          "base_uri": "https://localhost:8080/",
          "height": 283
        },
        "id": "K6IXtOpDQAx-",
        "outputId": "93c372a4-d708-49ab-846c-c8b700a75016"
      },
      "execution_count": null,
      "outputs": [
        {
          "output_type": "execute_result",
          "data": {
            "text/plain": [
              "<matplotlib.axes._subplots.AxesSubplot at 0x7fe04f676290>"
            ]
          },
          "metadata": {},
          "execution_count": 74
        },
        {
          "output_type": "display_data",
          "data": {
            "text/plain": [
              "<Figure size 432x288 with 1 Axes>"
            ],
            "image/png": "[encoded data removed]"
          },
          "metadata": {
            "needs_background": "light"
          }
        }
      ]
    },
    {
      "cell_type": "code",
      "source": [
        "sns.boxplot(x=TT_deceased)"
      ],
      "metadata": {
        "colab": {
          "base_uri": "https://localhost:8080/",
          "height": 283
        },
        "id": "MaKUp5tgQK6l",
        "outputId": "5f784856-0fe1-442b-90a8-375b48f6a1ec"
      },
      "execution_count": null,
      "outputs": [
        {
          "output_type": "execute_result",
          "data": {
            "text/plain": [
              "<matplotlib.axes._subplots.AxesSubplot at 0x7fe04f39a050>"
            ]
          },
          "metadata": {},
          "execution_count": 75
        },
        {
          "output_type": "display_data",
          "data": {
            "text/plain": [
              "<Figure size 432x288 with 1 Axes>"
            ],
            "image/png": "[encoded data removed]"
          },
          "metadata": {
            "needs_background": "light"
          }
        }
      ]
    },
    {
      "cell_type": "code",
      "source": [
        "sns.boxplot(x=TT_recovered)"
      ],
      "metadata": {
        "colab": {
          "base_uri": "https://localhost:8080/",
          "height": 283
        },
        "id": "dS8hDf4ZQQhd",
        "outputId": "8eaa9296-148a-4340-a4ac-88de3e4bd966"
      },
      "execution_count": null,
      "outputs": [
        {
          "output_type": "execute_result",
          "data": {
            "text/plain": [
              "<matplotlib.axes._subplots.AxesSubplot at 0x7fe04f336d10>"
            ]
          },
          "metadata": {},
          "execution_count": 76
        },
        {
          "output_type": "display_data",
          "data": {
            "text/plain": [
              "<Figure size 432x288 with 1 Axes>"
            ],
            "image/png": "[encoded data removed]"
          },
          "metadata": {
            "needs_background": "light"
          }
        }
      ]
    },
    {
      "cell_type": "code",
      "source": [
        "sns.boxplot(x=TT_vaccinated1)"
      ],
      "metadata": {
        "colab": {
          "base_uri": "https://localhost:8080/",
          "height": 296
        },
        "id": "iAI0ptDHQT1y",
        "outputId": "cca5b3ce-35c9-4b47-f03f-ed848e999468"
      },
      "execution_count": null,
      "outputs": [
        {
          "output_type": "execute_result",
          "data": {
            "text/plain": [
              "<matplotlib.axes._subplots.AxesSubplot at 0x7fe04b544ed0>"
            ]
          },
          "metadata": {},
          "execution_count": 78
        },
        {
          "output_type": "display_data",
          "data": {
            "text/plain": [
              "<Figure size 432x288 with 1 Axes>"
            ],
            "image/png": "[encoded data removed]"
          },
          "metadata": {
            "needs_background": "light"
          }
        }
      ]
    },
    {
      "cell_type": "code",
      "source": [
        "sns.boxplot(x=TT_vaccinated2)"
      ],
      "metadata": {
        "colab": {
          "base_uri": "https://localhost:8080/",
          "height": 296
        },
        "id": "D-lXzgzlQZKl",
        "outputId": "8cfe734e-65e8-4bf7-fb13-7e671b98ea9b"
      },
      "execution_count": null,
      "outputs": [
        {
          "output_type": "execute_result",
          "data": {
            "text/plain": [
              "<matplotlib.axes._subplots.AxesSubplot at 0x7fe04b4d4950>"
            ]
          },
          "metadata": {},
          "execution_count": 79
        },
        {
          "output_type": "display_data",
          "data": {
            "text/plain": [
              "<Figure size 432x288 with 1 Axes>"
            ],
            "image/png": "[encoded data removed]"
          },
          "metadata": {
            "needs_background": "light"
          }
        }
      ]
    },
    {
      "cell_type": "code",
      "source": [
        "sns.boxplot(x=TT_vaccinatedpd)"
      ],
      "metadata": {
        "colab": {
          "base_uri": "https://localhost:8080/",
          "height": 296
        },
        "id": "waQVOJnnQ0dY",
        "outputId": "9094608d-fe04-451d-bc46-ce82027332a9"
      },
      "execution_count": null,
      "outputs": [
        {
          "output_type": "execute_result",
          "data": {
            "text/plain": [
              "<matplotlib.axes._subplots.AxesSubplot at 0x7fe04b45ba50>"
            ]
          },
          "metadata": {},
          "execution_count": 80
        },
        {
          "output_type": "display_data",
          "data": {
            "text/plain": [
              "<Figure size 432x288 with 1 Axes>"
            ],
            "image/png": "[encoded data removed]"
          },
          "metadata": {
            "needs_background": "light"
          }
        }
      ]
    },
    {
      "cell_type": "code",
      "source": [
        "sns.boxplot(x=TT_tested)"
      ],
      "metadata": {
        "colab": {
          "base_uri": "https://localhost:8080/",
          "height": 296
        },
        "id": "tZLpz4XVQ3FH",
        "outputId": "be04380e-8dc6-42fb-da1e-3f09a31de2c3"
      },
      "execution_count": null,
      "outputs": [
        {
          "output_type": "execute_result",
          "data": {
            "text/plain": [
              "<matplotlib.axes._subplots.AxesSubplot at 0x7fe04b55bdd0>"
            ]
          },
          "metadata": {},
          "execution_count": 81
        },
        {
          "output_type": "display_data",
          "data": {
            "text/plain": [
              "<Figure size 432x288 with 1 Axes>"
            ],
            "image/png": "[encoded data removed]"
          },
          "metadata": {
            "needs_background": "light"
          }
        }
      ]
    },
    {
      "cell_type": "code",
      "source": [
        "sns.boxplot(x=TT_other)"
      ],
      "metadata": {
        "colab": {
          "base_uri": "https://localhost:8080/",
          "height": 283
        },
        "id": "WIEuSQhzRE4b",
        "outputId": "906e0e87-a454-4a5b-cf4b-3b0f4d075176"
      },
      "execution_count": null,
      "outputs": [
        {
          "output_type": "execute_result",
          "data": {
            "text/plain": [
              "<matplotlib.axes._subplots.AxesSubplot at 0x7fe04fb40c90>"
            ]
          },
          "metadata": {},
          "execution_count": 82
        },
        {
          "output_type": "display_data",
          "data": {
            "text/plain": [
              "<Figure size 432x288 with 1 Axes>"
            ],
            "image/png": "[encoded data removed]"
          },
          "metadata": {
            "needs_background": "light"
          }
        }
      ]
    },
    {
      "cell_type": "markdown",
      "source": [
        "### Heatmap"
      ],
      "metadata": {
        "id": "KRYVVt0zXL-o"
      }
    },
    {
      "cell_type": "code",
      "source": [
        "plt.figure(figsize=(10,5))\n",
        "c= TT3.corr()\n",
        "sns.heatmap(c,cmap=\"BrBG\",annot=True)\n",
        "c"
      ],
      "metadata": {
        "colab": {
          "base_uri": "https://localhost:8080/",
          "height": 664
        },
        "id": "YnFg1SWZRH1M",
        "outputId": "f1cf4991-200e-40da-ff7e-d7b100577251"
      },
      "execution_count": null,
      "outputs": [
        {
          "output_type": "execute_result",
          "data": {
            "text/plain": [
              "              confirmed  deceased  recovered  vaccinated1  vaccinated2  \\\n",
              "confirmed      1.000000  0.995124   0.998871     0.936947     0.850295   \n",
              "deceased       0.995124  1.000000   0.995534     0.928637     0.823994   \n",
              "recovered      0.998871  0.995534   1.000000     0.943908     0.859141   \n",
              "vaccinated1    0.936947  0.928637   0.943908     1.000000     0.956198   \n",
              "vaccinated2    0.850295  0.823994   0.859141     0.956198     1.000000   \n",
              "vaccinatedpd   0.574137  0.529006   0.583291     0.654365     0.780065   \n",
              "tested         0.988025  0.983131   0.990456     0.969858     0.903344   \n",
              "other          0.976931  0.982526   0.973026     0.874195     0.739184   \n",
              "\n",
              "              vaccinatedpd    tested     other  \n",
              "confirmed         0.574137  0.988025  0.976931  \n",
              "deceased          0.529006  0.983131  0.982526  \n",
              "recovered         0.583291  0.990456  0.973026  \n",
              "vaccinated1       0.654365  0.969858  0.874195  \n",
              "vaccinated2       0.780065  0.903344  0.739184  \n",
              "vaccinatedpd      1.000000  0.620206  0.440257  \n",
              "tested            0.620206  1.000000  0.950649  \n",
              "other             0.440257  0.950649  1.000000  "
            ],
            "text/html": [
              "\n",
              "  <div id=\"df-617ba0bb-33e2-495f-a722-12a36cd5619e\">\n",
              "    <div class=\"colab-df-container\">\n",
              "      <div>\n",
              "<style scoped>\n",
              "    .dataframe tbody tr th:only-of-type {\n",
              "        vertical-align: middle;\n",
              "    }\n",
              "\n",
              "    .dataframe tbody tr th {\n",
              "        vertical-align: top;\n",
              "    }\n",
              "\n",
              "    .dataframe thead th {\n",
              "        text-align: right;\n",
              "    }\n",
              "</style>\n",
              "<table border=\"1\" class=\"dataframe\">\n",
              "  <thead>\n",
              "    <tr style=\"text-align: right;\">\n",
              "      <th></th>\n",
              "      <th>confirmed</th>\n",
              "      <th>deceased</th>\n",
              "      <th>recovered</th>\n",
              "      <th>vaccinated1</th>\n",
              "      <th>vaccinated2</th>\n",
              "      <th>vaccinatedpd</th>\n",
              "      <th>tested</th>\n",
              "      <th>other</th>\n",
              "    </tr>\n",
              "  </thead>\n",
              "  <tbody>\n",
              "    <tr>\n",
              "      <th>confirmed</th>\n",
              "      <td>1.000000</td>\n",
              "      <td>0.995124</td>\n",
              "      <td>0.998871</td>\n",
              "      <td>0.936947</td>\n",
              "      <td>0.850295</td>\n",
              "      <td>0.574137</td>\n",
              "      <td>0.988025</td>\n",
              "      <td>0.976931</td>\n",
              "    </tr>\n",
              "    <tr>\n",
              "      <th>deceased</th>\n",
              "      <td>0.995124</td>\n",
              "      <td>1.000000</td>\n",
              "      <td>0.995534</td>\n",
              "      <td>0.928637</td>\n",
              "      <td>0.823994</td>\n",
              "      <td>0.529006</td>\n",
              "      <td>0.983131</td>\n",
              "      <td>0.982526</td>\n",
              "    </tr>\n",
              "    <tr>\n",
              "      <th>recovered</th>\n",
              "      <td>0.998871</td>\n",
              "      <td>0.995534</td>\n",
              "      <td>1.000000</td>\n",
              "      <td>0.943908</td>\n",
              "      <td>0.859141</td>\n",
              "      <td>0.583291</td>\n",
              "      <td>0.990456</td>\n",
              "      <td>0.973026</td>\n",
              "    </tr>\n",
              "    <tr>\n",
              "      <th>vaccinated1</th>\n",
              "      <td>0.936947</td>\n",
              "      <td>0.928637</td>\n",
              "      <td>0.943908</td>\n",
              "      <td>1.000000</td>\n",
              "      <td>0.956198</td>\n",
              "      <td>0.654365</td>\n",
              "      <td>0.969858</td>\n",
              "      <td>0.874195</td>\n",
              "    </tr>\n",
              "    <tr>\n",
              "      <th>vaccinated2</th>\n",
              "      <td>0.850295</td>\n",
              "      <td>0.823994</td>\n",
              "      <td>0.859141</td>\n",
              "      <td>0.956198</td>\n",
              "      <td>1.000000</td>\n",
              "      <td>0.780065</td>\n",
              "      <td>0.903344</td>\n",
              "      <td>0.739184</td>\n",
              "    </tr>\n",
              "    <tr>\n",
              "      <th>vaccinatedpd</th>\n",
              "      <td>0.574137</td>\n",
              "      <td>0.529006</td>\n",
              "      <td>0.583291</td>\n",
              "      <td>0.654365</td>\n",
              "      <td>0.780065</td>\n",
              "      <td>1.000000</td>\n",
              "      <td>0.620206</td>\n",
              "      <td>0.440257</td>\n",
              "    </tr>\n",
              "    <tr>\n",
              "      <th>tested</th>\n",
              "      <td>0.988025</td>\n",
              "      <td>0.983131</td>\n",
              "      <td>0.990456</td>\n",
              "      <td>0.969858</td>\n",
              "      <td>0.903344</td>\n",
              "      <td>0.620206</td>\n",
              "      <td>1.000000</td>\n",
              "      <td>0.950649</td>\n",
              "    </tr>\n",
              "    <tr>\n",
              "      <th>other</th>\n",
              "      <td>0.976931</td>\n",
              "      <td>0.982526</td>\n",
              "      <td>0.973026</td>\n",
              "      <td>0.874195</td>\n",
              "      <td>0.739184</td>\n",
              "      <td>0.440257</td>\n",
              "      <td>0.950649</td>\n",
              "      <td>1.000000</td>\n",
              "    </tr>\n",
              "  </tbody>\n",
              "</table>\n",
              "</div>\n",
              "      <button class=\"colab-df-convert\" onclick=\"convertToInteractive('df-617ba0bb-33e2-495f-a722-12a36cd5619e')\"\n",
              "              title=\"Convert this dataframe to an interactive table.\"\n",
              "              style=\"display:none;\">\n",
              "        \n",
              "  <svg xmlns=\"http://www.w3.org/2000/svg\" height=\"24px\"viewBox=\"0 0 24 24\"\n",
              "       width=\"24px\">\n",
              "    <path d=\"M0 0h24v24H0V0z\" fill=\"none\"/>\n",
              "    <path d=\"M18.56 5.44l.94 2.06.94-2.06 2.06-.94-2.06-.94-.94-2.06-.94 2.06-2.06.94zm-11 1L8.5 8.5l.94-2.06 2.06-.94-2.06-.94L8.5 2.5l-.94 2.06-2.06.94zm10 10l.94 2.06.94-2.06 2.06-.94-2.06-.94-.94-2.06-.94 2.06-2.06.94z\"/><path d=\"M17.41 7.96l-1.37-1.37c-.4-.4-.92-.59-1.43-.59-.52 0-1.04.2-1.43.59L10.3 9.45l-7.72 7.72c-.78.78-.78 2.05 0 2.83L4 21.41c.39.39.9.59 1.41.59.51 0 1.02-.2 1.41-.59l7.78-7.78 2.81-2.81c.8-.78.8-2.07 0-2.86zM5.41 20L4 18.59l7.72-7.72 1.47 1.35L5.41 20z\"/>\n",
              "  </svg>\n",
              "      </button>\n",
              "      \n",
              "  <style>\n",
              "    .colab-df-container {\n",
              "      display:flex;\n",
              "      flex-wrap:wrap;\n",
              "      gap: 12px;\n",
              "    }\n",
              "\n",
              "    .colab-df-convert {\n",
              "      background-color: #E8F0FE;\n",
              "      border: none;\n",
              "      border-radius: 50%;\n",
              "      cursor: pointer;\n",
              "      display: none;\n",
              "      fill: #1967D2;\n",
              "      height: 32px;\n",
              "      padding: 0 0 0 0;\n",
              "      width: 32px;\n",
              "    }\n",
              "\n",
              "    .colab-df-convert:hover {\n",
              "      background-color: #E2EBFA;\n",
              "      box-shadow: 0px 1px 2px rgba(60, 64, 67, 0.3), 0px 1px 3px 1px rgba(60, 64, 67, 0.15);\n",
              "      fill: #174EA6;\n",
              "    }\n",
              "\n",
              "    [theme=dark] .colab-df-convert {\n",
              "      background-color: #3B4455;\n",
              "      fill: #D2E3FC;\n",
              "    }\n",
              "\n",
              "    [theme=dark] .colab-df-convert:hover {\n",
              "      background-color: #434B5C;\n",
              "      box-shadow: 0px 1px 3px 1px rgba(0, 0, 0, 0.15);\n",
              "      filter: drop-shadow(0px 1px 2px rgba(0, 0, 0, 0.3));\n",
              "      fill: #FFFFFF;\n",
              "    }\n",
              "  </style>\n",
              "\n",
              "      <script>\n",
              "        const buttonEl =\n",
              "          document.querySelector('#df-617ba0bb-33e2-495f-a722-12a36cd5619e button.colab-df-convert');\n",
              "        buttonEl.style.display =\n",
              "          google.colab.kernel.accessAllowed ? 'block' : 'none';\n",
              "\n",
              "        async function convertToInteractive(key) {\n",
              "          const element = document.querySelector('#df-617ba0bb-33e2-495f-a722-12a36cd5619e');\n",
              "          const dataTable =\n",
              "            await google.colab.kernel.invokeFunction('convertToInteractive',\n",
              "                                                     [key], {});\n",
              "          if (!dataTable) return;\n",
              "\n",
              "          const docLinkHtml = 'Like what you see? Visit the ' +\n",
              "            '<a target=\"_blank\" href=https://colab.research.google.com/notebooks/data_table.ipynb>data table notebook</a>'\n",
              "            + ' to learn more about interactive tables.';\n",
              "          element.innerHTML = '';\n",
              "          dataTable['output_type'] = 'display_data';\n",
              "          await google.colab.output.renderOutput(dataTable, element);\n",
              "          const docLink = document.createElement('div');\n",
              "          docLink.innerHTML = docLinkHtml;\n",
              "          element.appendChild(docLink);\n",
              "        }\n",
              "      </script>\n",
              "    </div>\n",
              "  </div>\n",
              "  "
            ]
          },
          "metadata": {},
          "execution_count": 85
        },
        {
          "output_type": "display_data",
          "data": {
            "text/plain": [
              "<Figure size 720x360 with 2 Axes>"
            ],
            "image/png": "[encoded data removed]"
          },
          "metadata": {
            "needs_background": "light"
          }
        }
      ]
    },
    {
      "cell_type": "markdown",
      "source": [
        "### Histogram"
      ],
      "metadata": {
        "id": "ocfJRlZ3XPtb"
      }
    },
    {
      "cell_type": "code",
      "source": [
        "plt.hist(TT_confirmed)"
      ],
      "metadata": {
        "colab": {
          "base_uri": "https://localhost:8080/",
          "height": 337
        },
        "id": "oETXXx0nRTbA",
        "outputId": "6566389a-f2ca-4b08-c5b7-3e5e802cd1b8"
      },
      "execution_count": null,
      "outputs": [
        {
          "output_type": "execute_result",
          "data": {
            "text/plain": [
              "(array([599., 167.,  40.,  17.,  10.,  10.,  19.,   8.,  14.,   9.]),\n",
              " array([     0.,  41428.,  82856., 124284., 165712., 207140., 248568.,\n",
              "        289996., 331424., 372852., 414280.]),\n",
              " <a list of 10 Patch objects>)"
            ]
          },
          "metadata": {},
          "execution_count": 86
        },
        {
          "output_type": "display_data",
          "data": {
            "text/plain": [
              "<Figure size 432x288 with 1 Axes>"
            ],
            "image/png": "[encoded data removed]"
          },
          "metadata": {
            "needs_background": "light"
          }
        }
      ]
    },
    {
      "cell_type": "code",
      "source": [
        "plt.hist(TT_deceased)"
      ],
      "metadata": {
        "colab": {
          "base_uri": "https://localhost:8080/",
          "height": 337
        },
        "id": "JPwAHao0WsyV",
        "outputId": "5ca3aa76-4e48-443e-e29f-f7c5dab03ac6"
      },
      "execution_count": null,
      "outputs": [
        {
          "output_type": "execute_result",
          "data": {
            "text/plain": [
              "(array([659., 155.,  15.,   9.,  12.,  15.,  24.,   3.,   0.,   1.]),\n",
              " array([   0. ,  613.9, 1227.8, 1841.7, 2455.6, 3069.5, 3683.4, 4297.3,\n",
              "        4911.2, 5525.1, 6139. ]),\n",
              " <a list of 10 Patch objects>)"
            ]
          },
          "metadata": {},
          "execution_count": 87
        },
        {
          "output_type": "display_data",
          "data": {
            "text/plain": [
              "<Figure size 432x288 with 1 Axes>"
            ],
            "image/png": "[encoded data removed]"
          },
          "metadata": {
            "needs_background": "light"
          }
        }
      ]
    },
    {
      "cell_type": "code",
      "source": [
        "plt.hist(TT_recovered)"
      ],
      "metadata": {
        "colab": {
          "base_uri": "https://localhost:8080/",
          "height": 337
        },
        "id": "pL4-_LrEXBUF",
        "outputId": "713d22fe-d197-49bd-f513-8583b0d97fe6"
      },
      "execution_count": null,
      "outputs": [
        {
          "output_type": "execute_result",
          "data": {
            "text/plain": [
              "(array([625., 153.,  31.,  14.,  11.,  14.,  15.,  13.,  14.,   3.]),\n",
              " array([     0. ,  42239.1,  84478.2, 126717.3, 168956.4, 211195.5,\n",
              "        253434.6, 295673.7, 337912.8, 380151.9, 422391. ]),\n",
              " <a list of 10 Patch objects>)"
            ]
          },
          "metadata": {},
          "execution_count": 88
        },
        {
          "output_type": "display_data",
          "data": {
            "text/plain": [
              "<Figure size 432x288 with 1 Axes>"
            ],
            "image/png": "[encoded data removed]"
          },
          "metadata": {
            "needs_background": "light"
          }
        }
      ]
    },
    {
      "cell_type": "code",
      "source": [
        "plt.hist(TT_vaccinated1)"
      ],
      "metadata": {
        "colab": {
          "base_uri": "https://localhost:8080/",
          "height": 368
        },
        "id": "kaO3reDGXFKJ",
        "outputId": "2c3ef179-a8be-4ee8-e26a-63891192158e"
      },
      "execution_count": null,
      "outputs": [
        {
          "output_type": "execute_result",
          "data": {
            "text/plain": [
              "(array([612., 136.,  81.,  36.,  19.,   6.,   1.,   1.,   0.,   1.]),\n",
              " array([       0. ,  1348489.3,  2696978.6,  4045467.9,  5393957.2,\n",
              "         6742446.5,  8090935.8,  9439425.1, 10787914.4, 12136403.7,\n",
              "        13484893. ]),\n",
              " <a list of 10 Patch objects>)"
            ]
          },
          "metadata": {},
          "execution_count": 89
        },
        {
          "output_type": "display_data",
          "data": {
            "text/plain": [
              "<Figure size 432x288 with 1 Axes>"
            ],
            "image/png": "[encoded data removed]"
          },
          "metadata": {
            "needs_background": "light"
          }
        }
      ]
    },
    {
      "cell_type": "code",
      "source": [
        "plt.hist(TT_vaccinated2)"
      ],
      "metadata": {
        "colab": {
          "base_uri": "https://localhost:8080/",
          "height": 351
        },
        "id": "of9WtM8EXXva",
        "outputId": "86dd2600-1a9e-4c8e-b538-ec418719889d"
      },
      "execution_count": null,
      "outputs": [
        {
          "output_type": "execute_result",
          "data": {
            "text/plain": [
              "(array([581., 139.,  52.,  47.,  37.,  21.,  12.,   2.,   1.,   1.]),\n",
              " array([      0. ,  939801.8, 1879603.6, 2819405.4, 3759207.2, 4699009. ,\n",
              "        5638810.8, 6578612.6, 7518414.4, 8458216.2, 9398018. ]),\n",
              " <a list of 10 Patch objects>)"
            ]
          },
          "metadata": {},
          "execution_count": 90
        },
        {
          "output_type": "display_data",
          "data": {
            "text/plain": [
              "<Figure size 432x288 with 1 Axes>"
            ],
            "image/png": "[encoded data removed]"
          },
          "metadata": {
            "needs_background": "light"
          }
        }
      ]
    },
    {
      "cell_type": "code",
      "source": [
        "plt.hist(TT_vaccinatedpd)"
      ],
      "metadata": {
        "colab": {
          "base_uri": "https://localhost:8080/",
          "height": 350
        },
        "id": "t3y34LRqXa6T",
        "outputId": "77625020-efe6-455d-a7b4-cdea2c5eb855"
      },
      "execution_count": null,
      "outputs": [
        {
          "output_type": "execute_result",
          "data": {
            "text/plain": [
              "(array([820.,  46.,   5.,   1.,   1.,   3.,   6.,   8.,   1.,   2.]),\n",
              " array([      0. ,  358907.6,  717815.2, 1076722.8, 1435630.4, 1794538. ,\n",
              "        2153445.6, 2512353.2, 2871260.8, 3230168.4, 3589076. ]),\n",
              " <a list of 10 Patch objects>)"
            ]
          },
          "metadata": {},
          "execution_count": 91
        },
        {
          "output_type": "display_data",
          "data": {
            "text/plain": [
              "<Figure size 432x288 with 1 Axes>"
            ],
            "image/png": "[encoded data removed]"
          },
          "metadata": {
            "needs_background": "light"
          }
        }
      ]
    },
    {
      "cell_type": "code",
      "source": [
        "plt.hist(TT_tested)"
      ],
      "metadata": {
        "colab": {
          "base_uri": "https://localhost:8080/",
          "height": 350
        },
        "id": "wNkCMJYAXxjh",
        "outputId": "f4c79392-5659-4944-d2d1-570dac00b8a6"
      },
      "execution_count": null,
      "outputs": [
        {
          "output_type": "execute_result",
          "data": {
            "text/plain": [
              "(array([126., 134.,  66.,  95., 146., 106.,  34.,  52.,  87.,  47.]),\n",
              " array([      0. ,  234108.6,  468217.2,  702325.8,  936434.4, 1170543. ,\n",
              "        1404651.6, 1638760.2, 1872868.8, 2106977.4, 2341086. ]),\n",
              " <a list of 10 Patch objects>)"
            ]
          },
          "metadata": {},
          "execution_count": 92
        },
        {
          "output_type": "display_data",
          "data": {
            "text/plain": [
              "<Figure size 432x288 with 1 Axes>"
            ],
            "image/png": "[encoded data removed]"
          },
          "metadata": {
            "needs_background": "light"
          }
        }
      ]
    },
    {
      "cell_type": "code",
      "source": [
        "plt.hist(TT_other)"
      ],
      "metadata": {
        "colab": {
          "base_uri": "https://localhost:8080/",
          "height": 337
        },
        "id": "ushpi2J2Xzuz",
        "outputId": "7e33dfaf-e235-4bb9-9b08-06316d85b0cd"
      },
      "execution_count": null,
      "outputs": [
        {
          "output_type": "execute_result",
          "data": {
            "text/plain": [
              "(array([  2., 848.,  38.,   3.,   1.,   0.,   0.,   0.,   0.,   1.]),\n",
              " array([-242. ,  -82.2,   77.6,  237.4,  397.2,  557. ,  716.8,  876.6,\n",
              "        1036.4, 1196.2, 1356. ]),\n",
              " <a list of 10 Patch objects>)"
            ]
          },
          "metadata": {},
          "execution_count": 93
        },
        {
          "output_type": "display_data",
          "data": {
            "text/plain": [
              "<Figure size 432x288 with 1 Axes>"
            ],
            "image/png": "[encoded data removed]"
          },
          "metadata": {
            "needs_background": "light"
          }
        }
      ]
    },
    {
      "cell_type": "code",
      "source": [
        ""
      ],
      "metadata": {
        "id": "_TiAidlFX2Sx"
      },
      "execution_count": null,
      "outputs": []
    }
  ]
}